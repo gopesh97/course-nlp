{
 "cells": [
  {
   "cell_type": "markdown",
   "metadata": {},
   "source": [
    "This lesson was adapted from the end of [lesson 3](https://course.fast.ai/videos/?lesson=3) and beginning of [lesson 4](https://course.fast.ai/videos/?lesson=4) of the latest fast.ai Practical Deep Learning for Coders course.  We will cover all the material you need here in this notebook, so no need to have taken the Deep Learning course.  Even if you have taken the DL class, we will go slower and get into more detail here!"
   ]
  },
  {
   "cell_type": "markdown",
   "metadata": {},
   "source": [
    "# Transfer Learning for Natural Language Modeling\n",
    "### Contructing a Language Model and a Sentiment Classifier for IMDB movie reviews"
   ]
  },
  {
   "cell_type": "markdown",
   "metadata": {},
   "source": [
    "Transfer learning has been widely used with great success in computer vision for several years, but only in the last year or so has it been successfully applied to NLP (beginning with ULMFit, which we will use here, which was built upon by BERT and GPT-2).\n",
    "\n",
    "As Sebastian Ruder wrote in [The Gradient](https://thegradient.pub/) last summer, [NLP's ImageNet moment has arrived](https://thegradient.pub/nlp-imagenet/).\n",
    "\n",
    "We will first build a language model for IMDB movie reviews.  Next we will build a sentiment classifier, which will predict whether a review is negative or positive, based on its text. For both of these tasks, we will use **transfer learning**. Starting with the pre-trained weights from the `wikitext-103` language model, we will tune these weights to specialize to the language of `IMDb` movie reviews. "
   ]
  },
  {
   "cell_type": "markdown",
   "metadata": {
    "heading_collapsed": true
   },
   "source": [
    "## Language Models"
   ]
  },
  {
   "cell_type": "markdown",
   "metadata": {
    "hidden": true
   },
   "source": [
    "Language modeling can be a fun creative form. Research scientist [Janelle Shane blogs](https://aiweirdness.com/) & [tweets](https://twitter.com/JanelleCShane) about her creative AI explorations, which often involve text.  For instance, see her:\n",
    "\n",
    "- [Why did the neural network cross the road?](https://aiweirdness.com/post/174691534037/why-did-the-neural-network-cross-the-road)\n",
    "- [Try these neural network-generated recipes at your own risk.](https://aiweirdness.com/post/163878889437/try-these-neural-network-generated-recipes-at-your)\n",
    "- [D&D character bios - now making slightly more sense](https://aiweirdness.com/post/183471928977/dd-character-bios-now-making-slightly-more)"
   ]
  },
  {
   "cell_type": "markdown",
   "metadata": {},
   "source": [
    "## Using a GPU"
   ]
  },
  {
   "cell_type": "markdown",
   "metadata": {},
   "source": [
    "You will need to have the fastai library installed for this lesson, and you will want to use a GPU to train your neural net.  If you don't have a GPU you can use in your computer (currently, only Nvidia GPUs are fully supported by the main deep learning libraries), no worries!  There are a number of cloud options you can consider:\n",
    "\n",
    "[GPU Cloud Options](https://course.fast.ai/#using-a-gpu)\n",
    "\n",
    "**Reminder: If you are using a cloud GPU, always be sure to shut it down when you are done!!! Otherwise, you could end up with an expensive bill!**"
   ]
  },
  {
   "cell_type": "code",
   "execution_count": 1,
   "metadata": {},
   "outputs": [],
   "source": [
    "%reload_ext autoreload\n",
    "%autoreload 2\n",
    "%matplotlib inline"
   ]
  },
  {
   "cell_type": "code",
   "execution_count": 100,
   "metadata": {},
   "outputs": [],
   "source": [
    "import warnings\n",
    "warnings.filterwarnings('ignore')"
   ]
  },
  {
   "cell_type": "code",
   "execution_count": 2,
   "metadata": {},
   "outputs": [],
   "source": [
    "from fastai import *\n",
    "from fastai.text import *\n",
    "from scipy.spatial.distance import cosine as dist"
   ]
  },
  {
   "cell_type": "markdown",
   "metadata": {},
   "source": [
    "Note that language models can use a lot of GPU, so you may need to decrease batchsize here."
   ]
  },
  {
   "cell_type": "code",
   "execution_count": 3,
   "metadata": {},
   "outputs": [],
   "source": [
    "# bs=192\n",
    "bs=48\n",
    "# bs=24"
   ]
  },
  {
   "cell_type": "markdown",
   "metadata": {},
   "source": [
    "### Fix this line: should be `device(0)` instead of `device(2)`"
   ]
  },
  {
   "cell_type": "code",
   "execution_count": 4,
   "metadata": {},
   "outputs": [],
   "source": [
    "#torch.cuda.set_device(2)\n",
    "torch.cuda.set_device(0)"
   ]
  },
  {
   "cell_type": "markdown",
   "metadata": {
    "heading_collapsed": true
   },
   "source": [
    "## 1. Prepare the IMDb data (on a sample)"
   ]
  },
  {
   "cell_type": "markdown",
   "metadata": {
    "hidden": true
   },
   "source": [
    "First let's download the dataset we are going to study. The `IMDb` [dataset](http://ai.stanford.edu/~amaas/data/sentiment/) has been curated by Andrew Maas et al. and contains a total of 100,000 reviews on IMDB. 25,000 of them are labelled as positive and negative for training, another 25,000 are labelled for testing (in both cases they are highly polarized). The remaning 50,000 is an additional unlabelled data (but we will find a use for it nonetheless).\n",
    "\n",
    "We'll begin with a sample we've prepared for you, so that things run quickly before going over the full dataset."
   ]
  },
  {
   "cell_type": "code",
   "execution_count": 5,
   "metadata": {
    "hidden": true
   },
   "outputs": [
    {
     "data": {
      "text/plain": [
       "[PosixPath('/root/.fastai/data/imdb_sample/texts.csv')]"
      ]
     },
     "execution_count": 5,
     "metadata": {},
     "output_type": "execute_result"
    }
   ],
   "source": [
    "path = untar_data(URLs.IMDB_SAMPLE)\n",
    "path.ls()"
   ]
  },
  {
   "cell_type": "markdown",
   "metadata": {
    "hidden": true
   },
   "source": [
    "It only contains one csv file, let's have a look at it."
   ]
  },
  {
   "cell_type": "markdown",
   "metadata": {
    "hidden": true
   },
   "source": [
    "It contains one line per review, with the label ('negative' or 'positive'), the text and a flag to determine if it should be part of the validation set or the training set. If we ignore this flag, we can create a `DataBunch` containing this data in one line of code:"
   ]
  },
  {
   "cell_type": "markdown",
   "metadata": {},
   "source": [
    "### Load and preprocess the data and form a `databunch`\n",
    "Add workaround for the bug in the `fastai Text API`"
   ]
  },
  {
   "cell_type": "code",
   "execution_count": 8,
   "metadata": {},
   "outputs": [
    {
     "data": {
      "text/html": [
       "<div>\n",
       "<style scoped>\n",
       "    .dataframe tbody tr th:only-of-type {\n",
       "        vertical-align: middle;\n",
       "    }\n",
       "\n",
       "    .dataframe tbody tr th {\n",
       "        vertical-align: top;\n",
       "    }\n",
       "\n",
       "    .dataframe thead th {\n",
       "        text-align: right;\n",
       "    }\n",
       "</style>\n",
       "<table border=\"1\" class=\"dataframe\">\n",
       "  <thead>\n",
       "    <tr style=\"text-align: right;\">\n",
       "      <th></th>\n",
       "      <th>label</th>\n",
       "      <th>text</th>\n",
       "      <th>is_valid</th>\n",
       "    </tr>\n",
       "  </thead>\n",
       "  <tbody>\n",
       "    <tr>\n",
       "      <th>0</th>\n",
       "      <td>negative</td>\n",
       "      <td>Un-bleeping-believable! Meg Ryan doesn't even ...</td>\n",
       "      <td>False</td>\n",
       "    </tr>\n",
       "    <tr>\n",
       "      <th>1</th>\n",
       "      <td>positive</td>\n",
       "      <td>This is a extremely well-made film. The acting...</td>\n",
       "      <td>False</td>\n",
       "    </tr>\n",
       "    <tr>\n",
       "      <th>2</th>\n",
       "      <td>negative</td>\n",
       "      <td>Every once in a long while a movie will come a...</td>\n",
       "      <td>False</td>\n",
       "    </tr>\n",
       "    <tr>\n",
       "      <th>3</th>\n",
       "      <td>positive</td>\n",
       "      <td>Name just says it all. I watched this movie wi...</td>\n",
       "      <td>False</td>\n",
       "    </tr>\n",
       "    <tr>\n",
       "      <th>4</th>\n",
       "      <td>negative</td>\n",
       "      <td>This movie succeeds at being one of the most u...</td>\n",
       "      <td>False</td>\n",
       "    </tr>\n",
       "  </tbody>\n",
       "</table>\n",
       "</div>"
      ],
      "text/plain": [
       "      label                                               text  is_valid\n",
       "0  negative  Un-bleeping-believable! Meg Ryan doesn't even ...     False\n",
       "1  positive  This is a extremely well-made film. The acting...     False\n",
       "2  negative  Every once in a long while a movie will come a...     False\n",
       "3  positive  Name just says it all. I watched this movie wi...     False\n",
       "4  negative  This movie succeeds at being one of the most u...     False"
      ]
     },
     "execution_count": 8,
     "metadata": {},
     "output_type": "execute_result"
    }
   ],
   "source": [
    "## Just to know how the csv looks\n",
    "df = pd.read_csv(path/'texts.csv')\n",
    "df.head()"
   ]
  },
  {
   "cell_type": "code",
   "execution_count": 10,
   "metadata": {},
   "outputs": [
    {
     "data": {
      "text/plain": [
       "False    800\n",
       "True     200\n",
       "Name: is_valid, dtype: int64"
      ]
     },
     "execution_count": 10,
     "metadata": {},
     "output_type": "execute_result"
    }
   ],
   "source": [
    "df['is_valid'].value_counts()\n"
   ]
  },
  {
   "cell_type": "code",
   "execution_count": 9,
   "metadata": {
    "hidden": true
   },
   "outputs": [
    {
     "data": {
      "text/html": [],
      "text/plain": [
       "<IPython.core.display.HTML object>"
      ]
     },
     "metadata": {},
     "output_type": "display_data"
    },
    {
     "data": {
      "text/html": [],
      "text/plain": [
       "<IPython.core.display.HTML object>"
      ]
     },
     "metadata": {},
     "output_type": "display_data"
    },
    {
     "name": "stdout",
     "output_type": "stream",
     "text": [
      "failure count is 0\n",
      "\n",
      "CPU times: user 421 ms, sys: 376 ms, total: 796 ms\n",
      "Wall time: 2.71 s\n"
     ]
    }
   ],
   "source": [
    "%%time\n",
    "\n",
    "# throws `BrokenProcessPool' Error sometimes. Keep trying `till it works!\n",
    "count = 0\n",
    "error = True\n",
    "while error:\n",
    "    try: \n",
    "        # Preprocessing steps\n",
    "        # 👇👇👇👇👇👇👇👇👇👇 main step\n",
    "        \n",
    "        data_lm = TextDataBunch.from_csv(path, 'texts.csv')\n",
    "        \n",
    "        # 👆👆👆👆👆👆👆👆👆👆\n",
    "        error = False\n",
    "        print(f'failure count is {count}\\n')    \n",
    "    except: # catch *all* exceptions\n",
    "        # accumulate failure count\n",
    "        count = count + 1\n",
    "        print(f'failure count is {count}')"
   ]
  },
  {
   "cell_type": "markdown",
   "metadata": {
    "hidden": true
   },
   "source": [
    "By executing this line a process was launched that took a bit of time. Let's dig a bit into it. Images could be fed (almost) directly into a model because they're just a big array of pixel values that are floats between 0 and 1. A text is composed of words, and we can't apply mathematical functions to them directly. We first have to convert them to numbers. This is done in two differents steps: tokenization and numericalization. A `TextDataBunch` does all of that behind the scenes for you."
   ]
  },
  {
   "cell_type": "markdown",
   "metadata": {
    "heading_collapsed": true,
    "hidden": true
   },
   "source": [
    "### Tokenization"
   ]
  },
  {
   "cell_type": "markdown",
   "metadata": {
    "hidden": true
   },
   "source": [
    "The first step of processing we make texts go through is to split the raw sentences into words, or more exactly tokens. The easiest way to do this would be to split the string on spaces, but we can be smarter:\n",
    "\n",
    "- we need to take care of punctuation\n",
    "- some words are contractions of two different words, like isn't or don't\n",
    "- we may need to clean some parts of our texts, if there's HTML code for instance\n",
    "\n",
    "To see what the tokenizer had done behind the scenes, let's have a look at a few texts in a batch."
   ]
  },
  {
   "cell_type": "markdown",
   "metadata": {
    "hidden": true
   },
   "source": [
    "The texts are truncated at 100 tokens for more readability. We can see that it did more than just split on space and punctuation symbols: \n",
    "- the \"'s\" are grouped together in one token\n",
    "- the contractions are separated like his: \"did\", \"n't\"\n",
    "- content has been cleaned for any HTML symbol and lower cased\n",
    "- there are several special tokens (all those that begin by xx), to replace unkown tokens (see below) or to introduce different text fields (here we only have one)."
   ]
  },
  {
   "cell_type": "markdown",
   "metadata": {
    "heading_collapsed": true,
    "hidden": true
   },
   "source": [
    "### Numericalization"
   ]
  },
  {
   "cell_type": "markdown",
   "metadata": {
    "hidden": true
   },
   "source": [
    "Once we have extracted tokens from our texts, we convert to integers by creating a list of all the words used. We only keep the ones that appear at list twice with a maximum vocabulary size of 60,000 (by default) and replace the ones that don't make the cut by the unknown token `UNK`.\n",
    "\n",
    "The correspondance from ids tokens is stored in the `vocab` attribute of our datasets, in a python list called `itos` (for int to string)."
   ]
  },
  {
   "cell_type": "code",
   "execution_count": 10,
   "metadata": {
    "hidden": true
   },
   "outputs": [
    {
     "data": {
      "text/plain": [
       "['xxunk',\n",
       " 'xxpad',\n",
       " 'xxbos',\n",
       " 'xxeos',\n",
       " 'xxfld',\n",
       " 'xxmaj',\n",
       " 'xxup',\n",
       " 'xxrep',\n",
       " 'xxwrep',\n",
       " 'the']"
      ]
     },
     "execution_count": 10,
     "metadata": {},
     "output_type": "execute_result"
    }
   ],
   "source": [
    "data_lm.vocab.itos[:10]"
   ]
  },
  {
   "cell_type": "markdown",
   "metadata": {
    "hidden": true
   },
   "source": [
    "And if we look at what a what's in our datasets, we'll see the tokenized text as a representation:"
   ]
  },
  {
   "cell_type": "code",
   "execution_count": 11,
   "metadata": {},
   "outputs": [
    {
     "data": {
      "text/plain": [
       "(Text [   2    5   98   10 ...   12 1315 2445   11], Category 0)"
      ]
     },
     "execution_count": 11,
     "metadata": {},
     "output_type": "execute_result"
    }
   ],
   "source": [
    "data_lm.train_ds[0]"
   ]
  },
  {
   "cell_type": "code",
   "execution_count": 12,
   "metadata": {
    "hidden": true
   },
   "outputs": [
    {
     "data": {
      "text/plain": [
       "Text [   2    5   98   10 ...   12 1315 2445   11]"
      ]
     },
     "execution_count": 12,
     "metadata": {},
     "output_type": "execute_result"
    }
   ],
   "source": [
    "data_lm.train_ds[0][0]"
   ]
  },
  {
   "cell_type": "markdown",
   "metadata": {
    "hidden": true
   },
   "source": [
    "But the underlying data is all numbers"
   ]
  },
  {
   "cell_type": "code",
   "execution_count": 13,
   "metadata": {
    "hidden": true
   },
   "outputs": [
    {
     "data": {
      "text/plain": [
       "array([  2,   5,  98,  10,  65,  84,  19, 151,  11,  26])"
      ]
     },
     "execution_count": 13,
     "metadata": {},
     "output_type": "execute_result"
    }
   ],
   "source": [
    "data_lm.train_ds[0][0].data[:10]"
   ]
  },
  {
   "cell_type": "code",
   "execution_count": 14,
   "metadata": {},
   "outputs": [
    {
     "data": {
      "text/plain": [
       "'xxbos xxmaj well , what can i say . \\n \\n  \" xxmaj what the xxmaj bleep do we xxmaj know \" has achieved the nearly impossible - leaving behind such masterpieces of the genre as \" xxmaj the xxmaj postman \" , \" xxmaj the xxmaj dungeon xxmaj master \" , \" xxmaj merlin \" , and so fourth , it will go down in history as the single worst movie i have ever seen in its entirety . xxmaj and that , ladies and gentlemen , is impressive indeed , for i have seen many a bad movie . \\n \\n  xxmaj this masterpiece of modern cinema consists of two interwoven parts , xxunk between a silly and contrived plot about an extremely annoying photographer , abandoned by her husband and forced to take anti - xxunk to survive , and a bunch of talking heads going on about how quantum physics supposedly xxunk their new - xxunk pseudo - philosophy . xxmaj basically , if you start your day off xxunk to the likes of xxmaj enya and xxmaj kenny g , this movie is for you . xxmaj if you have a sense of humor , a crowd of people who know how to have fun , and a sizable portion of good xxunk , then this movie is for you as well . xxmaj otherwise , stay away . xxmaj take my word for it . \\n \\n  xxmaj the first thing that struck me about \" xxmaj what the xxmaj bleep do you xxmaj know \" is that is seemed to be edited and put together by the same kinds of people that shoot cheap weddings on camera , complete with pink heart effects , computer - xxunk xxunk across the screen , and other assorted silliness . xxmaj who let these people anywhere near a theatrical release is a mystery to me . i guess this is what too much xxmaj kenny g does to you . xxmaj the movie was xxunk with cheesy xxup xxunk , the likes that you or i can produce on our own computer via over - the - counter video editing software , but never would , because it \\'s just way too ridiculous . \\n \\n  xxmaj the script was _ obviously _ written by someone with no writing experience whatsoever . xxmaj not only were all the characters and conversations xxunk and contrived beyond belief , but the \" writers \" felt like they had to xxunk every relevant piece of information , or rather xxunk , which is what most of this movie was all about , all the way down your xxunk . xxmaj well , given the target audience , that may not have been too bad of an idea . xxmaj the main character , for example , spends half the movie popping pills . xxmaj apparently , though , it was deemed not convincing enough , so there are at least a couple of dialogs in throughout , which refer to her anti - anxiety pills specifically , just in case the viewers should not be able to connect her overacted pain and suffering with little white pills she takes whenever she feels down . xxmaj the acting ... xxmaj well , i \\'ve seen better acting in xxmaj ed xxmaj wood movies , and no , this is not an exaggeration . xxmaj heck , the little play i was in when i was 12 featured much more inspiring acting than this . xxmaj it really did . \\n \\n  xxmaj the story is interrupted here and there with a bunch or random talking heads , a strange mix of kooky scientists , kooky doctors , and self - proclaimed xxunk , go on and on about how quantum physics supposedly provides an \" explanation \" for how ever man or woman created their own reality just by participating in the experience of life . xxmaj reality , you see , is a xxunk - field of a bunch of different possibilities , and is only set in stone once you the xxmaj observer chose to notice it . xxmaj what happens when more than one xxmaj observer xxmaj xxunk they did n\\'t say , but then again who cares . xxmaj listen to xxmaj enya , xxunk , xxmaj observe , and you shall be xxmaj god , and nobody gives a damn about such silly and archaic things as critical thinking , logic , etc . xxmaj all reason is immediately xxunk as people being stuck in their ways and unable to achieve a \" xxunk shift \" and \" go down the rabbit hole \" . xxmaj furthermore , the xxmaj xxunk xxmaj xxunk xxmaj principle supposedly is proof positive of alternate realities , parallel xxunk , and such . \\n \\n  xxmaj speaking of rabbit holes , the xxunk permeates the movie . xxmaj all of these people keep talking about going down rabbit holes . i \\'m not sure what that had to do with anything else they were saying or showing , but one thing i \\'m certain of is that it somehow involves anal sex . xxmaj actually , the movie is _ extremely _ anti - sex . xxmaj throughout , sex is presented as dirty , ugly , and anti - enlightening . \\n \\n  xxmaj in any case , the talking heads talk , the main character achieves harmony and enlightenment by painting hearts all over her body with a magic marker , and proceeds to walk around with an even xxunk look in her xxunk over eyes than she started with . \\n \\n  i want 2 hours of my life back . \\n \\n  xxmaj here \\'s a couple of random xxunk which i happened to remember : \\n \\n  \" xxmaj what i think of as unreal has become a lot more real to me , and that , which i used to consider real , is xxunk a lot less real than the unreal . \" - xxmaj some talking head on the xxunk of quantum physics . \\n \\n  \" xxmaj what does it take for one man to have an erection ? xxmaj it takes just one thought . xxmaj nothing changes on the outside , all the changes are within . xxmaj an yet he has an erection \" - xxmaj some self proclaimed xxunk , head of her own school of enlightenment . \\n \\n  [ while looking at herself in the mirror ] \" i hate you ! i hate you ! xxmaj you \\'re fat ! xxmaj you \\'re ugly ! i have you ! \" - main character , the fat and ugly photographer .'"
      ]
     },
     "execution_count": 14,
     "metadata": {},
     "output_type": "execute_result"
    }
   ],
   "source": [
    "data_lm.train_ds[0][0].text"
   ]
  },
  {
   "cell_type": "markdown",
   "metadata": {
    "heading_collapsed": true,
    "hidden": true
   },
   "source": [
    "### Alternative approach: with the `data block API`"
   ]
  },
  {
   "cell_type": "markdown",
   "metadata": {
    "hidden": true
   },
   "source": [
    "We can use the data block API with NLP and have a lot more flexibility than what the default factory methods offer. In the previous example for instance, the data was randomly split between train and validation instead of reading the third column of the csv.\n",
    "\n",
    "With the data block API though, we have to manually call the tokenize and numericalize steps. This allows more flexibility, and if you're not using the defaults from fastai, the various arguments to pass will appear in the step they're revelant, so it'll be more readable."
   ]
  },
  {
   "cell_type": "markdown",
   "metadata": {},
   "source": [
    "### Load and preprocess the data and form a `datablock`\n",
    "Add workaround for the bug in the `fastai Text API`"
   ]
  },
  {
   "cell_type": "code",
   "execution_count": 15,
   "metadata": {
    "hidden": true
   },
   "outputs": [
    {
     "data": {
      "text/html": [],
      "text/plain": [
       "<IPython.core.display.HTML object>"
      ]
     },
     "metadata": {},
     "output_type": "display_data"
    },
    {
     "data": {
      "text/html": [],
      "text/plain": [
       "<IPython.core.display.HTML object>"
      ]
     },
     "metadata": {},
     "output_type": "display_data"
    },
    {
     "name": "stdout",
     "output_type": "stream",
     "text": [
      "failure count is 0\n",
      "\n",
      "CPU times: user 625 ms, sys: 414 ms, total: 1.04 s\n",
      "Wall time: 2.79 s\n"
     ]
    }
   ],
   "source": [
    "%%time\n",
    "\n",
    "# throws `BrokenProcessPool' Error sometimes. Keep trying `till it works!\n",
    "count = 0\n",
    "error = True\n",
    "while error:\n",
    "    try: \n",
    "        # Preprocessing steps\n",
    "        data = (TextList.from_csv(path, 'texts.csv', cols='text')\n",
    "                .split_from_df(col=2)\n",
    "                .label_from_df(cols=0)\n",
    "                .databunch())        \n",
    "        error = False\n",
    "        print(f'failure count is {count}\\n')    \n",
    "    except: # catch *all* exceptions\n",
    "        # accumulate failure count\n",
    "        count = count + 1\n",
    "        print(f'failure count is {count}')"
   ]
  },
  {
   "cell_type": "markdown",
   "metadata": {},
   "source": [
    "## 2. Transfer Learning <br>\n",
    "### We are going to create an `IMDb` language model starting with the pretrained weights from the `wikitext-103` language model."
   ]
  },
  {
   "cell_type": "markdown",
   "metadata": {},
   "source": [
    "Now let's grab the full `IMDb` dataset for what follows."
   ]
  },
  {
   "cell_type": "code",
   "execution_count": 16,
   "metadata": {},
   "outputs": [
    {
     "name": "stdout",
     "output_type": "stream",
     "text": [
      "Downloading https://s3.amazonaws.com/fast-ai-nlp/imdb.tgz\n"
     ]
    },
    {
     "data": {
      "text/html": [],
      "text/plain": [
       "<IPython.core.display.HTML object>"
      ]
     },
     "metadata": {},
     "output_type": "display_data"
    },
    {
     "data": {
      "text/plain": [
       "[PosixPath('/root/.fastai/data/imdb/tmp_clas'),\n",
       " PosixPath('/root/.fastai/data/imdb/imdb.vocab'),\n",
       " PosixPath('/root/.fastai/data/imdb/README'),\n",
       " PosixPath('/root/.fastai/data/imdb/tmp_lm'),\n",
       " PosixPath('/root/.fastai/data/imdb/unsup'),\n",
       " PosixPath('/root/.fastai/data/imdb/train'),\n",
       " PosixPath('/root/.fastai/data/imdb/test')]"
      ]
     },
     "execution_count": 16,
     "metadata": {},
     "output_type": "execute_result"
    }
   ],
   "source": [
    "path = untar_data(URLs.IMDB)\n",
    "path.ls()"
   ]
  },
  {
   "cell_type": "code",
   "execution_count": 17,
   "metadata": {},
   "outputs": [
    {
     "data": {
      "text/plain": [
       "[PosixPath('/root/.fastai/data/imdb/train/neg'),\n",
       " PosixPath('/root/.fastai/data/imdb/train/pos'),\n",
       " PosixPath('/root/.fastai/data/imdb/train/unsupBow.feat'),\n",
       " PosixPath('/root/.fastai/data/imdb/train/labeledBow.feat')]"
      ]
     },
     "execution_count": 17,
     "metadata": {},
     "output_type": "execute_result"
    }
   ],
   "source": [
    "(path/'train').ls()"
   ]
  },
  {
   "cell_type": "markdown",
   "metadata": {},
   "source": [
    "The reviews are in a training and test set following an imagenet structure. The only difference is that there is an `unsup` folder that contains the unlabelled data.\n",
    "\n",
    "We're not going to train a model that classifies the reviews from scratch. Like in computer vision, we'll use a model pretrained on a bigger dataset (a cleaned subset of wikipedia called [wikitext-103](https://s3.amazonaws.com/research.metamind.io/wikitext/wikitext-103-v1.zip)). That model has been trained to guess what the next word, its input being all the previous words. It has a recurrent structure and a hidden state that is updated each time it sees a new word. This hidden state thus contains information about the sentence up to that point.\n",
    "\n",
    "We are going to use that 'knowledge' of the English language to build our classifier, but first, like for computer vision, we need to fine-tune the pretrained model to our particular dataset. Because the English of the reviews left by people on IMDB isn't the same as the English of wikipedia, we'll need to adjust a little bit the parameters of our model. Plus there might be some words extremely common in that dataset that were barely present in wikipedia, and therefore might no be part of the vocabulary the model was trained on."
   ]
  },
  {
   "cell_type": "markdown",
   "metadata": {},
   "source": [
    "**train/pos has 12500 reviews, similarly , test/pos, train/neg, test/neg. Each review is stored in a separate .txt file\n",
    "unsup has 50000 .txt files, each having one review**\n"
   ]
  },
  {
   "cell_type": "markdown",
   "metadata": {
    "heading_collapsed": true
   },
   "source": [
    "### More about WikiText-103"
   ]
  },
  {
   "cell_type": "markdown",
   "metadata": {
    "hidden": true
   },
   "source": [
    "We will be using the `WikiText-103` dataset created by [Stephen Merity](https://smerity.com/) to pre-train a language model.\n",
    "\n",
    "To quote [Stephen's post](https://blog.einstein.ai/the-wikitext-long-term-dependency-language-modeling-dataset/):\n",
    "\n",
    "*The WikiText language modeling dataset is a collection of over 100 million tokens extracted from the set of verified Good and Featured articles on Wikipedia. The dataset is available under the Creative Commons Attribution-ShareAlike License.*\n",
    "\n",
    "*Compared to the preprocessed version of Penn Treebank (PTB), WikiText-2 is over 2 times larger and WikiText-103 is over 110 times larger. The WikiText dataset also features a far larger vocabulary and retains the original case, punctuation and numbers - all of which are removed in PTB. As it is composed of full articles, the dataset is well suited for models that can take advantage of long term dependencies.*"
   ]
  },
  {
   "cell_type": "markdown",
   "metadata": {},
   "source": [
    "[Download wikitext-103](https://s3.amazonaws.com/research.metamind.io/wikitext/wikitext-103-v1.zip). Unzip it into the `.fastai/data/` folder on your computer."
   ]
  },
  {
   "cell_type": "markdown",
   "metadata": {
    "heading_collapsed": true
   },
   "source": [
    "### 2A. Package the `IMDb` data into a language model `databunch`"
   ]
  },
  {
   "cell_type": "markdown",
   "metadata": {
    "hidden": true
   },
   "source": [
    "This is where the unlabelled data is going to be useful to us, as we can use it to fine-tune our model. Let's create our data object with the data block API (this takes a few minutes).\n",
    "\n",
    "We'll to use a special kind of `TextDataBunch` for the language model, that ignores the labels (that's why we put 0 everywhere), will shuffle the texts at each epoch before concatenating them all together (only for training; we don't shuffle for the validation set) and will send batches that read that text in order with targets that are the next word in the sentence.\n",
    "\n",
    "Add a `try-except` wrapper as a workaround for the bug in the `fastai Text API`"
   ]
  },
  {
   "cell_type": "code",
   "execution_count": 18,
   "metadata": {
    "hidden": true
   },
   "outputs": [
    {
     "name": "stdout",
     "output_type": "stream",
     "text": [
      "failure count is 0\n",
      "\n",
      "CPU times: user 2.42 s, sys: 33.9 ms, total: 2.46 s\n",
      "Wall time: 2.45 s\n"
     ]
    }
   ],
   "source": [
    "%%time\n",
    "\n",
    "# throws `BrokenProcessPool` Error sometimes. Keep trying `till it works!\n",
    "count = 0\n",
    "error = True\n",
    "while error:\n",
    "    try: \n",
    "        # Preprocessing steps\n",
    "        data_lm = (TextList.from_folder(path)\n",
    "           #Inputs: all the text files in path\n",
    "            .filter_by_folder(include=['train', 'test', 'unsup']) \n",
    "           # notebook 3-logreg-nb-imbd used .split_by_folder instead of .filter_by_folder\n",
    "            # and this took less time to run. Can we do the same here?\n",
    "           #We may have other temp folders that contain text files so we only keep what's in train and test\n",
    "            .split_by_rand_pct(0.1, seed=42))\n",
    "           #We randomly split and keep 10% (10,000 reviews) for validation\n",
    "            #.label_for_lm()           \n",
    "           #We want to make a language model so we label accordingly\n",
    "            #.databunch(bs=bs, num_workers=1))\n",
    "        error = False\n",
    "        print(f'failure count is {count}\\n')    \n",
    "    except: # catch *all* exceptions\n",
    "        # accumulate failure count\n",
    "        count = count + 1\n",
    "        print(f'failure count is {count}')"
   ]
  },
  {
   "cell_type": "markdown",
   "metadata": {},
   "source": [
    "#### I got faster results when I do the last two steps in a separate cell:"
   ]
  },
  {
   "cell_type": "code",
   "execution_count": 19,
   "metadata": {},
   "outputs": [
    {
     "data": {
      "text/html": [],
      "text/plain": [
       "<IPython.core.display.HTML object>"
      ]
     },
     "metadata": {},
     "output_type": "display_data"
    },
    {
     "data": {
      "text/html": [],
      "text/plain": [
       "<IPython.core.display.HTML object>"
      ]
     },
     "metadata": {},
     "output_type": "display_data"
    },
    {
     "name": "stdout",
     "output_type": "stream",
     "text": [
      "failure count is 0\n",
      "\n",
      "CPU times: user 22.9 s, sys: 9.52 s, total: 32.4 s\n",
      "Wall time: 1min 8s\n"
     ]
    }
   ],
   "source": [
    "%%time\n",
    "\n",
    "# throws `BrokenProcessPool' Error sometimes. Keep trying `till it works!\n",
    "count = 0\n",
    "error = True\n",
    "while error:\n",
    "    try: \n",
    "        # Preprocessing steps\n",
    "        #     the next step is the bottleneck\n",
    "        data_lm = (data_lm.label_for_lm()           \n",
    "           #We want to make a language model so we label accordingly\n",
    "            .databunch(bs=bs, num_workers=1))\n",
    "        error = False\n",
    "        print(f'failure count is {count}\\n')    \n",
    "    except: # catch *all* exceptions\n",
    "        # accumulate failure count\n",
    "        count = count + 1\n",
    "        print(f'failure count is {count}')"
   ]
  },
  {
   "cell_type": "code",
   "execution_count": 20,
   "metadata": {
    "hidden": true,
    "scrolled": true
   },
   "outputs": [
    {
     "data": {
      "text/plain": [
       "(60000, 90000)"
      ]
     },
     "execution_count": 20,
     "metadata": {},
     "output_type": "execute_result"
    }
   ],
   "source": [
    "len(data_lm.vocab.itos),len(data_lm.train_ds)"
   ]
  },
  {
   "cell_type": "code",
   "execution_count": 21,
   "metadata": {
    "hidden": true
   },
   "outputs": [
    {
     "data": {
      "text/html": [
       "<table border=\"1\" class=\"dataframe\">\n",
       "  <thead>\n",
       "    <tr style=\"text-align: right;\">\n",
       "      <th>idx</th>\n",
       "      <th>text</th>\n",
       "    </tr>\n",
       "  </thead>\n",
       "  <tbody>\n",
       "    <tr>\n",
       "      <td>0</td>\n",
       "      <td>xxbos xxmaj weird xxmaj al was funny as usual in the intro , but that was where the laughs ended . xxmaj this movie tries to recapture the humor of xxmaj airplane and xxmaj the xxmaj naked xxmaj gun , but fails miserably . xxmaj it seems clear that the people who put this movie together did not even understand this type of humor . \\n \\n  xxmaj in</td>\n",
       "    </tr>\n",
       "    <tr>\n",
       "      <td>1</td>\n",
       "      <td>everyone is xxup ok at the end and xxmaj boy stays with xxmaj tarzan and xxmaj jane . \\n \\n  xxmaj as well as xxmaj johnny xxmaj weissmuller as xxmaj tarzan and xxmaj maureen o'sullivan as xxmaj jane , the cast also features xxmaj johnny xxmaj xxunk in his first role as xxmaj boy , xxmaj british actor xxmaj ian xxmaj hunter and xxmaj henry xxmaj stephenson . \\n</td>\n",
       "    </tr>\n",
       "    <tr>\n",
       "      <td>2</td>\n",
       "      <td>the truth is far worse . xxbos xxmaj this is one shoddy piece of work . xxmaj not hateful , because it does n't actively promote antisocial behavior , and not bad enough to be unintentionally amusing either . xxmaj it 's a straightforward attempt to cobble together a cheap movie , while putting no time or effort into it , and drawing in enough patrons to make a profit</td>\n",
       "    </tr>\n",
       "    <tr>\n",
       "      <td>3</td>\n",
       "      <td>with a xxmaj scottish accent who dies to the sound of xxmaj scottish xxmaj bagpipes . xxmaj alongside him is the tedious xxmaj christopher xxmaj lambert who speaks so softly during the film that the volume needs to be raised to a degree that any sound effect xxunk the audience . xxmaj whilst a novel if unbelievable partnership in the first film , in the sequel xxmaj connery and xxmaj</td>\n",
       "    </tr>\n",
       "    <tr>\n",
       "      <td>4</td>\n",
       "      <td>performance , but it was xxmaj keaton that got a big start with the film . \\n \\n  xxmaj winkler &amp; xxmaj long were magnificent , and xxmaj keaton was so crazy that you laughed every time he opened his mouth . xxmaj it was a pleasant experience . \\n \\n  xxmaj great soundtrack , too . xxbos xxmaj this first movie \" xxmaj mimic \" already was</td>\n",
       "    </tr>\n",
       "  </tbody>\n",
       "</table>"
      ],
      "text/plain": [
       "<IPython.core.display.HTML object>"
      ]
     },
     "metadata": {},
     "output_type": "display_data"
    }
   ],
   "source": [
    "data_lm.show_batch()"
   ]
  },
  {
   "cell_type": "markdown",
   "metadata": {
    "hidden": true
   },
   "source": [
    "#### Save the `databunch` for next time."
   ]
  },
  {
   "cell_type": "code",
   "execution_count": 35,
   "metadata": {},
   "outputs": [],
   "source": [
    "data_lm.save(path/'lm_databunch')"
   ]
  },
  {
   "cell_type": "markdown",
   "metadata": {},
   "source": [
    "#### Load the saved data"
   ]
  },
  {
   "cell_type": "code",
   "execution_count": 36,
   "metadata": {},
   "outputs": [],
   "source": [
    "data_lm = load_data(path, 'lm_databunch', bs=bs)"
   ]
  },
  {
   "cell_type": "markdown",
   "metadata": {},
   "source": [
    "### 2B. The **Transfer Learning** step.\n",
    "#### This is where the magic happens!\n",
    "#### The `AWD_LSTM` object contains the pretrained weights and the neural net architecture of the `wikitext-103` language model. These will be downloaded the first time you execute the following line, and stored in `~/.fastai/models/` (or elsewhere if you specified different paths in your config file). \n",
    "\n",
    "We import these into the `language_model_learner` object for our `IMDb` language model as follows:"
   ]
  },
  {
   "cell_type": "code",
   "execution_count": 38,
   "metadata": {},
   "outputs": [],
   "source": [
    "?? AWD_LSTM"
   ]
  },
  {
   "cell_type": "code",
   "execution_count": 39,
   "metadata": {
    "scrolled": true
   },
   "outputs": [
    {
     "name": "stdout",
     "output_type": "stream",
     "text": [
      "Downloading https://s3.amazonaws.com/fast-ai-modelzoo/wt103-fwd.tgz\n"
     ]
    },
    {
     "data": {
      "text/html": [],
      "text/plain": [
       "<IPython.core.display.HTML object>"
      ]
     },
     "metadata": {},
     "output_type": "display_data"
    }
   ],
   "source": [
    "learn_lm = language_model_learner(data_lm, AWD_LSTM, drop_mult=0.3)"
   ]
  },
  {
   "cell_type": "markdown",
   "metadata": {},
   "source": [
    "#### Get the `IMDb` language model `vocabulary`"
   ]
  },
  {
   "cell_type": "code",
   "execution_count": 40,
   "metadata": {},
   "outputs": [],
   "source": [
    "vocab = data_lm.vocab"
   ]
  },
  {
   "cell_type": "code",
   "execution_count": 41,
   "metadata": {},
   "outputs": [
    {
     "data": {
      "text/plain": [
       "36870"
      ]
     },
     "execution_count": 41,
     "metadata": {},
     "output_type": "execute_result"
    }
   ],
   "source": [
    "vocab.stoi[\"stingray\"]"
   ]
  },
  {
   "cell_type": "code",
   "execution_count": 42,
   "metadata": {},
   "outputs": [
    {
     "data": {
      "text/plain": [
       "'stingray'"
      ]
     },
     "execution_count": 42,
     "metadata": {},
     "output_type": "execute_result"
    }
   ],
   "source": [
    "vocab.itos[vocab.stoi[\"stingray\"]]"
   ]
  },
  {
   "cell_type": "code",
   "execution_count": 43,
   "metadata": {},
   "outputs": [
    {
     "data": {
      "text/plain": [
       "'xxunk'"
      ]
     },
     "execution_count": 43,
     "metadata": {},
     "output_type": "execute_result"
    }
   ],
   "source": [
    "vocab.itos[vocab.stoi[\"mobula\"]]"
   ]
  },
  {
   "cell_type": "code",
   "execution_count": 44,
   "metadata": {},
   "outputs": [],
   "source": [
    "awd = learn_lm.model[0]"
   ]
  },
  {
   "cell_type": "markdown",
   "metadata": {},
   "source": [
    "#### Get the `IMDb` language model `encoder`. Recall that the `encoder` translates tokens into numerical vectors in the space defined by the `IMDb` vocabulary."
   ]
  },
  {
   "cell_type": "code",
   "execution_count": 46,
   "metadata": {},
   "outputs": [],
   "source": [
    "enc = learn_lm.model[0].encoder"
   ]
  },
  {
   "cell_type": "code",
   "execution_count": 47,
   "metadata": {},
   "outputs": [
    {
     "data": {
      "text/plain": [
       "torch.Size([60000, 400])"
      ]
     },
     "execution_count": 47,
     "metadata": {},
     "output_type": "execute_result"
    }
   ],
   "source": [
    "enc.weight.size()"
   ]
  },
  {
   "cell_type": "markdown",
   "metadata": {},
   "source": [
    "Since the imdb vocab has 60000 elements, we have the same in enc, and 400 represent the size of each vector. Each vector is of 400 dimension and represent a unique word from vocab."
   ]
  },
  {
   "cell_type": "markdown",
   "metadata": {
    "heading_collapsed": true
   },
   "source": [
    "#### Difference in vocabulary between IMDB and Wikipedia language models"
   ]
  },
  {
   "cell_type": "markdown",
   "metadata": {
    "hidden": true
   },
   "source": [
    "We are going to load `wiki_itos` (the index-to-string list) from the `wikitext 103` language model.  We will compare the vocabularies of `wikitext-103` and `IMDB`.  It is to be expected that the two sets have some different vocabulary words, and that is no problem for transfer learning!"
   ]
  },
  {
   "cell_type": "code",
   "execution_count": 48,
   "metadata": {},
   "outputs": [],
   "source": [
    "#wiki_itos = pickle.load(open(Config().model_path()/'wt103-1/itos_wt103.pkl', 'rb'))\n",
    "wiki_itos = pickle.load(open(Config().model_path()/'wt103-fwd/itos_wt103.pkl', 'rb'))"
   ]
  },
  {
   "cell_type": "code",
   "execution_count": 49,
   "metadata": {
    "scrolled": true
   },
   "outputs": [
    {
     "data": {
      "text/plain": [
       "['xxunk',\n",
       " 'xxpad',\n",
       " 'xxbos',\n",
       " 'xxeos',\n",
       " 'xxfld',\n",
       " 'xxmaj',\n",
       " 'xxup',\n",
       " 'xxrep',\n",
       " 'xxwrep',\n",
       " 'the']"
      ]
     },
     "execution_count": 49,
     "metadata": {},
     "output_type": "execute_result"
    }
   ],
   "source": [
    "wiki_itos[:10]"
   ]
  },
  {
   "cell_type": "code",
   "execution_count": 50,
   "metadata": {
    "hidden": true
   },
   "outputs": [
    {
     "data": {
      "text/plain": [
       "60000"
      ]
     },
     "execution_count": 50,
     "metadata": {},
     "output_type": "execute_result"
    }
   ],
   "source": [
    "len(wiki_itos)"
   ]
  },
  {
   "cell_type": "code",
   "execution_count": 51,
   "metadata": {
    "hidden": true
   },
   "outputs": [
    {
     "data": {
      "text/plain": [
       "60000"
      ]
     },
     "execution_count": 51,
     "metadata": {},
     "output_type": "execute_result"
    }
   ],
   "source": [
    "len(vocab.itos)"
   ]
  },
  {
   "cell_type": "code",
   "execution_count": 52,
   "metadata": {
    "hidden": true
   },
   "outputs": [],
   "source": [
    "i, unks = 0, []\n",
    "while len(unks) < 50:\n",
    "    if data_lm.vocab.itos[i] not in wiki_itos: unks.append((i,data_lm.vocab.itos[i]))\n",
    "    i += 1"
   ]
  },
  {
   "cell_type": "code",
   "execution_count": 53,
   "metadata": {
    "hidden": true
   },
   "outputs": [],
   "source": [
    "wiki_words = set(wiki_itos)"
   ]
  },
  {
   "cell_type": "code",
   "execution_count": 54,
   "metadata": {
    "hidden": true
   },
   "outputs": [],
   "source": [
    "imdb_words = set(vocab.itos)"
   ]
  },
  {
   "cell_type": "code",
   "execution_count": 55,
   "metadata": {
    "hidden": true
   },
   "outputs": [],
   "source": [
    "wiki_not_imbdb = wiki_words.difference(imdb_words)"
   ]
  },
  {
   "cell_type": "code",
   "execution_count": 56,
   "metadata": {
    "hidden": true
   },
   "outputs": [],
   "source": [
    "imdb_not_wiki = imdb_words.difference(wiki_words)"
   ]
  },
  {
   "cell_type": "code",
   "execution_count": 57,
   "metadata": {
    "hidden": true
   },
   "outputs": [],
   "source": [
    "wiki_not_imdb_list = []\n",
    "\n",
    "for i in range(100):\n",
    "    word = wiki_not_imbdb.pop()\n",
    "    wiki_not_imdb_list.append(word)\n",
    "    wiki_not_imbdb.add(word)"
   ]
  },
  {
   "cell_type": "code",
   "execution_count": 58,
   "metadata": {
    "hidden": true,
    "scrolled": true
   },
   "outputs": [
    {
     "data": {
      "text/plain": [
       "['eventing',\n",
       " 'christgau',\n",
       " 'nucleotides',\n",
       " 'squids',\n",
       " 'sørland',\n",
       " 'preclearance',\n",
       " 'prawns',\n",
       " 'parslow',\n",
       " 'xiii-2',\n",
       " 'avm',\n",
       " 'khl',\n",
       " 'silversmith',\n",
       " 'buna',\n",
       " '14-yard',\n",
       " 'chert']"
      ]
     },
     "execution_count": 58,
     "metadata": {},
     "output_type": "execute_result"
    }
   ],
   "source": [
    "wiki_not_imdb_list[:15]"
   ]
  },
  {
   "cell_type": "code",
   "execution_count": 59,
   "metadata": {
    "hidden": true
   },
   "outputs": [],
   "source": [
    "imdb_not_wiki_list = []\n",
    "\n",
    "for i in range(100):\n",
    "    word = imdb_not_wiki.pop()\n",
    "    imdb_not_wiki_list.append(word)\n",
    "    imdb_not_wiki.add(word)"
   ]
  },
  {
   "cell_type": "code",
   "execution_count": 60,
   "metadata": {
    "hidden": true
   },
   "outputs": [
    {
     "data": {
      "text/plain": [
       "['gether',\n",
       " 'starcade',\n",
       " 'cahiers',\n",
       " 'fakey',\n",
       " 'oooh',\n",
       " '7-year',\n",
       " 'n’t',\n",
       " 'aloofness',\n",
       " \"l'homme\",\n",
       " 'queeny',\n",
       " 'unfashionable',\n",
       " 'marketeers',\n",
       " 'buffoonery',\n",
       " 'luckiest',\n",
       " 'drac']"
      ]
     },
     "execution_count": 60,
     "metadata": {},
     "output_type": "execute_result"
    }
   ],
   "source": [
    "imdb_not_wiki_list[:15]"
   ]
  },
  {
   "cell_type": "markdown",
   "metadata": {
    "hidden": true
   },
   "source": [
    "All words that appear in the `IMDB` vocab, but not the `wikitext-103` vocab, will be initialized to the same random vector in a model.  As the model trains, we will learn their weights."
   ]
  },
  {
   "cell_type": "code",
   "execution_count": 61,
   "metadata": {
    "hidden": true
   },
   "outputs": [
    {
     "data": {
      "text/plain": [
       "0"
      ]
     },
     "execution_count": 61,
     "metadata": {},
     "output_type": "execute_result"
    }
   ],
   "source": [
    "vocab.stoi[\"modernisation\"]"
   ]
  },
  {
   "cell_type": "code",
   "execution_count": 62,
   "metadata": {
    "hidden": true
   },
   "outputs": [
    {
     "data": {
      "text/plain": [
       "True"
      ]
     },
     "execution_count": 62,
     "metadata": {},
     "output_type": "execute_result"
    }
   ],
   "source": [
    "\"modernisation\" in wiki_words"
   ]
  },
  {
   "cell_type": "code",
   "execution_count": 63,
   "metadata": {
    "hidden": true
   },
   "outputs": [
    {
     "data": {
      "text/plain": [
       "25677"
      ]
     },
     "execution_count": 63,
     "metadata": {},
     "output_type": "execute_result"
    }
   ],
   "source": [
    "vocab.stoi[\"30-something\"]"
   ]
  },
  {
   "cell_type": "code",
   "execution_count": 64,
   "metadata": {
    "hidden": true
   },
   "outputs": [
    {
     "data": {
      "text/plain": [
       "(False, True)"
      ]
     },
     "execution_count": 64,
     "metadata": {},
     "output_type": "execute_result"
    }
   ],
   "source": [
    "\"30-something\" in wiki_words, \"30-something\" in imdb_words"
   ]
  },
  {
   "cell_type": "code",
   "execution_count": 65,
   "metadata": {
    "hidden": true
   },
   "outputs": [
    {
     "data": {
      "text/plain": [
       "17703"
      ]
     },
     "execution_count": 65,
     "metadata": {},
     "output_type": "execute_result"
    }
   ],
   "source": [
    "vocab.stoi[\"linklater\"]"
   ]
  },
  {
   "cell_type": "code",
   "execution_count": 66,
   "metadata": {
    "hidden": true
   },
   "outputs": [
    {
     "data": {
      "text/plain": [
       "(False, True)"
      ]
     },
     "execution_count": 66,
     "metadata": {},
     "output_type": "execute_result"
    }
   ],
   "source": [
    "\"linklater\" in wiki_words, \"linklater\" in imdb_words"
   ]
  },
  {
   "cell_type": "code",
   "execution_count": 67,
   "metadata": {
    "hidden": true,
    "scrolled": true
   },
   "outputs": [
    {
     "data": {
      "text/plain": [
       "(True, True)"
      ]
     },
     "execution_count": 67,
     "metadata": {},
     "output_type": "execute_result"
    }
   ],
   "source": [
    "\"house\" in wiki_words, \"house\" in imdb_words"
   ]
  },
  {
   "cell_type": "code",
   "execution_count": 74,
   "metadata": {
    "hidden": true
   },
   "outputs": [
    {
     "data": {
      "text/plain": [
       "True"
      ]
     },
     "execution_count": 74,
     "metadata": {},
     "output_type": "execute_result"
    }
   ],
   "source": [
    "np.allclose(enc.weight[vocab.stoi[\"30-something\"], :].cpu().detach().numpy(), \n",
    "            enc.weight[vocab.stoi[\"linklater\"], :].cpu().detach().numpy())\n",
    "\n",
    "## Shows that since 30-something and linklater are both not present in the wiki_words\n",
    "## Of which the encoder is based, are mapped to unk and hence have same encoding vector."
   ]
  },
  {
   "cell_type": "code",
   "execution_count": 76,
   "metadata": {
    "hidden": true
   },
   "outputs": [
    {
     "data": {
      "text/plain": [
       "False"
      ]
     },
     "execution_count": 76,
     "metadata": {},
     "output_type": "execute_result"
    }
   ],
   "source": [
    "np.allclose(enc.weight[vocab.stoi[\"30-something\"], :].cpu().detach().numpy(), \n",
    "            enc.weight[vocab.stoi[\"house\"], :].cpu().detach().numpy())"
   ]
  },
  {
   "cell_type": "code",
   "execution_count": 77,
   "metadata": {
    "hidden": true
   },
   "outputs": [],
   "source": [
    "new_word_vec = enc.weight[vocab.stoi[\"linklater\"], :]"
   ]
  },
  {
   "cell_type": "markdown",
   "metadata": {
    "heading_collapsed": true
   },
   "source": [
    "#### Generating fake movie review-like text with the **untrained** `IMDb` language model"
   ]
  },
  {
   "cell_type": "code",
   "execution_count": 78,
   "metadata": {
    "hidden": true
   },
   "outputs": [],
   "source": [
    "TEXT = \"The color of the sky is\"\n",
    "N_WORDS = 40\n",
    "N_SENTENCES = 2"
   ]
  },
  {
   "cell_type": "code",
   "execution_count": 79,
   "metadata": {
    "hidden": true,
    "scrolled": false
   },
   "outputs": [
    {
     "name": "stdout",
     "output_type": "stream",
     "text": [
      "The color of the sky is being well explained , and the colours are described as being from the sky . In the song \" Old Rains \" , the giant is described as having a white fur , with the stars facing\n",
      "The color of the sky is presented by a red flag , which is a blue body in its own right . The red and black green sky is also used , as is the blue , which is the symbol of the Earth\n"
     ]
    }
   ],
   "source": [
    "print(\"\\n\".join(learn_lm.predict(TEXT, N_WORDS, temperature=0.75) for _ in range(N_SENTENCES)))"
   ]
  },
  {
   "cell_type": "code",
   "execution_count": 80,
   "metadata": {
    "hidden": true
   },
   "outputs": [],
   "source": [
    "TEXT = \"I hated this movie\"\n",
    "N_WORDS = 30\n",
    "N_SENTENCES = 2"
   ]
  },
  {
   "cell_type": "code",
   "execution_count": 81,
   "metadata": {
    "hidden": true
   },
   "outputs": [
    {
     "name": "stdout",
     "output_type": "stream",
     "text": [
      "I hated this movie by Melville Premise , \" a Russian Light \" , John Legend 's The Power of One : The\n",
      "I hated this movie ( a musical ) . He wrote : \" i wanted to make a movie about a movie . i was just going to help i get through it\n"
     ]
    }
   ],
   "source": [
    "print(\"\\n\".join(learn_lm.predict(TEXT, N_WORDS, temperature=0.75) for _ in range(N_SENTENCES)))"
   ]
  },
  {
   "cell_type": "code",
   "execution_count": 82,
   "metadata": {
    "hidden": true,
    "scrolled": true
   },
   "outputs": [
    {
     "name": "stdout",
     "output_type": "stream",
     "text": [
      "I hated this movie = \n",
      " \n",
      "  \" i ' m a Vampire \" is a role - playing video game developed and published by Sony Computer Entertainment ( PC\n",
      "I hated this movie by Danny Elfman , Colin Howard and Philip Glass , Peter Rabbit and Tom Transitioned . This was targeting\n"
     ]
    }
   ],
   "source": [
    "print(\"\\n\".join(learn_lm.predict(TEXT, N_WORDS, temperature=0.75) for _ in range(N_SENTENCES)))"
   ]
  },
  {
   "cell_type": "code",
   "execution_count": 83,
   "metadata": {
    "hidden": true
   },
   "outputs": [],
   "source": [
    "doc(LanguageLearner.predict)"
   ]
  },
  {
   "cell_type": "markdown",
   "metadata": {
    "hidden": true
   },
   "source": [
    "Lowering the `temperature` will make the texts less randomized."
   ]
  },
  {
   "cell_type": "code",
   "execution_count": 84,
   "metadata": {
    "hidden": true,
    "scrolled": true
   },
   "outputs": [
    {
     "name": "stdout",
     "output_type": "stream",
     "text": [
      "I hated this movie by John Lennon , and he said , \" It 's a bad thing . It 's a bad thing . \" The film was\n",
      "I hated this movie by John Lennon , and he said , \" It 's a great thing to do . It 's a great thing to do . \"\n"
     ]
    }
   ],
   "source": [
    "print(\"\\n\".join(learn_lm.predict(TEXT, N_WORDS, temperature=0.10) for _ in range(N_SENTENCES)))"
   ]
  },
  {
   "cell_type": "code",
   "execution_count": 85,
   "metadata": {
    "hidden": true
   },
   "outputs": [],
   "source": [
    "doc(LanguageLearner.predict)"
   ]
  },
  {
   "cell_type": "code",
   "execution_count": 86,
   "metadata": {
    "hidden": true
   },
   "outputs": [
    {
     "name": "stdout",
     "output_type": "stream",
     "text": [
      "I hated this movie by John Lennon , and he said , \" It 's a great film . It 's a great film . It 's a great\n",
      "I hated this movie by James Bond , and he said , \" It 's a bad thing . It 's a bad thing . It 's a bad\n"
     ]
    }
   ],
   "source": [
    "print(\"\\n\".join(learn_lm.predict(TEXT, N_WORDS, temperature=0.10) for _ in range(N_SENTENCES)))"
   ]
  },
  {
   "cell_type": "markdown",
   "metadata": {},
   "source": [
    "### 2C. Training (fine-tuning) the `IMDb` language model\n",
    "#### Starting with the `wikitext-103` pretrained weights, we'll fine-tune the model to \"learn\" the structure in the \"language\" of IMDb movie reviews."
   ]
  },
  {
   "cell_type": "markdown",
   "metadata": {},
   "source": [
    "#### Choose an appropriate learning rate."
   ]
  },
  {
   "cell_type": "code",
   "execution_count": 88,
   "metadata": {},
   "outputs": [
    {
     "data": {
      "text/html": [
       "\n",
       "    <div>\n",
       "        <style>\n",
       "            /* Turns off some styling */\n",
       "            progress {\n",
       "                /* gets rid of default border in Firefox and Opera. */\n",
       "                border: none;\n",
       "                /* Needs to be in here for Safari polyfill so background images work as expected. */\n",
       "                background-size: auto;\n",
       "            }\n",
       "            .progress-bar-interrupted, .progress-bar-interrupted::-webkit-progress-bar {\n",
       "                background: #F44336;\n",
       "            }\n",
       "        </style>\n",
       "      <progress value='0' class='' max='1' style='width:300px; height:20px; vertical-align: middle;'></progress>\n",
       "      0.00% [0/1 00:00<00:00]\n",
       "    </div>\n",
       "    \n",
       "<table border=\"1\" class=\"dataframe\">\n",
       "  <thead>\n",
       "    <tr style=\"text-align: left;\">\n",
       "      <th>epoch</th>\n",
       "      <th>train_loss</th>\n",
       "      <th>valid_loss</th>\n",
       "      <th>accuracy</th>\n",
       "      <th>time</th>\n",
       "    </tr>\n",
       "  </thead>\n",
       "  <tbody>\n",
       "  </tbody>\n",
       "</table><p>\n",
       "\n",
       "    <div>\n",
       "        <style>\n",
       "            /* Turns off some styling */\n",
       "            progress {\n",
       "                /* gets rid of default border in Firefox and Opera. */\n",
       "                border: none;\n",
       "                /* Needs to be in here for Safari polyfill so background images work as expected. */\n",
       "                background-size: auto;\n",
       "            }\n",
       "            .progress-bar-interrupted, .progress-bar-interrupted::-webkit-progress-bar {\n",
       "                background: #F44336;\n",
       "            }\n",
       "        </style>\n",
       "      <progress value='99' class='' max='8049' style='width:300px; height:20px; vertical-align: middle;'></progress>\n",
       "      1.23% [99/8049 00:11<15:12 11.6986]\n",
       "    </div>\n",
       "    "
      ],
      "text/plain": [
       "<IPython.core.display.HTML object>"
      ]
     },
     "metadata": {},
     "output_type": "display_data"
    },
    {
     "name": "stdout",
     "output_type": "stream",
     "text": [
      "LR Finder is complete, type {learner_name}.recorder.plot() to see the graph.\n"
     ]
    }
   ],
   "source": [
    "learn_lm.lr_find()"
   ]
  },
  {
   "cell_type": "code",
   "execution_count": 89,
   "metadata": {},
   "outputs": [
    {
     "data": {
      "image/png": "[encoded data removed]",
      "text/plain": [
       "<Figure size 432x288 with 1 Axes>"
      ]
     },
     "metadata": {
      "needs_background": "light"
     },
     "output_type": "display_data"
    }
   ],
   "source": [
    "learn_lm.recorder.plot(skip_end=15)"
   ]
  },
  {
   "cell_type": "code",
   "execution_count": 93,
   "metadata": {},
   "outputs": [],
   "source": [
    "lr = 1e-3\n",
    "lr *= bs/48"
   ]
  },
  {
   "cell_type": "markdown",
   "metadata": {},
   "source": [
    "#### Use the mixed-precision option, if you have it, otherwise omit this step"
   ]
  },
  {
   "cell_type": "code",
   "execution_count": 94,
   "metadata": {},
   "outputs": [
    {
     "data": {
      "text/plain": [
       "LanguageLearner(data=TextLMDataBunch;\n",
       "\n",
       "Train: LabelList (90000 items)\n",
       "x: LMTextList\n",
       "xxbos xxmaj this movie really sucks , but still it´s fun to watch . xxmaj for 90 minutes it´s just gunfights and explosions . xxmaj no talking , just shooting . xxmaj it´s amazing to see fully grown men act like this , and being serious about it ! xxmaj if you have nothing to do on a late xxmaj sunday night , then give this one a try !,xxbos xxmaj weird xxmaj al was funny as usual in the intro , but that was where the laughs ended . xxmaj this movie tries to recapture the humor of xxmaj airplane and xxmaj the xxmaj naked xxmaj gun , but fails miserably . xxmaj it seems clear that the people who put this movie together did not even understand this type of humor . \n",
       " \n",
       "  xxmaj in xxmaj airplane , the humor lies in taking logical steps from peculiar interpretations of events . \" xxmaj surely your joking \" \" i 'm serious , and do n't call me xxmaj shirley . \" xxmaj now that 's funny . \n",
       " \n",
       "  xxmaj this movie , however , merely has gags without context .,xxbos xxmaj this movie is the best movie that i have ever bought that i did know anything about ! ! ! i only bought it because of xxmaj ryan xxmaj reynolds , but i must say that i will be recommending it to all of my friends and to everyone here . \n",
       " \n",
       "  xxmaj if you want to laugh and watch a movie that is so completely underrated that i want to complain , then please go , buy a copy , rent one , what ever you have to do to be able to see this hilarious movie . xxmaj yes xxup ok the ending is slightly predictable but it does n't matter . \n",
       " \n",
       "  xxmaj if you try it and it did n't suit you then at least you tried something new .,xxbos i saw this movie at 1:30 xxup am one night , and could n't turn it off . i 'm a bit of an obscure movie buff , and i turned this on just as it started - so i did n't know the premise . xxmaj well , within a few minutes , i was dying to see how it turned out . xxmaj because i had xxup no clue what was going on , i really thought this was a documentary about the now - known fake xxmaj nick xxmaj decker . i really felt bad for this guy , because he was a putrid , horrible actor . xxmaj however , the actor playing xxmaj nick was convincing me that this guy was a really bad actor , while when he was not in auditions was what i consider a xxup great performance . xxmaj he really made me think this guy was real , his struggles were genuine , and his angers real . xxmaj he seemed like a young , naive , honest guy from the midwest trying to make it in a killer type of acting atmosphere . xxmaj the best scene in the movie is when xxmaj angie finds out he 's been lying to her . \n",
       " \n",
       "  xxmaj what had captured my attention was when i heard the name xxmaj adam xxmaj rifkin ... who i had heard of , but was n't quite familiar with . xxmaj well , i think he did a terrific job with this movie ! xxmaj sometimes the \" normal \" way of doing things gets old , and this was very refreshing . xxmaj it also goes to show how hard it is to get work in xxmaj hollywood . \n",
       " \n",
       "  xxmaj what the big surprise of this movie was lies with that of the red - headed vixen xxmaj angie xxmaj everheart . i xxup really xxup thought xxup this xxup had happened , with the fake press clips , newspapers clips , etc . xxmaj she was fantastic ! ! ! xxmaj look at her career before this movie , and you will see like 6 jobs in 5 years in movies . xxmaj since this movie , she 's had like 15 jobs in 3 years ! xxmaj angie has really matured as an actress ... i also like how the \" angie \" character was sincere and genuine , it really made me like the personality of her and want to know more about her xxrep 4 . overall , very entertaining .. surprisingly good performances when you find out afterwards it 's fake ( but based on someone else 's story ),xxbos xxmaj george xxmaj orr ( xxmaj lukas xxmaj haas ) tells his psychologist ( xxmaj james xxmaj caan ) that he once lost someone special . xxmaj the psychologist immediately refers to the \" someone special \" as a she . xxmaj george asks , \" xxmaj how do you know it 's a she ? \" xxmaj psychologist : \" xxmaj because you 're a he . \" xxmaj the psychologist has never heard of same - sex relationships ? xxmaj or have all the gay people been killed ? xxmaj george has n't even indicated that it was a romantic relationship , so evidently the producers of this movie do n't even believe in the existence of same - sex friendships ! xxmaj even if you hate gay people , that 's quite an extreme . \n",
       " \n",
       "  xxmaj the rest of the movie is horrible xxunk garbage with xxmaj lisa xxmaj bonet and xxmaj lucas xxmaj haas staring longingly at each other , and then lying in bed congratulating each other for being heterosexual .\n",
       "y: LMLabelList\n",
       ",,,,\n",
       "Path: /root/.fastai/data/imdb;\n",
       "\n",
       "Valid: LabelList (10000 items)\n",
       "x: LMTextList\n",
       "xxbos xxmaj you know you 've got a bad film when you hear that the soundtrack is performed completely on a single cheap xxunk synthesizer , without any melody or sense of rhythm . \n",
       " \n",
       "  xxmaj it 's hard to see how anyone could take this film seriously , even while giving it a bad review . xxmaj this film is way beneath ' bad ' . \n",
       " \n",
       "  xxmaj the continuity of this film is outrageously butchered . xxmaj in one fight scene , we the hero ( wearing xxunk and undershirt ) turn a corner with two revolvers in his hand ; he doubles back , only now he has two semi - xxunk in his hands ; he turns another corner and now he has an automatic rifle in his hands ; he chases down a hallway and comes out ( suddenly dressed in standard army fatigue xxunk a shotgun ; after which he exits the building with yet another automatic rifle . xxmaj or here 's one for the books - a bus slams into a car at high speed ; the car goes flying , thrown by a gigantic explosion - cut to the bus which is completely unscathed from the same explosion ? xxmaj the narrative continuity suffers from an equally numbing sense of unreality ; the bad guys really want to kill the hero - obviously - but every time they knock him out or otherwise get him in a vulnerable position , they suddenly decide they want him \" to live to see this ! \" xxmaj huh ? xxmaj one of the funnier moments of the film is when the hero is released from isolation because his lawyer has come to see him ; then the bad guy decides he 's not going to let the two meet after all ; and this despite the fact that the the villain , the hero and his lawyer all know what 's going on anyway , so the hero writes a note to the lawyer and next we see the note being passed to the lawyer by another prisoner , even though we never see the hero give it to him . ( xxmaj this lawyer , xxup btw , has complete access to the xxmaj offices of the xxup atf in xxmaj california , including its confidential computer files . ) xxmaj huh ? xxmaj well , but it 's a mindless action movie - so how 're the action scenes ? xxmaj not bad , surprisingly ; unfortunately they happen to be xxunk from about a dozen xxmaj hong xxmaj kong films made five or ten years previously . xxmaj the opening scene , a shoot - out in a xxunk garage , actually has shots the composition of which are stolen directly from \" xxmaj hard xxmaj boiled \" - so clearly so that it 's a wonder xxmaj john xxmaj woo did n't sue for plagiarism . \n",
       " \n",
       "  xxmaj other xxmaj hong xxmaj kong films stolen from include \" xxmaj prison on xxmaj fire \" , \" xxmaj island on xxmaj fire \" , \" xxmaj burning xxmaj paradise \" , \" xxmaj police xxmaj story \" i , xxup ii , and xxup iii ( aka \" xxmaj supercop \" ) . i thought i recognized a couple xxmaj sammo xxmaj hung clips here as well . xxmaj in other words , the actions scenes are exciting only to the extent that they are successful xxunk of action scenes from other films . \n",
       " \n",
       "  xxmaj there 's nothing one can do with this film unless one shoots smack and just needs a lot of visual stimuli that need n't be make any sense . \n",
       " \n",
       "  xxmaj very funny film , for all the wrong reasons .,xxbos xxmaj stunning blonde xxmaj natasha xxmaj henstridge is the young , not - so - grieving widow in the mansion on the hill , telling her story to a xxup tv reporter in xxmaj xxunk , xxmaj virginia . xxmaj and among the community 's well - heeled horsey - set , she 's suspected of involvement in the death of her older husband . xxmaj that 's xxmaj james xxmaj brolin , trusting as a babe - in - arms . xxmaj flashback xxunk made in xxmaj canada , based on an article that appeared in xxmaj vanity xxmaj fair magazine . xxmaj it must be true ! xxmaj whatever , it 's far more romance than mystery , and a very familiar tale . xxmaj leggy xxmaj species star xxmaj henstridge as a gold - digging xxunk nurse ? xxmaj it could happen , i guess . xxmaj and it 's good to see xxmaj brolin in a sizeable role after his xxunk turn in xxmaj antwone xxmaj fisher , even if he does n't make it to the end of the picture . xxmaj the end of the picture ? xxmaj he does n't even make it to the beginning of the picture . xxmaj which is why flashbacks were invented , of course .,xxbos the opening credits . and they try and be clever . it does n't work . \n",
       " \n",
       "  our cast : xxmaj agent xxmaj doug xxmaj carlin is played by xxmaj denzel xxmaj washington who seems to be sleep - walking thru this movie with the occasional sudden inexplicable deviation of character . xxmaj val xxmaj kilmer has not aged well as xxmaj special xxup fbi xxmaj agent xxmaj xxunk , a thickly - xxunk pot - bellied cardboard representation of the one - dimensional g - man . xxmaj adam xxmaj goldberg tries ( and really , really fails ... i mean ... oh boy ) to pull off the super - brain heart - of - gold physics professor \" xxmaj denny \" . xxmaj paula xxmaj patton makes great eye - candy damsel - was - in - distress and flashes us a nipple . the rest of the cast ? meh ... who cares ? \n",
       " \n",
       "  so how is the movie . eh . a 5 / 10 and that 's being generous . \n",
       " \n",
       "  here were the big problems : \n",
       " \n",
       "  * the science was ... well ... utter crap xxup and inconsistent . why could they only see in the xxmaj new xxmaj orleans radius and how exactly did the portable rig work outside of this area ? why could a laser pointer go thru the main \" screen but they needed this big - ass nuclear toaster to send that sheet of paper back ? and , oh , the paper was the utter maximum we could send back but we 've changed out minds and now we can send xxmaj denzel back but he has to be in his undies 'cause his shoes would weigh too much . wha ? and if you want to emphasize that sending the laser bean , sheet of paper and xxmaj xxunk use xxup huge amounts of energy , do n't use the same \" aerial view of the city xxunk out \" all three bloody times . \n",
       " \n",
       "  * there is xxup no character development in this film . none . nada . zilch . and xxmaj xxunk 's character has these unprecedented changes of emotion and character \" quirks \" that makes it nearly impossible to relate to him . \n",
       " \n",
       "  * xxmaj xxunk creates mayhem and carnage on the streets of xxmaj new xxmaj orleans with a tricked - out xxmaj hummer ( with enough product - placement stickers on it to make the movie 's endorsement agent shudder uncontrollably with xxunk ecstasy ) with impunity . he prolly kills several dozen innocent by - standers and does n't get as much as a reduction of his expense account . and it 's xxup boring ! xxmaj tony xxmaj scott has sucked every atom of \" thrill \" from the whole sequence . oooh ... here comes a semi - truck , head - on . will xxmaj xxunk die ? hell no ... xxup and the xxmaj hummer will still be xxunk afterward ! ! ! \n",
       " \n",
       "  * in the final climax , where the xxup heck did the bad guy get the xxunk vest , automatic weapons , and ammo ? he did n't have it when he ran back onto the ferry . \n",
       " \n",
       "  * and while we 're talking about magic guns , and why would xxmaj navy personnel , on their way to xxmaj mardi xxmaj gras , just happen to be wearing full combat gear and toting xxmaj xxunk ?,xxbos i saw the first xxmaj house of the xxmaj dead and expected a root canal to be more pleasant to attend , so when it was n't as bad as that , i was delightfully surprised . \n",
       " \n",
       "  xxmaj unfortunately , i then got my hopes up that the second one might be okay as well ... and i was wrong . \n",
       " \n",
       "  xxmaj apparently i 'm one of the few people who saw this movie that thinks it was bad . \n",
       " \n",
       "  i do n't know whether to watch it again and force myself to see whatever all the people who gave it good reviews saw , or wonder if i saw the wrong movie . \n",
       " \n",
       "  xxmaj ed xxmaj quinn as xxmaj ellis and xxmaj emmanuelle xxmaj vaugier as xxmaj alexandra ' xxmaj nightingale ' xxmaj morgan did a great job in roles that were way beneath them . xxmaj they deserve to be in better movies . \n",
       " \n",
       "  xxmaj the special effects were okay and some of the characters likable / hate - able and that made for a tolerable watch , but for the most part , this movie was just a waste of time . \n",
       " \n",
       "  xxmaj oh and i have to ask this because i found myself asking it aloud xxup all the way through the movie ... did anyone not know how to close doors behind themselves so zombies would n't just wander into the rooms ? xxmaj only once did it happen , ( zombies wandering in ) and i found that a little convenient ... soldiers walk into a room , leave the door wide open , pay little to no attention to same said door so the zombies can just walk in if they feel like it ( with the hapless \" xxunk \" being cornered with no way to escape ) and yet only once did zombies follow them in . \n",
       " \n",
       "  xxmaj nitpicky ? xxmaj maybe but honestly ... if i was fighting for my life , the last thing i 'd do would be to walk into a room and leave the door wide open so zombies could swarm in and eat me . \n",
       " \n",
       "  xxmaj that is really the only thing * bothered * me throughout the movie , and just the movie for the most part was a bad sequel to a not totally abominable original .,xxbos i have just watched the season 2 finale of xxmaj doctor xxmaj who , and apart from a couple of dull episodes this show is fantastic . \n",
       " \n",
       "  xxmaj its a sad loss that we say goodbye to a main character once again in the season final but the show moves on . \n",
       " \n",
       "  xxmaj the xxup bbc does need to increase the budget on the show , there are only so many things that can happen in xxmaj london and the surrounding areas . xxmaj also some of the special effects all though on the main very good , on the odd occasion do need to be a little more polished . \n",
       " \n",
       "  xxmaj it was a huge gamble for the xxup bbc to bring back a show that lost its way a long time ago and they must be congratulated for doing so . \n",
       " \n",
       "  xxmaj roll on to the xxmaj christmas 2006 special , the 2005 xxmaj christmas special was by far the best thing on television .\n",
       "y: LMLabelList\n",
       ",,,,\n",
       "Path: /root/.fastai/data/imdb;\n",
       "\n",
       "Test: None, model=SequentialRNN(\n",
       "  (0): AWD_LSTM(\n",
       "    (encoder): Embedding(60000, 400, padding_idx=1)\n",
       "    (encoder_dp): EmbeddingDropout(\n",
       "      (emb): Embedding(60000, 400, padding_idx=1)\n",
       "    )\n",
       "    (rnns): ModuleList(\n",
       "      (0): WeightDropout(\n",
       "        (module): LSTM(400, 1152, batch_first=True)\n",
       "      )\n",
       "      (1): WeightDropout(\n",
       "        (module): LSTM(1152, 1152, batch_first=True)\n",
       "      )\n",
       "      (2): WeightDropout(\n",
       "        (module): LSTM(1152, 400, batch_first=True)\n",
       "      )\n",
       "    )\n",
       "    (input_dp): RNNDropout()\n",
       "    (hidden_dps): ModuleList(\n",
       "      (0): RNNDropout()\n",
       "      (1): RNNDropout()\n",
       "      (2): RNNDropout()\n",
       "    )\n",
       "  )\n",
       "  (1): LinearDecoder(\n",
       "    (decoder): Linear(in_features=400, out_features=60000, bias=True)\n",
       "    (output_dp): RNNDropout()\n",
       "  )\n",
       "), opt_func=functools.partial(<class 'torch.optim.adam.Adam'>, betas=(0.9, 0.99)), loss_func=FlattenedLoss of CrossEntropyLoss(), metrics=[<function accuracy at 0x7f6de9f2fa60>], true_wd=True, bn_wd=True, wd=0.01, train_bn=True, path=PosixPath('/root/.fastai/data/imdb'), model_dir='models', callback_fns=[functools.partial(<class 'fastai.basic_train.Recorder'>, add_time=True, silent=False)], callbacks=[RNNTrainer\n",
       "learn: LanguageLearner(data=TextLMDataBunch;\n",
       "\n",
       "Train: LabelList (90000 items)\n",
       "x: LMTextList\n",
       "xxbos xxmaj this movie really sucks , but still it´s fun to watch . xxmaj for 90 minutes it´s just gunfights and explosions . xxmaj no talking , just shooting . xxmaj it´s amazing to see fully grown men act like this , and being serious about it ! xxmaj if you have nothing to do on a late xxmaj sunday night , then give this one a try !,xxbos xxmaj weird xxmaj al was funny as usual in the intro , but that was where the laughs ended . xxmaj this movie tries to recapture the humor of xxmaj airplane and xxmaj the xxmaj naked xxmaj gun , but fails miserably . xxmaj it seems clear that the people who put this movie together did not even understand this type of humor . \n",
       " \n",
       "  xxmaj in xxmaj airplane , the humor lies in taking logical steps from peculiar interpretations of events . \" xxmaj surely your joking \" \" i 'm serious , and do n't call me xxmaj shirley . \" xxmaj now that 's funny . \n",
       " \n",
       "  xxmaj this movie , however , merely has gags without context .,xxbos xxmaj this movie is the best movie that i have ever bought that i did know anything about ! ! ! i only bought it because of xxmaj ryan xxmaj reynolds , but i must say that i will be recommending it to all of my friends and to everyone here . \n",
       " \n",
       "  xxmaj if you want to laugh and watch a movie that is so completely underrated that i want to complain , then please go , buy a copy , rent one , what ever you have to do to be able to see this hilarious movie . xxmaj yes xxup ok the ending is slightly predictable but it does n't matter . \n",
       " \n",
       "  xxmaj if you try it and it did n't suit you then at least you tried something new .,xxbos i saw this movie at 1:30 xxup am one night , and could n't turn it off . i 'm a bit of an obscure movie buff , and i turned this on just as it started - so i did n't know the premise . xxmaj well , within a few minutes , i was dying to see how it turned out . xxmaj because i had xxup no clue what was going on , i really thought this was a documentary about the now - known fake xxmaj nick xxmaj decker . i really felt bad for this guy , because he was a putrid , horrible actor . xxmaj however , the actor playing xxmaj nick was convincing me that this guy was a really bad actor , while when he was not in auditions was what i consider a xxup great performance . xxmaj he really made me think this guy was real , his struggles were genuine , and his angers real . xxmaj he seemed like a young , naive , honest guy from the midwest trying to make it in a killer type of acting atmosphere . xxmaj the best scene in the movie is when xxmaj angie finds out he 's been lying to her . \n",
       " \n",
       "  xxmaj what had captured my attention was when i heard the name xxmaj adam xxmaj rifkin ... who i had heard of , but was n't quite familiar with . xxmaj well , i think he did a terrific job with this movie ! xxmaj sometimes the \" normal \" way of doing things gets old , and this was very refreshing . xxmaj it also goes to show how hard it is to get work in xxmaj hollywood . \n",
       " \n",
       "  xxmaj what the big surprise of this movie was lies with that of the red - headed vixen xxmaj angie xxmaj everheart . i xxup really xxup thought xxup this xxup had happened , with the fake press clips , newspapers clips , etc . xxmaj she was fantastic ! ! ! xxmaj look at her career before this movie , and you will see like 6 jobs in 5 years in movies . xxmaj since this movie , she 's had like 15 jobs in 3 years ! xxmaj angie has really matured as an actress ... i also like how the \" angie \" character was sincere and genuine , it really made me like the personality of her and want to know more about her xxrep 4 . overall , very entertaining .. surprisingly good performances when you find out afterwards it 's fake ( but based on someone else 's story ),xxbos xxmaj george xxmaj orr ( xxmaj lukas xxmaj haas ) tells his psychologist ( xxmaj james xxmaj caan ) that he once lost someone special . xxmaj the psychologist immediately refers to the \" someone special \" as a she . xxmaj george asks , \" xxmaj how do you know it 's a she ? \" xxmaj psychologist : \" xxmaj because you 're a he . \" xxmaj the psychologist has never heard of same - sex relationships ? xxmaj or have all the gay people been killed ? xxmaj george has n't even indicated that it was a romantic relationship , so evidently the producers of this movie do n't even believe in the existence of same - sex friendships ! xxmaj even if you hate gay people , that 's quite an extreme . \n",
       " \n",
       "  xxmaj the rest of the movie is horrible xxunk garbage with xxmaj lisa xxmaj bonet and xxmaj lucas xxmaj haas staring longingly at each other , and then lying in bed congratulating each other for being heterosexual .\n",
       "y: LMLabelList\n",
       ",,,,\n",
       "Path: /root/.fastai/data/imdb;\n",
       "\n",
       "Valid: LabelList (10000 items)\n",
       "x: LMTextList\n",
       "xxbos xxmaj you know you 've got a bad film when you hear that the soundtrack is performed completely on a single cheap xxunk synthesizer , without any melody or sense of rhythm . \n",
       " \n",
       "  xxmaj it 's hard to see how anyone could take this film seriously , even while giving it a bad review . xxmaj this film is way beneath ' bad ' . \n",
       " \n",
       "  xxmaj the continuity of this film is outrageously butchered . xxmaj in one fight scene , we the hero ( wearing xxunk and undershirt ) turn a corner with two revolvers in his hand ; he doubles back , only now he has two semi - xxunk in his hands ; he turns another corner and now he has an automatic rifle in his hands ; he chases down a hallway and comes out ( suddenly dressed in standard army fatigue xxunk a shotgun ; after which he exits the building with yet another automatic rifle . xxmaj or here 's one for the books - a bus slams into a car at high speed ; the car goes flying , thrown by a gigantic explosion - cut to the bus which is completely unscathed from the same explosion ? xxmaj the narrative continuity suffers from an equally numbing sense of unreality ; the bad guys really want to kill the hero - obviously - but every time they knock him out or otherwise get him in a vulnerable position , they suddenly decide they want him \" to live to see this ! \" xxmaj huh ? xxmaj one of the funnier moments of the film is when the hero is released from isolation because his lawyer has come to see him ; then the bad guy decides he 's not going to let the two meet after all ; and this despite the fact that the the villain , the hero and his lawyer all know what 's going on anyway , so the hero writes a note to the lawyer and next we see the note being passed to the lawyer by another prisoner , even though we never see the hero give it to him . ( xxmaj this lawyer , xxup btw , has complete access to the xxmaj offices of the xxup atf in xxmaj california , including its confidential computer files . ) xxmaj huh ? xxmaj well , but it 's a mindless action movie - so how 're the action scenes ? xxmaj not bad , surprisingly ; unfortunately they happen to be xxunk from about a dozen xxmaj hong xxmaj kong films made five or ten years previously . xxmaj the opening scene , a shoot - out in a xxunk garage , actually has shots the composition of which are stolen directly from \" xxmaj hard xxmaj boiled \" - so clearly so that it 's a wonder xxmaj john xxmaj woo did n't sue for plagiarism . \n",
       " \n",
       "  xxmaj other xxmaj hong xxmaj kong films stolen from include \" xxmaj prison on xxmaj fire \" , \" xxmaj island on xxmaj fire \" , \" xxmaj burning xxmaj paradise \" , \" xxmaj police xxmaj story \" i , xxup ii , and xxup iii ( aka \" xxmaj supercop \" ) . i thought i recognized a couple xxmaj sammo xxmaj hung clips here as well . xxmaj in other words , the actions scenes are exciting only to the extent that they are successful xxunk of action scenes from other films . \n",
       " \n",
       "  xxmaj there 's nothing one can do with this film unless one shoots smack and just needs a lot of visual stimuli that need n't be make any sense . \n",
       " \n",
       "  xxmaj very funny film , for all the wrong reasons .,xxbos xxmaj stunning blonde xxmaj natasha xxmaj henstridge is the young , not - so - grieving widow in the mansion on the hill , telling her story to a xxup tv reporter in xxmaj xxunk , xxmaj virginia . xxmaj and among the community 's well - heeled horsey - set , she 's suspected of involvement in the death of her older husband . xxmaj that 's xxmaj james xxmaj brolin , trusting as a babe - in - arms . xxmaj flashback xxunk made in xxmaj canada , based on an article that appeared in xxmaj vanity xxmaj fair magazine . xxmaj it must be true ! xxmaj whatever , it 's far more romance than mystery , and a very familiar tale . xxmaj leggy xxmaj species star xxmaj henstridge as a gold - digging xxunk nurse ? xxmaj it could happen , i guess . xxmaj and it 's good to see xxmaj brolin in a sizeable role after his xxunk turn in xxmaj antwone xxmaj fisher , even if he does n't make it to the end of the picture . xxmaj the end of the picture ? xxmaj he does n't even make it to the beginning of the picture . xxmaj which is why flashbacks were invented , of course .,xxbos the opening credits . and they try and be clever . it does n't work . \n",
       " \n",
       "  our cast : xxmaj agent xxmaj doug xxmaj carlin is played by xxmaj denzel xxmaj washington who seems to be sleep - walking thru this movie with the occasional sudden inexplicable deviation of character . xxmaj val xxmaj kilmer has not aged well as xxmaj special xxup fbi xxmaj agent xxmaj xxunk , a thickly - xxunk pot - bellied cardboard representation of the one - dimensional g - man . xxmaj adam xxmaj goldberg tries ( and really , really fails ... i mean ... oh boy ) to pull off the super - brain heart - of - gold physics professor \" xxmaj denny \" . xxmaj paula xxmaj patton makes great eye - candy damsel - was - in - distress and flashes us a nipple . the rest of the cast ? meh ... who cares ? \n",
       " \n",
       "  so how is the movie . eh . a 5 / 10 and that 's being generous . \n",
       " \n",
       "  here were the big problems : \n",
       " \n",
       "  * the science was ... well ... utter crap xxup and inconsistent . why could they only see in the xxmaj new xxmaj orleans radius and how exactly did the portable rig work outside of this area ? why could a laser pointer go thru the main \" screen but they needed this big - ass nuclear toaster to send that sheet of paper back ? and , oh , the paper was the utter maximum we could send back but we 've changed out minds and now we can send xxmaj denzel back but he has to be in his undies 'cause his shoes would weigh too much . wha ? and if you want to emphasize that sending the laser bean , sheet of paper and xxmaj xxunk use xxup huge amounts of energy , do n't use the same \" aerial view of the city xxunk out \" all three bloody times . \n",
       " \n",
       "  * there is xxup no character development in this film . none . nada . zilch . and xxmaj xxunk 's character has these unprecedented changes of emotion and character \" quirks \" that makes it nearly impossible to relate to him . \n",
       " \n",
       "  * xxmaj xxunk creates mayhem and carnage on the streets of xxmaj new xxmaj orleans with a tricked - out xxmaj hummer ( with enough product - placement stickers on it to make the movie 's endorsement agent shudder uncontrollably with xxunk ecstasy ) with impunity . he prolly kills several dozen innocent by - standers and does n't get as much as a reduction of his expense account . and it 's xxup boring ! xxmaj tony xxmaj scott has sucked every atom of \" thrill \" from the whole sequence . oooh ... here comes a semi - truck , head - on . will xxmaj xxunk die ? hell no ... xxup and the xxmaj hummer will still be xxunk afterward ! ! ! \n",
       " \n",
       "  * in the final climax , where the xxup heck did the bad guy get the xxunk vest , automatic weapons , and ammo ? he did n't have it when he ran back onto the ferry . \n",
       " \n",
       "  * and while we 're talking about magic guns , and why would xxmaj navy personnel , on their way to xxmaj mardi xxmaj gras , just happen to be wearing full combat gear and toting xxmaj xxunk ?,xxbos i saw the first xxmaj house of the xxmaj dead and expected a root canal to be more pleasant to attend , so when it was n't as bad as that , i was delightfully surprised . \n",
       " \n",
       "  xxmaj unfortunately , i then got my hopes up that the second one might be okay as well ... and i was wrong . \n",
       " \n",
       "  xxmaj apparently i 'm one of the few people who saw this movie that thinks it was bad . \n",
       " \n",
       "  i do n't know whether to watch it again and force myself to see whatever all the people who gave it good reviews saw , or wonder if i saw the wrong movie . \n",
       " \n",
       "  xxmaj ed xxmaj quinn as xxmaj ellis and xxmaj emmanuelle xxmaj vaugier as xxmaj alexandra ' xxmaj nightingale ' xxmaj morgan did a great job in roles that were way beneath them . xxmaj they deserve to be in better movies . \n",
       " \n",
       "  xxmaj the special effects were okay and some of the characters likable / hate - able and that made for a tolerable watch , but for the most part , this movie was just a waste of time . \n",
       " \n",
       "  xxmaj oh and i have to ask this because i found myself asking it aloud xxup all the way through the movie ... did anyone not know how to close doors behind themselves so zombies would n't just wander into the rooms ? xxmaj only once did it happen , ( zombies wandering in ) and i found that a little convenient ... soldiers walk into a room , leave the door wide open , pay little to no attention to same said door so the zombies can just walk in if they feel like it ( with the hapless \" xxunk \" being cornered with no way to escape ) and yet only once did zombies follow them in . \n",
       " \n",
       "  xxmaj nitpicky ? xxmaj maybe but honestly ... if i was fighting for my life , the last thing i 'd do would be to walk into a room and leave the door wide open so zombies could swarm in and eat me . \n",
       " \n",
       "  xxmaj that is really the only thing * bothered * me throughout the movie , and just the movie for the most part was a bad sequel to a not totally abominable original .,xxbos i have just watched the season 2 finale of xxmaj doctor xxmaj who , and apart from a couple of dull episodes this show is fantastic . \n",
       " \n",
       "  xxmaj its a sad loss that we say goodbye to a main character once again in the season final but the show moves on . \n",
       " \n",
       "  xxmaj the xxup bbc does need to increase the budget on the show , there are only so many things that can happen in xxmaj london and the surrounding areas . xxmaj also some of the special effects all though on the main very good , on the odd occasion do need to be a little more polished . \n",
       " \n",
       "  xxmaj it was a huge gamble for the xxup bbc to bring back a show that lost its way a long time ago and they must be congratulated for doing so . \n",
       " \n",
       "  xxmaj roll on to the xxmaj christmas 2006 special , the 2005 xxmaj christmas special was by far the best thing on television .\n",
       "y: LMLabelList\n",
       ",,,,\n",
       "Path: /root/.fastai/data/imdb;\n",
       "\n",
       "Test: None, model=SequentialRNN(\n",
       "  (0): AWD_LSTM(\n",
       "    (encoder): Embedding(60000, 400, padding_idx=1)\n",
       "    (encoder_dp): EmbeddingDropout(\n",
       "      (emb): Embedding(60000, 400, padding_idx=1)\n",
       "    )\n",
       "    (rnns): ModuleList(\n",
       "      (0): WeightDropout(\n",
       "        (module): LSTM(400, 1152, batch_first=True)\n",
       "      )\n",
       "      (1): WeightDropout(\n",
       "        (module): LSTM(1152, 1152, batch_first=True)\n",
       "      )\n",
       "      (2): WeightDropout(\n",
       "        (module): LSTM(1152, 400, batch_first=True)\n",
       "      )\n",
       "    )\n",
       "    (input_dp): RNNDropout()\n",
       "    (hidden_dps): ModuleList(\n",
       "      (0): RNNDropout()\n",
       "      (1): RNNDropout()\n",
       "      (2): RNNDropout()\n",
       "    )\n",
       "  )\n",
       "  (1): LinearDecoder(\n",
       "    (decoder): Linear(in_features=400, out_features=60000, bias=True)\n",
       "    (output_dp): RNNDropout()\n",
       "  )\n",
       "), opt_func=functools.partial(<class 'torch.optim.adam.Adam'>, betas=(0.9, 0.99)), loss_func=FlattenedLoss of CrossEntropyLoss(), metrics=[<function accuracy at 0x7f6de9f2fa60>], true_wd=True, bn_wd=True, wd=0.01, train_bn=True, path=PosixPath('/root/.fastai/data/imdb'), model_dir='models', callback_fns=[functools.partial(<class 'fastai.basic_train.Recorder'>, add_time=True, silent=False)], callbacks=[...], layer_groups=[Sequential(\n",
       "  (0): WeightDropout(\n",
       "    (module): LSTM(400, 1152, batch_first=True)\n",
       "  )\n",
       "  (1): RNNDropout()\n",
       "), Sequential(\n",
       "  (0): WeightDropout(\n",
       "    (module): LSTM(1152, 1152, batch_first=True)\n",
       "  )\n",
       "  (1): RNNDropout()\n",
       "), Sequential(\n",
       "  (0): WeightDropout(\n",
       "    (module): LSTM(1152, 400, batch_first=True)\n",
       "  )\n",
       "  (1): RNNDropout()\n",
       "), Sequential(\n",
       "  (0): Embedding(60000, 400, padding_idx=1)\n",
       "  (1): EmbeddingDropout(\n",
       "    (emb): Embedding(60000, 400, padding_idx=1)\n",
       "  )\n",
       "  (2): LinearDecoder(\n",
       "    (decoder): Linear(in_features=400, out_features=60000, bias=True)\n",
       "    (output_dp): RNNDropout()\n",
       "  )\n",
       ")], add_time=True, silent=False)\n",
       "alpha: 2.0\n",
       "beta: 1.0, MixedPrecision\n",
       "learn: LanguageLearner(data=TextLMDataBunch;\n",
       "\n",
       "Train: LabelList (90000 items)\n",
       "x: LMTextList\n",
       "xxbos xxmaj this movie really sucks , but still it´s fun to watch . xxmaj for 90 minutes it´s just gunfights and explosions . xxmaj no talking , just shooting . xxmaj it´s amazing to see fully grown men act like this , and being serious about it ! xxmaj if you have nothing to do on a late xxmaj sunday night , then give this one a try !,xxbos xxmaj weird xxmaj al was funny as usual in the intro , but that was where the laughs ended . xxmaj this movie tries to recapture the humor of xxmaj airplane and xxmaj the xxmaj naked xxmaj gun , but fails miserably . xxmaj it seems clear that the people who put this movie together did not even understand this type of humor . \n",
       " \n",
       "  xxmaj in xxmaj airplane , the humor lies in taking logical steps from peculiar interpretations of events . \" xxmaj surely your joking \" \" i 'm serious , and do n't call me xxmaj shirley . \" xxmaj now that 's funny . \n",
       " \n",
       "  xxmaj this movie , however , merely has gags without context .,xxbos xxmaj this movie is the best movie that i have ever bought that i did know anything about ! ! ! i only bought it because of xxmaj ryan xxmaj reynolds , but i must say that i will be recommending it to all of my friends and to everyone here . \n",
       " \n",
       "  xxmaj if you want to laugh and watch a movie that is so completely underrated that i want to complain , then please go , buy a copy , rent one , what ever you have to do to be able to see this hilarious movie . xxmaj yes xxup ok the ending is slightly predictable but it does n't matter . \n",
       " \n",
       "  xxmaj if you try it and it did n't suit you then at least you tried something new .,xxbos i saw this movie at 1:30 xxup am one night , and could n't turn it off . i 'm a bit of an obscure movie buff , and i turned this on just as it started - so i did n't know the premise . xxmaj well , within a few minutes , i was dying to see how it turned out . xxmaj because i had xxup no clue what was going on , i really thought this was a documentary about the now - known fake xxmaj nick xxmaj decker . i really felt bad for this guy , because he was a putrid , horrible actor . xxmaj however , the actor playing xxmaj nick was convincing me that this guy was a really bad actor , while when he was not in auditions was what i consider a xxup great performance . xxmaj he really made me think this guy was real , his struggles were genuine , and his angers real . xxmaj he seemed like a young , naive , honest guy from the midwest trying to make it in a killer type of acting atmosphere . xxmaj the best scene in the movie is when xxmaj angie finds out he 's been lying to her . \n",
       " \n",
       "  xxmaj what had captured my attention was when i heard the name xxmaj adam xxmaj rifkin ... who i had heard of , but was n't quite familiar with . xxmaj well , i think he did a terrific job with this movie ! xxmaj sometimes the \" normal \" way of doing things gets old , and this was very refreshing . xxmaj it also goes to show how hard it is to get work in xxmaj hollywood . \n",
       " \n",
       "  xxmaj what the big surprise of this movie was lies with that of the red - headed vixen xxmaj angie xxmaj everheart . i xxup really xxup thought xxup this xxup had happened , with the fake press clips , newspapers clips , etc . xxmaj she was fantastic ! ! ! xxmaj look at her career before this movie , and you will see like 6 jobs in 5 years in movies . xxmaj since this movie , she 's had like 15 jobs in 3 years ! xxmaj angie has really matured as an actress ... i also like how the \" angie \" character was sincere and genuine , it really made me like the personality of her and want to know more about her xxrep 4 . overall , very entertaining .. surprisingly good performances when you find out afterwards it 's fake ( but based on someone else 's story ),xxbos xxmaj george xxmaj orr ( xxmaj lukas xxmaj haas ) tells his psychologist ( xxmaj james xxmaj caan ) that he once lost someone special . xxmaj the psychologist immediately refers to the \" someone special \" as a she . xxmaj george asks , \" xxmaj how do you know it 's a she ? \" xxmaj psychologist : \" xxmaj because you 're a he . \" xxmaj the psychologist has never heard of same - sex relationships ? xxmaj or have all the gay people been killed ? xxmaj george has n't even indicated that it was a romantic relationship , so evidently the producers of this movie do n't even believe in the existence of same - sex friendships ! xxmaj even if you hate gay people , that 's quite an extreme . \n",
       " \n",
       "  xxmaj the rest of the movie is horrible xxunk garbage with xxmaj lisa xxmaj bonet and xxmaj lucas xxmaj haas staring longingly at each other , and then lying in bed congratulating each other for being heterosexual .\n",
       "y: LMLabelList\n",
       ",,,,\n",
       "Path: /root/.fastai/data/imdb;\n",
       "\n",
       "Valid: LabelList (10000 items)\n",
       "x: LMTextList\n",
       "xxbos xxmaj you know you 've got a bad film when you hear that the soundtrack is performed completely on a single cheap xxunk synthesizer , without any melody or sense of rhythm . \n",
       " \n",
       "  xxmaj it 's hard to see how anyone could take this film seriously , even while giving it a bad review . xxmaj this film is way beneath ' bad ' . \n",
       " \n",
       "  xxmaj the continuity of this film is outrageously butchered . xxmaj in one fight scene , we the hero ( wearing xxunk and undershirt ) turn a corner with two revolvers in his hand ; he doubles back , only now he has two semi - xxunk in his hands ; he turns another corner and now he has an automatic rifle in his hands ; he chases down a hallway and comes out ( suddenly dressed in standard army fatigue xxunk a shotgun ; after which he exits the building with yet another automatic rifle . xxmaj or here 's one for the books - a bus slams into a car at high speed ; the car goes flying , thrown by a gigantic explosion - cut to the bus which is completely unscathed from the same explosion ? xxmaj the narrative continuity suffers from an equally numbing sense of unreality ; the bad guys really want to kill the hero - obviously - but every time they knock him out or otherwise get him in a vulnerable position , they suddenly decide they want him \" to live to see this ! \" xxmaj huh ? xxmaj one of the funnier moments of the film is when the hero is released from isolation because his lawyer has come to see him ; then the bad guy decides he 's not going to let the two meet after all ; and this despite the fact that the the villain , the hero and his lawyer all know what 's going on anyway , so the hero writes a note to the lawyer and next we see the note being passed to the lawyer by another prisoner , even though we never see the hero give it to him . ( xxmaj this lawyer , xxup btw , has complete access to the xxmaj offices of the xxup atf in xxmaj california , including its confidential computer files . ) xxmaj huh ? xxmaj well , but it 's a mindless action movie - so how 're the action scenes ? xxmaj not bad , surprisingly ; unfortunately they happen to be xxunk from about a dozen xxmaj hong xxmaj kong films made five or ten years previously . xxmaj the opening scene , a shoot - out in a xxunk garage , actually has shots the composition of which are stolen directly from \" xxmaj hard xxmaj boiled \" - so clearly so that it 's a wonder xxmaj john xxmaj woo did n't sue for plagiarism . \n",
       " \n",
       "  xxmaj other xxmaj hong xxmaj kong films stolen from include \" xxmaj prison on xxmaj fire \" , \" xxmaj island on xxmaj fire \" , \" xxmaj burning xxmaj paradise \" , \" xxmaj police xxmaj story \" i , xxup ii , and xxup iii ( aka \" xxmaj supercop \" ) . i thought i recognized a couple xxmaj sammo xxmaj hung clips here as well . xxmaj in other words , the actions scenes are exciting only to the extent that they are successful xxunk of action scenes from other films . \n",
       " \n",
       "  xxmaj there 's nothing one can do with this film unless one shoots smack and just needs a lot of visual stimuli that need n't be make any sense . \n",
       " \n",
       "  xxmaj very funny film , for all the wrong reasons .,xxbos xxmaj stunning blonde xxmaj natasha xxmaj henstridge is the young , not - so - grieving widow in the mansion on the hill , telling her story to a xxup tv reporter in xxmaj xxunk , xxmaj virginia . xxmaj and among the community 's well - heeled horsey - set , she 's suspected of involvement in the death of her older husband . xxmaj that 's xxmaj james xxmaj brolin , trusting as a babe - in - arms . xxmaj flashback xxunk made in xxmaj canada , based on an article that appeared in xxmaj vanity xxmaj fair magazine . xxmaj it must be true ! xxmaj whatever , it 's far more romance than mystery , and a very familiar tale . xxmaj leggy xxmaj species star xxmaj henstridge as a gold - digging xxunk nurse ? xxmaj it could happen , i guess . xxmaj and it 's good to see xxmaj brolin in a sizeable role after his xxunk turn in xxmaj antwone xxmaj fisher , even if he does n't make it to the end of the picture . xxmaj the end of the picture ? xxmaj he does n't even make it to the beginning of the picture . xxmaj which is why flashbacks were invented , of course .,xxbos the opening credits . and they try and be clever . it does n't work . \n",
       " \n",
       "  our cast : xxmaj agent xxmaj doug xxmaj carlin is played by xxmaj denzel xxmaj washington who seems to be sleep - walking thru this movie with the occasional sudden inexplicable deviation of character . xxmaj val xxmaj kilmer has not aged well as xxmaj special xxup fbi xxmaj agent xxmaj xxunk , a thickly - xxunk pot - bellied cardboard representation of the one - dimensional g - man . xxmaj adam xxmaj goldberg tries ( and really , really fails ... i mean ... oh boy ) to pull off the super - brain heart - of - gold physics professor \" xxmaj denny \" . xxmaj paula xxmaj patton makes great eye - candy damsel - was - in - distress and flashes us a nipple . the rest of the cast ? meh ... who cares ? \n",
       " \n",
       "  so how is the movie . eh . a 5 / 10 and that 's being generous . \n",
       " \n",
       "  here were the big problems : \n",
       " \n",
       "  * the science was ... well ... utter crap xxup and inconsistent . why could they only see in the xxmaj new xxmaj orleans radius and how exactly did the portable rig work outside of this area ? why could a laser pointer go thru the main \" screen but they needed this big - ass nuclear toaster to send that sheet of paper back ? and , oh , the paper was the utter maximum we could send back but we 've changed out minds and now we can send xxmaj denzel back but he has to be in his undies 'cause his shoes would weigh too much . wha ? and if you want to emphasize that sending the laser bean , sheet of paper and xxmaj xxunk use xxup huge amounts of energy , do n't use the same \" aerial view of the city xxunk out \" all three bloody times . \n",
       " \n",
       "  * there is xxup no character development in this film . none . nada . zilch . and xxmaj xxunk 's character has these unprecedented changes of emotion and character \" quirks \" that makes it nearly impossible to relate to him . \n",
       " \n",
       "  * xxmaj xxunk creates mayhem and carnage on the streets of xxmaj new xxmaj orleans with a tricked - out xxmaj hummer ( with enough product - placement stickers on it to make the movie 's endorsement agent shudder uncontrollably with xxunk ecstasy ) with impunity . he prolly kills several dozen innocent by - standers and does n't get as much as a reduction of his expense account . and it 's xxup boring ! xxmaj tony xxmaj scott has sucked every atom of \" thrill \" from the whole sequence . oooh ... here comes a semi - truck , head - on . will xxmaj xxunk die ? hell no ... xxup and the xxmaj hummer will still be xxunk afterward ! ! ! \n",
       " \n",
       "  * in the final climax , where the xxup heck did the bad guy get the xxunk vest , automatic weapons , and ammo ? he did n't have it when he ran back onto the ferry . \n",
       " \n",
       "  * and while we 're talking about magic guns , and why would xxmaj navy personnel , on their way to xxmaj mardi xxmaj gras , just happen to be wearing full combat gear and toting xxmaj xxunk ?,xxbos i saw the first xxmaj house of the xxmaj dead and expected a root canal to be more pleasant to attend , so when it was n't as bad as that , i was delightfully surprised . \n",
       " \n",
       "  xxmaj unfortunately , i then got my hopes up that the second one might be okay as well ... and i was wrong . \n",
       " \n",
       "  xxmaj apparently i 'm one of the few people who saw this movie that thinks it was bad . \n",
       " \n",
       "  i do n't know whether to watch it again and force myself to see whatever all the people who gave it good reviews saw , or wonder if i saw the wrong movie . \n",
       " \n",
       "  xxmaj ed xxmaj quinn as xxmaj ellis and xxmaj emmanuelle xxmaj vaugier as xxmaj alexandra ' xxmaj nightingale ' xxmaj morgan did a great job in roles that were way beneath them . xxmaj they deserve to be in better movies . \n",
       " \n",
       "  xxmaj the special effects were okay and some of the characters likable / hate - able and that made for a tolerable watch , but for the most part , this movie was just a waste of time . \n",
       " \n",
       "  xxmaj oh and i have to ask this because i found myself asking it aloud xxup all the way through the movie ... did anyone not know how to close doors behind themselves so zombies would n't just wander into the rooms ? xxmaj only once did it happen , ( zombies wandering in ) and i found that a little convenient ... soldiers walk into a room , leave the door wide open , pay little to no attention to same said door so the zombies can just walk in if they feel like it ( with the hapless \" xxunk \" being cornered with no way to escape ) and yet only once did zombies follow them in . \n",
       " \n",
       "  xxmaj nitpicky ? xxmaj maybe but honestly ... if i was fighting for my life , the last thing i 'd do would be to walk into a room and leave the door wide open so zombies could swarm in and eat me . \n",
       " \n",
       "  xxmaj that is really the only thing * bothered * me throughout the movie , and just the movie for the most part was a bad sequel to a not totally abominable original .,xxbos i have just watched the season 2 finale of xxmaj doctor xxmaj who , and apart from a couple of dull episodes this show is fantastic . \n",
       " \n",
       "  xxmaj its a sad loss that we say goodbye to a main character once again in the season final but the show moves on . \n",
       " \n",
       "  xxmaj the xxup bbc does need to increase the budget on the show , there are only so many things that can happen in xxmaj london and the surrounding areas . xxmaj also some of the special effects all though on the main very good , on the odd occasion do need to be a little more polished . \n",
       " \n",
       "  xxmaj it was a huge gamble for the xxup bbc to bring back a show that lost its way a long time ago and they must be congratulated for doing so . \n",
       " \n",
       "  xxmaj roll on to the xxmaj christmas 2006 special , the 2005 xxmaj christmas special was by far the best thing on television .\n",
       "y: LMLabelList\n",
       ",,,,\n",
       "Path: /root/.fastai/data/imdb;\n",
       "\n",
       "Test: None, model=SequentialRNN(\n",
       "  (0): AWD_LSTM(\n",
       "    (encoder): Embedding(60000, 400, padding_idx=1)\n",
       "    (encoder_dp): EmbeddingDropout(\n",
       "      (emb): Embedding(60000, 400, padding_idx=1)\n",
       "    )\n",
       "    (rnns): ModuleList(\n",
       "      (0): WeightDropout(\n",
       "        (module): LSTM(400, 1152, batch_first=True)\n",
       "      )\n",
       "      (1): WeightDropout(\n",
       "        (module): LSTM(1152, 1152, batch_first=True)\n",
       "      )\n",
       "      (2): WeightDropout(\n",
       "        (module): LSTM(1152, 400, batch_first=True)\n",
       "      )\n",
       "    )\n",
       "    (input_dp): RNNDropout()\n",
       "    (hidden_dps): ModuleList(\n",
       "      (0): RNNDropout()\n",
       "      (1): RNNDropout()\n",
       "      (2): RNNDropout()\n",
       "    )\n",
       "  )\n",
       "  (1): LinearDecoder(\n",
       "    (decoder): Linear(in_features=400, out_features=60000, bias=True)\n",
       "    (output_dp): RNNDropout()\n",
       "  )\n",
       "), opt_func=functools.partial(<class 'torch.optim.adam.Adam'>, betas=(0.9, 0.99)), loss_func=FlattenedLoss of CrossEntropyLoss(), metrics=[<function accuracy at 0x7f6de9f2fa60>], true_wd=True, bn_wd=True, wd=0.01, train_bn=True, path=PosixPath('/root/.fastai/data/imdb'), model_dir='models', callback_fns=[functools.partial(<class 'fastai.basic_train.Recorder'>, add_time=True, silent=False)], callbacks=[...], layer_groups=[Sequential(\n",
       "  (0): WeightDropout(\n",
       "    (module): LSTM(400, 1152, batch_first=True)\n",
       "  )\n",
       "  (1): RNNDropout()\n",
       "), Sequential(\n",
       "  (0): WeightDropout(\n",
       "    (module): LSTM(1152, 1152, batch_first=True)\n",
       "  )\n",
       "  (1): RNNDropout()\n",
       "), Sequential(\n",
       "  (0): WeightDropout(\n",
       "    (module): LSTM(1152, 400, batch_first=True)\n",
       "  )\n",
       "  (1): RNNDropout()\n",
       "), Sequential(\n",
       "  (0): Embedding(60000, 400, padding_idx=1)\n",
       "  (1): EmbeddingDropout(\n",
       "    (emb): Embedding(60000, 400, padding_idx=1)\n",
       "  )\n",
       "  (2): LinearDecoder(\n",
       "    (decoder): Linear(in_features=400, out_features=60000, bias=True)\n",
       "    (output_dp): RNNDropout()\n",
       "  )\n",
       ")], add_time=True, silent=False)\n",
       "loss_scale: 65536\n",
       "max_noskip: 1000\n",
       "dynamic: True\n",
       "clip: None\n",
       "flat_master: False\n",
       "max_scale: 16777216\n",
       "loss_fp32: True], layer_groups=[Sequential(\n",
       "  (0): WeightDropout(\n",
       "    (module): LSTM(400, 1152, batch_first=True)\n",
       "  )\n",
       "  (1): RNNDropout()\n",
       "), Sequential(\n",
       "  (0): WeightDropout(\n",
       "    (module): LSTM(1152, 1152, batch_first=True)\n",
       "  )\n",
       "  (1): RNNDropout()\n",
       "), Sequential(\n",
       "  (0): WeightDropout(\n",
       "    (module): LSTM(1152, 400, batch_first=True)\n",
       "  )\n",
       "  (1): RNNDropout()\n",
       "), Sequential(\n",
       "  (0): Embedding(60000, 400, padding_idx=1)\n",
       "  (1): EmbeddingDropout(\n",
       "    (emb): Embedding(60000, 400, padding_idx=1)\n",
       "  )\n",
       "  (2): LinearDecoder(\n",
       "    (decoder): Linear(in_features=400, out_features=60000, bias=True)\n",
       "    (output_dp): RNNDropout()\n",
       "  )\n",
       ")], add_time=True, silent=False)"
      ]
     },
     "execution_count": 94,
     "metadata": {},
     "output_type": "execute_result"
    }
   ],
   "source": [
    "learn_lm.to_fp16()"
   ]
  },
  {
   "cell_type": "markdown",
   "metadata": {},
   "source": [
    "#### The first step in fine-tuning is to train only the last layer of the model. \n",
    "This takes about a half-hour on an NVIDIA RTX-2070 GPU"
   ]
  },
  {
   "cell_type": "code",
   "execution_count": 95,
   "metadata": {},
   "outputs": [
    {
     "data": {
      "text/html": [
       "<table border=\"1\" class=\"dataframe\">\n",
       "  <thead>\n",
       "    <tr style=\"text-align: left;\">\n",
       "      <th>epoch</th>\n",
       "      <th>train_loss</th>\n",
       "      <th>valid_loss</th>\n",
       "      <th>accuracy</th>\n",
       "      <th>time</th>\n",
       "    </tr>\n",
       "  </thead>\n",
       "  <tbody>\n",
       "    <tr>\n",
       "      <td>0</td>\n",
       "      <td>4.198261</td>\n",
       "      <td>3.453823</td>\n",
       "      <td>0.314286</td>\n",
       "      <td>09:29</td>\n",
       "    </tr>\n",
       "  </tbody>\n",
       "</table>"
      ],
      "text/plain": [
       "<IPython.core.display.HTML object>"
      ]
     },
     "metadata": {},
     "output_type": "display_data"
    }
   ],
   "source": [
    "# First agrument is for number of epochs\n",
    "learn_lm.fit_one_cycle(1, lr*10, moms=(0.8,0.7))"
   ]
  },
  {
   "cell_type": "markdown",
   "metadata": {},
   "source": [
    "Since this is relatively slow to train, we will save our weights:"
   ]
  },
  {
   "cell_type": "code",
   "execution_count": 96,
   "metadata": {},
   "outputs": [],
   "source": [
    "learn_lm.save('fit_1')"
   ]
  },
  {
   "cell_type": "code",
   "execution_count": 97,
   "metadata": {},
   "outputs": [
    {
     "data": {
      "text/plain": [
       "LanguageLearner(data=TextLMDataBunch;\n",
       "\n",
       "Train: LabelList (90000 items)\n",
       "x: LMTextList\n",
       "xxbos xxmaj this movie really sucks , but still it´s fun to watch . xxmaj for 90 minutes it´s just gunfights and explosions . xxmaj no talking , just shooting . xxmaj it´s amazing to see fully grown men act like this , and being serious about it ! xxmaj if you have nothing to do on a late xxmaj sunday night , then give this one a try !,xxbos xxmaj weird xxmaj al was funny as usual in the intro , but that was where the laughs ended . xxmaj this movie tries to recapture the humor of xxmaj airplane and xxmaj the xxmaj naked xxmaj gun , but fails miserably . xxmaj it seems clear that the people who put this movie together did not even understand this type of humor . \n",
       " \n",
       "  xxmaj in xxmaj airplane , the humor lies in taking logical steps from peculiar interpretations of events . \" xxmaj surely your joking \" \" i 'm serious , and do n't call me xxmaj shirley . \" xxmaj now that 's funny . \n",
       " \n",
       "  xxmaj this movie , however , merely has gags without context .,xxbos xxmaj this movie is the best movie that i have ever bought that i did know anything about ! ! ! i only bought it because of xxmaj ryan xxmaj reynolds , but i must say that i will be recommending it to all of my friends and to everyone here . \n",
       " \n",
       "  xxmaj if you want to laugh and watch a movie that is so completely underrated that i want to complain , then please go , buy a copy , rent one , what ever you have to do to be able to see this hilarious movie . xxmaj yes xxup ok the ending is slightly predictable but it does n't matter . \n",
       " \n",
       "  xxmaj if you try it and it did n't suit you then at least you tried something new .,xxbos i saw this movie at 1:30 xxup am one night , and could n't turn it off . i 'm a bit of an obscure movie buff , and i turned this on just as it started - so i did n't know the premise . xxmaj well , within a few minutes , i was dying to see how it turned out . xxmaj because i had xxup no clue what was going on , i really thought this was a documentary about the now - known fake xxmaj nick xxmaj decker . i really felt bad for this guy , because he was a putrid , horrible actor . xxmaj however , the actor playing xxmaj nick was convincing me that this guy was a really bad actor , while when he was not in auditions was what i consider a xxup great performance . xxmaj he really made me think this guy was real , his struggles were genuine , and his angers real . xxmaj he seemed like a young , naive , honest guy from the midwest trying to make it in a killer type of acting atmosphere . xxmaj the best scene in the movie is when xxmaj angie finds out he 's been lying to her . \n",
       " \n",
       "  xxmaj what had captured my attention was when i heard the name xxmaj adam xxmaj rifkin ... who i had heard of , but was n't quite familiar with . xxmaj well , i think he did a terrific job with this movie ! xxmaj sometimes the \" normal \" way of doing things gets old , and this was very refreshing . xxmaj it also goes to show how hard it is to get work in xxmaj hollywood . \n",
       " \n",
       "  xxmaj what the big surprise of this movie was lies with that of the red - headed vixen xxmaj angie xxmaj everheart . i xxup really xxup thought xxup this xxup had happened , with the fake press clips , newspapers clips , etc . xxmaj she was fantastic ! ! ! xxmaj look at her career before this movie , and you will see like 6 jobs in 5 years in movies . xxmaj since this movie , she 's had like 15 jobs in 3 years ! xxmaj angie has really matured as an actress ... i also like how the \" angie \" character was sincere and genuine , it really made me like the personality of her and want to know more about her xxrep 4 . overall , very entertaining .. surprisingly good performances when you find out afterwards it 's fake ( but based on someone else 's story ),xxbos xxmaj george xxmaj orr ( xxmaj lukas xxmaj haas ) tells his psychologist ( xxmaj james xxmaj caan ) that he once lost someone special . xxmaj the psychologist immediately refers to the \" someone special \" as a she . xxmaj george asks , \" xxmaj how do you know it 's a she ? \" xxmaj psychologist : \" xxmaj because you 're a he . \" xxmaj the psychologist has never heard of same - sex relationships ? xxmaj or have all the gay people been killed ? xxmaj george has n't even indicated that it was a romantic relationship , so evidently the producers of this movie do n't even believe in the existence of same - sex friendships ! xxmaj even if you hate gay people , that 's quite an extreme . \n",
       " \n",
       "  xxmaj the rest of the movie is horrible xxunk garbage with xxmaj lisa xxmaj bonet and xxmaj lucas xxmaj haas staring longingly at each other , and then lying in bed congratulating each other for being heterosexual .\n",
       "y: LMLabelList\n",
       ",,,,\n",
       "Path: /root/.fastai/data/imdb;\n",
       "\n",
       "Valid: LabelList (10000 items)\n",
       "x: LMTextList\n",
       "xxbos xxmaj you know you 've got a bad film when you hear that the soundtrack is performed completely on a single cheap xxunk synthesizer , without any melody or sense of rhythm . \n",
       " \n",
       "  xxmaj it 's hard to see how anyone could take this film seriously , even while giving it a bad review . xxmaj this film is way beneath ' bad ' . \n",
       " \n",
       "  xxmaj the continuity of this film is outrageously butchered . xxmaj in one fight scene , we the hero ( wearing xxunk and undershirt ) turn a corner with two revolvers in his hand ; he doubles back , only now he has two semi - xxunk in his hands ; he turns another corner and now he has an automatic rifle in his hands ; he chases down a hallway and comes out ( suddenly dressed in standard army fatigue xxunk a shotgun ; after which he exits the building with yet another automatic rifle . xxmaj or here 's one for the books - a bus slams into a car at high speed ; the car goes flying , thrown by a gigantic explosion - cut to the bus which is completely unscathed from the same explosion ? xxmaj the narrative continuity suffers from an equally numbing sense of unreality ; the bad guys really want to kill the hero - obviously - but every time they knock him out or otherwise get him in a vulnerable position , they suddenly decide they want him \" to live to see this ! \" xxmaj huh ? xxmaj one of the funnier moments of the film is when the hero is released from isolation because his lawyer has come to see him ; then the bad guy decides he 's not going to let the two meet after all ; and this despite the fact that the the villain , the hero and his lawyer all know what 's going on anyway , so the hero writes a note to the lawyer and next we see the note being passed to the lawyer by another prisoner , even though we never see the hero give it to him . ( xxmaj this lawyer , xxup btw , has complete access to the xxmaj offices of the xxup atf in xxmaj california , including its confidential computer files . ) xxmaj huh ? xxmaj well , but it 's a mindless action movie - so how 're the action scenes ? xxmaj not bad , surprisingly ; unfortunately they happen to be xxunk from about a dozen xxmaj hong xxmaj kong films made five or ten years previously . xxmaj the opening scene , a shoot - out in a xxunk garage , actually has shots the composition of which are stolen directly from \" xxmaj hard xxmaj boiled \" - so clearly so that it 's a wonder xxmaj john xxmaj woo did n't sue for plagiarism . \n",
       " \n",
       "  xxmaj other xxmaj hong xxmaj kong films stolen from include \" xxmaj prison on xxmaj fire \" , \" xxmaj island on xxmaj fire \" , \" xxmaj burning xxmaj paradise \" , \" xxmaj police xxmaj story \" i , xxup ii , and xxup iii ( aka \" xxmaj supercop \" ) . i thought i recognized a couple xxmaj sammo xxmaj hung clips here as well . xxmaj in other words , the actions scenes are exciting only to the extent that they are successful xxunk of action scenes from other films . \n",
       " \n",
       "  xxmaj there 's nothing one can do with this film unless one shoots smack and just needs a lot of visual stimuli that need n't be make any sense . \n",
       " \n",
       "  xxmaj very funny film , for all the wrong reasons .,xxbos xxmaj stunning blonde xxmaj natasha xxmaj henstridge is the young , not - so - grieving widow in the mansion on the hill , telling her story to a xxup tv reporter in xxmaj xxunk , xxmaj virginia . xxmaj and among the community 's well - heeled horsey - set , she 's suspected of involvement in the death of her older husband . xxmaj that 's xxmaj james xxmaj brolin , trusting as a babe - in - arms . xxmaj flashback xxunk made in xxmaj canada , based on an article that appeared in xxmaj vanity xxmaj fair magazine . xxmaj it must be true ! xxmaj whatever , it 's far more romance than mystery , and a very familiar tale . xxmaj leggy xxmaj species star xxmaj henstridge as a gold - digging xxunk nurse ? xxmaj it could happen , i guess . xxmaj and it 's good to see xxmaj brolin in a sizeable role after his xxunk turn in xxmaj antwone xxmaj fisher , even if he does n't make it to the end of the picture . xxmaj the end of the picture ? xxmaj he does n't even make it to the beginning of the picture . xxmaj which is why flashbacks were invented , of course .,xxbos the opening credits . and they try and be clever . it does n't work . \n",
       " \n",
       "  our cast : xxmaj agent xxmaj doug xxmaj carlin is played by xxmaj denzel xxmaj washington who seems to be sleep - walking thru this movie with the occasional sudden inexplicable deviation of character . xxmaj val xxmaj kilmer has not aged well as xxmaj special xxup fbi xxmaj agent xxmaj xxunk , a thickly - xxunk pot - bellied cardboard representation of the one - dimensional g - man . xxmaj adam xxmaj goldberg tries ( and really , really fails ... i mean ... oh boy ) to pull off the super - brain heart - of - gold physics professor \" xxmaj denny \" . xxmaj paula xxmaj patton makes great eye - candy damsel - was - in - distress and flashes us a nipple . the rest of the cast ? meh ... who cares ? \n",
       " \n",
       "  so how is the movie . eh . a 5 / 10 and that 's being generous . \n",
       " \n",
       "  here were the big problems : \n",
       " \n",
       "  * the science was ... well ... utter crap xxup and inconsistent . why could they only see in the xxmaj new xxmaj orleans radius and how exactly did the portable rig work outside of this area ? why could a laser pointer go thru the main \" screen but they needed this big - ass nuclear toaster to send that sheet of paper back ? and , oh , the paper was the utter maximum we could send back but we 've changed out minds and now we can send xxmaj denzel back but he has to be in his undies 'cause his shoes would weigh too much . wha ? and if you want to emphasize that sending the laser bean , sheet of paper and xxmaj xxunk use xxup huge amounts of energy , do n't use the same \" aerial view of the city xxunk out \" all three bloody times . \n",
       " \n",
       "  * there is xxup no character development in this film . none . nada . zilch . and xxmaj xxunk 's character has these unprecedented changes of emotion and character \" quirks \" that makes it nearly impossible to relate to him . \n",
       " \n",
       "  * xxmaj xxunk creates mayhem and carnage on the streets of xxmaj new xxmaj orleans with a tricked - out xxmaj hummer ( with enough product - placement stickers on it to make the movie 's endorsement agent shudder uncontrollably with xxunk ecstasy ) with impunity . he prolly kills several dozen innocent by - standers and does n't get as much as a reduction of his expense account . and it 's xxup boring ! xxmaj tony xxmaj scott has sucked every atom of \" thrill \" from the whole sequence . oooh ... here comes a semi - truck , head - on . will xxmaj xxunk die ? hell no ... xxup and the xxmaj hummer will still be xxunk afterward ! ! ! \n",
       " \n",
       "  * in the final climax , where the xxup heck did the bad guy get the xxunk vest , automatic weapons , and ammo ? he did n't have it when he ran back onto the ferry . \n",
       " \n",
       "  * and while we 're talking about magic guns , and why would xxmaj navy personnel , on their way to xxmaj mardi xxmaj gras , just happen to be wearing full combat gear and toting xxmaj xxunk ?,xxbos i saw the first xxmaj house of the xxmaj dead and expected a root canal to be more pleasant to attend , so when it was n't as bad as that , i was delightfully surprised . \n",
       " \n",
       "  xxmaj unfortunately , i then got my hopes up that the second one might be okay as well ... and i was wrong . \n",
       " \n",
       "  xxmaj apparently i 'm one of the few people who saw this movie that thinks it was bad . \n",
       " \n",
       "  i do n't know whether to watch it again and force myself to see whatever all the people who gave it good reviews saw , or wonder if i saw the wrong movie . \n",
       " \n",
       "  xxmaj ed xxmaj quinn as xxmaj ellis and xxmaj emmanuelle xxmaj vaugier as xxmaj alexandra ' xxmaj nightingale ' xxmaj morgan did a great job in roles that were way beneath them . xxmaj they deserve to be in better movies . \n",
       " \n",
       "  xxmaj the special effects were okay and some of the characters likable / hate - able and that made for a tolerable watch , but for the most part , this movie was just a waste of time . \n",
       " \n",
       "  xxmaj oh and i have to ask this because i found myself asking it aloud xxup all the way through the movie ... did anyone not know how to close doors behind themselves so zombies would n't just wander into the rooms ? xxmaj only once did it happen , ( zombies wandering in ) and i found that a little convenient ... soldiers walk into a room , leave the door wide open , pay little to no attention to same said door so the zombies can just walk in if they feel like it ( with the hapless \" xxunk \" being cornered with no way to escape ) and yet only once did zombies follow them in . \n",
       " \n",
       "  xxmaj nitpicky ? xxmaj maybe but honestly ... if i was fighting for my life , the last thing i 'd do would be to walk into a room and leave the door wide open so zombies could swarm in and eat me . \n",
       " \n",
       "  xxmaj that is really the only thing * bothered * me throughout the movie , and just the movie for the most part was a bad sequel to a not totally abominable original .,xxbos i have just watched the season 2 finale of xxmaj doctor xxmaj who , and apart from a couple of dull episodes this show is fantastic . \n",
       " \n",
       "  xxmaj its a sad loss that we say goodbye to a main character once again in the season final but the show moves on . \n",
       " \n",
       "  xxmaj the xxup bbc does need to increase the budget on the show , there are only so many things that can happen in xxmaj london and the surrounding areas . xxmaj also some of the special effects all though on the main very good , on the odd occasion do need to be a little more polished . \n",
       " \n",
       "  xxmaj it was a huge gamble for the xxup bbc to bring back a show that lost its way a long time ago and they must be congratulated for doing so . \n",
       " \n",
       "  xxmaj roll on to the xxmaj christmas 2006 special , the 2005 xxmaj christmas special was by far the best thing on television .\n",
       "y: LMLabelList\n",
       ",,,,\n",
       "Path: /root/.fastai/data/imdb;\n",
       "\n",
       "Test: None, model=SequentialRNN(\n",
       "  (0): AWD_LSTM(\n",
       "    (encoder): Embedding(60000, 400, padding_idx=1)\n",
       "    (encoder_dp): EmbeddingDropout(\n",
       "      (emb): Embedding(60000, 400, padding_idx=1)\n",
       "    )\n",
       "    (rnns): ModuleList(\n",
       "      (0): WeightDropout(\n",
       "        (module): LSTM(400, 1152, batch_first=True)\n",
       "      )\n",
       "      (1): WeightDropout(\n",
       "        (module): LSTM(1152, 1152, batch_first=True)\n",
       "      )\n",
       "      (2): WeightDropout(\n",
       "        (module): LSTM(1152, 400, batch_first=True)\n",
       "      )\n",
       "    )\n",
       "    (input_dp): RNNDropout()\n",
       "    (hidden_dps): ModuleList(\n",
       "      (0): RNNDropout()\n",
       "      (1): RNNDropout()\n",
       "      (2): RNNDropout()\n",
       "    )\n",
       "  )\n",
       "  (1): LinearDecoder(\n",
       "    (decoder): Linear(in_features=400, out_features=60000, bias=True)\n",
       "    (output_dp): RNNDropout()\n",
       "  )\n",
       "), opt_func=functools.partial(<class 'torch.optim.adam.Adam'>, betas=(0.9, 0.99)), loss_func=FlattenedLoss of CrossEntropyLoss(), metrics=[<function accuracy at 0x7f6de9f2fa60>], true_wd=True, bn_wd=True, wd=0.01, train_bn=True, path=PosixPath('/root/.fastai/data/imdb'), model_dir='models', callback_fns=[functools.partial(<class 'fastai.basic_train.Recorder'>, add_time=True, silent=False)], callbacks=[RNNTrainer\n",
       "learn: LanguageLearner(data=TextLMDataBunch;\n",
       "\n",
       "Train: LabelList (90000 items)\n",
       "x: LMTextList\n",
       "xxbos xxmaj this movie really sucks , but still it´s fun to watch . xxmaj for 90 minutes it´s just gunfights and explosions . xxmaj no talking , just shooting . xxmaj it´s amazing to see fully grown men act like this , and being serious about it ! xxmaj if you have nothing to do on a late xxmaj sunday night , then give this one a try !,xxbos xxmaj weird xxmaj al was funny as usual in the intro , but that was where the laughs ended . xxmaj this movie tries to recapture the humor of xxmaj airplane and xxmaj the xxmaj naked xxmaj gun , but fails miserably . xxmaj it seems clear that the people who put this movie together did not even understand this type of humor . \n",
       " \n",
       "  xxmaj in xxmaj airplane , the humor lies in taking logical steps from peculiar interpretations of events . \" xxmaj surely your joking \" \" i 'm serious , and do n't call me xxmaj shirley . \" xxmaj now that 's funny . \n",
       " \n",
       "  xxmaj this movie , however , merely has gags without context .,xxbos xxmaj this movie is the best movie that i have ever bought that i did know anything about ! ! ! i only bought it because of xxmaj ryan xxmaj reynolds , but i must say that i will be recommending it to all of my friends and to everyone here . \n",
       " \n",
       "  xxmaj if you want to laugh and watch a movie that is so completely underrated that i want to complain , then please go , buy a copy , rent one , what ever you have to do to be able to see this hilarious movie . xxmaj yes xxup ok the ending is slightly predictable but it does n't matter . \n",
       " \n",
       "  xxmaj if you try it and it did n't suit you then at least you tried something new .,xxbos i saw this movie at 1:30 xxup am one night , and could n't turn it off . i 'm a bit of an obscure movie buff , and i turned this on just as it started - so i did n't know the premise . xxmaj well , within a few minutes , i was dying to see how it turned out . xxmaj because i had xxup no clue what was going on , i really thought this was a documentary about the now - known fake xxmaj nick xxmaj decker . i really felt bad for this guy , because he was a putrid , horrible actor . xxmaj however , the actor playing xxmaj nick was convincing me that this guy was a really bad actor , while when he was not in auditions was what i consider a xxup great performance . xxmaj he really made me think this guy was real , his struggles were genuine , and his angers real . xxmaj he seemed like a young , naive , honest guy from the midwest trying to make it in a killer type of acting atmosphere . xxmaj the best scene in the movie is when xxmaj angie finds out he 's been lying to her . \n",
       " \n",
       "  xxmaj what had captured my attention was when i heard the name xxmaj adam xxmaj rifkin ... who i had heard of , but was n't quite familiar with . xxmaj well , i think he did a terrific job with this movie ! xxmaj sometimes the \" normal \" way of doing things gets old , and this was very refreshing . xxmaj it also goes to show how hard it is to get work in xxmaj hollywood . \n",
       " \n",
       "  xxmaj what the big surprise of this movie was lies with that of the red - headed vixen xxmaj angie xxmaj everheart . i xxup really xxup thought xxup this xxup had happened , with the fake press clips , newspapers clips , etc . xxmaj she was fantastic ! ! ! xxmaj look at her career before this movie , and you will see like 6 jobs in 5 years in movies . xxmaj since this movie , she 's had like 15 jobs in 3 years ! xxmaj angie has really matured as an actress ... i also like how the \" angie \" character was sincere and genuine , it really made me like the personality of her and want to know more about her xxrep 4 . overall , very entertaining .. surprisingly good performances when you find out afterwards it 's fake ( but based on someone else 's story ),xxbos xxmaj george xxmaj orr ( xxmaj lukas xxmaj haas ) tells his psychologist ( xxmaj james xxmaj caan ) that he once lost someone special . xxmaj the psychologist immediately refers to the \" someone special \" as a she . xxmaj george asks , \" xxmaj how do you know it 's a she ? \" xxmaj psychologist : \" xxmaj because you 're a he . \" xxmaj the psychologist has never heard of same - sex relationships ? xxmaj or have all the gay people been killed ? xxmaj george has n't even indicated that it was a romantic relationship , so evidently the producers of this movie do n't even believe in the existence of same - sex friendships ! xxmaj even if you hate gay people , that 's quite an extreme . \n",
       " \n",
       "  xxmaj the rest of the movie is horrible xxunk garbage with xxmaj lisa xxmaj bonet and xxmaj lucas xxmaj haas staring longingly at each other , and then lying in bed congratulating each other for being heterosexual .\n",
       "y: LMLabelList\n",
       ",,,,\n",
       "Path: /root/.fastai/data/imdb;\n",
       "\n",
       "Valid: LabelList (10000 items)\n",
       "x: LMTextList\n",
       "xxbos xxmaj you know you 've got a bad film when you hear that the soundtrack is performed completely on a single cheap xxunk synthesizer , without any melody or sense of rhythm . \n",
       " \n",
       "  xxmaj it 's hard to see how anyone could take this film seriously , even while giving it a bad review . xxmaj this film is way beneath ' bad ' . \n",
       " \n",
       "  xxmaj the continuity of this film is outrageously butchered . xxmaj in one fight scene , we the hero ( wearing xxunk and undershirt ) turn a corner with two revolvers in his hand ; he doubles back , only now he has two semi - xxunk in his hands ; he turns another corner and now he has an automatic rifle in his hands ; he chases down a hallway and comes out ( suddenly dressed in standard army fatigue xxunk a shotgun ; after which he exits the building with yet another automatic rifle . xxmaj or here 's one for the books - a bus slams into a car at high speed ; the car goes flying , thrown by a gigantic explosion - cut to the bus which is completely unscathed from the same explosion ? xxmaj the narrative continuity suffers from an equally numbing sense of unreality ; the bad guys really want to kill the hero - obviously - but every time they knock him out or otherwise get him in a vulnerable position , they suddenly decide they want him \" to live to see this ! \" xxmaj huh ? xxmaj one of the funnier moments of the film is when the hero is released from isolation because his lawyer has come to see him ; then the bad guy decides he 's not going to let the two meet after all ; and this despite the fact that the the villain , the hero and his lawyer all know what 's going on anyway , so the hero writes a note to the lawyer and next we see the note being passed to the lawyer by another prisoner , even though we never see the hero give it to him . ( xxmaj this lawyer , xxup btw , has complete access to the xxmaj offices of the xxup atf in xxmaj california , including its confidential computer files . ) xxmaj huh ? xxmaj well , but it 's a mindless action movie - so how 're the action scenes ? xxmaj not bad , surprisingly ; unfortunately they happen to be xxunk from about a dozen xxmaj hong xxmaj kong films made five or ten years previously . xxmaj the opening scene , a shoot - out in a xxunk garage , actually has shots the composition of which are stolen directly from \" xxmaj hard xxmaj boiled \" - so clearly so that it 's a wonder xxmaj john xxmaj woo did n't sue for plagiarism . \n",
       " \n",
       "  xxmaj other xxmaj hong xxmaj kong films stolen from include \" xxmaj prison on xxmaj fire \" , \" xxmaj island on xxmaj fire \" , \" xxmaj burning xxmaj paradise \" , \" xxmaj police xxmaj story \" i , xxup ii , and xxup iii ( aka \" xxmaj supercop \" ) . i thought i recognized a couple xxmaj sammo xxmaj hung clips here as well . xxmaj in other words , the actions scenes are exciting only to the extent that they are successful xxunk of action scenes from other films . \n",
       " \n",
       "  xxmaj there 's nothing one can do with this film unless one shoots smack and just needs a lot of visual stimuli that need n't be make any sense . \n",
       " \n",
       "  xxmaj very funny film , for all the wrong reasons .,xxbos xxmaj stunning blonde xxmaj natasha xxmaj henstridge is the young , not - so - grieving widow in the mansion on the hill , telling her story to a xxup tv reporter in xxmaj xxunk , xxmaj virginia . xxmaj and among the community 's well - heeled horsey - set , she 's suspected of involvement in the death of her older husband . xxmaj that 's xxmaj james xxmaj brolin , trusting as a babe - in - arms . xxmaj flashback xxunk made in xxmaj canada , based on an article that appeared in xxmaj vanity xxmaj fair magazine . xxmaj it must be true ! xxmaj whatever , it 's far more romance than mystery , and a very familiar tale . xxmaj leggy xxmaj species star xxmaj henstridge as a gold - digging xxunk nurse ? xxmaj it could happen , i guess . xxmaj and it 's good to see xxmaj brolin in a sizeable role after his xxunk turn in xxmaj antwone xxmaj fisher , even if he does n't make it to the end of the picture . xxmaj the end of the picture ? xxmaj he does n't even make it to the beginning of the picture . xxmaj which is why flashbacks were invented , of course .,xxbos the opening credits . and they try and be clever . it does n't work . \n",
       " \n",
       "  our cast : xxmaj agent xxmaj doug xxmaj carlin is played by xxmaj denzel xxmaj washington who seems to be sleep - walking thru this movie with the occasional sudden inexplicable deviation of character . xxmaj val xxmaj kilmer has not aged well as xxmaj special xxup fbi xxmaj agent xxmaj xxunk , a thickly - xxunk pot - bellied cardboard representation of the one - dimensional g - man . xxmaj adam xxmaj goldberg tries ( and really , really fails ... i mean ... oh boy ) to pull off the super - brain heart - of - gold physics professor \" xxmaj denny \" . xxmaj paula xxmaj patton makes great eye - candy damsel - was - in - distress and flashes us a nipple . the rest of the cast ? meh ... who cares ? \n",
       " \n",
       "  so how is the movie . eh . a 5 / 10 and that 's being generous . \n",
       " \n",
       "  here were the big problems : \n",
       " \n",
       "  * the science was ... well ... utter crap xxup and inconsistent . why could they only see in the xxmaj new xxmaj orleans radius and how exactly did the portable rig work outside of this area ? why could a laser pointer go thru the main \" screen but they needed this big - ass nuclear toaster to send that sheet of paper back ? and , oh , the paper was the utter maximum we could send back but we 've changed out minds and now we can send xxmaj denzel back but he has to be in his undies 'cause his shoes would weigh too much . wha ? and if you want to emphasize that sending the laser bean , sheet of paper and xxmaj xxunk use xxup huge amounts of energy , do n't use the same \" aerial view of the city xxunk out \" all three bloody times . \n",
       " \n",
       "  * there is xxup no character development in this film . none . nada . zilch . and xxmaj xxunk 's character has these unprecedented changes of emotion and character \" quirks \" that makes it nearly impossible to relate to him . \n",
       " \n",
       "  * xxmaj xxunk creates mayhem and carnage on the streets of xxmaj new xxmaj orleans with a tricked - out xxmaj hummer ( with enough product - placement stickers on it to make the movie 's endorsement agent shudder uncontrollably with xxunk ecstasy ) with impunity . he prolly kills several dozen innocent by - standers and does n't get as much as a reduction of his expense account . and it 's xxup boring ! xxmaj tony xxmaj scott has sucked every atom of \" thrill \" from the whole sequence . oooh ... here comes a semi - truck , head - on . will xxmaj xxunk die ? hell no ... xxup and the xxmaj hummer will still be xxunk afterward ! ! ! \n",
       " \n",
       "  * in the final climax , where the xxup heck did the bad guy get the xxunk vest , automatic weapons , and ammo ? he did n't have it when he ran back onto the ferry . \n",
       " \n",
       "  * and while we 're talking about magic guns , and why would xxmaj navy personnel , on their way to xxmaj mardi xxmaj gras , just happen to be wearing full combat gear and toting xxmaj xxunk ?,xxbos i saw the first xxmaj house of the xxmaj dead and expected a root canal to be more pleasant to attend , so when it was n't as bad as that , i was delightfully surprised . \n",
       " \n",
       "  xxmaj unfortunately , i then got my hopes up that the second one might be okay as well ... and i was wrong . \n",
       " \n",
       "  xxmaj apparently i 'm one of the few people who saw this movie that thinks it was bad . \n",
       " \n",
       "  i do n't know whether to watch it again and force myself to see whatever all the people who gave it good reviews saw , or wonder if i saw the wrong movie . \n",
       " \n",
       "  xxmaj ed xxmaj quinn as xxmaj ellis and xxmaj emmanuelle xxmaj vaugier as xxmaj alexandra ' xxmaj nightingale ' xxmaj morgan did a great job in roles that were way beneath them . xxmaj they deserve to be in better movies . \n",
       " \n",
       "  xxmaj the special effects were okay and some of the characters likable / hate - able and that made for a tolerable watch , but for the most part , this movie was just a waste of time . \n",
       " \n",
       "  xxmaj oh and i have to ask this because i found myself asking it aloud xxup all the way through the movie ... did anyone not know how to close doors behind themselves so zombies would n't just wander into the rooms ? xxmaj only once did it happen , ( zombies wandering in ) and i found that a little convenient ... soldiers walk into a room , leave the door wide open , pay little to no attention to same said door so the zombies can just walk in if they feel like it ( with the hapless \" xxunk \" being cornered with no way to escape ) and yet only once did zombies follow them in . \n",
       " \n",
       "  xxmaj nitpicky ? xxmaj maybe but honestly ... if i was fighting for my life , the last thing i 'd do would be to walk into a room and leave the door wide open so zombies could swarm in and eat me . \n",
       " \n",
       "  xxmaj that is really the only thing * bothered * me throughout the movie , and just the movie for the most part was a bad sequel to a not totally abominable original .,xxbos i have just watched the season 2 finale of xxmaj doctor xxmaj who , and apart from a couple of dull episodes this show is fantastic . \n",
       " \n",
       "  xxmaj its a sad loss that we say goodbye to a main character once again in the season final but the show moves on . \n",
       " \n",
       "  xxmaj the xxup bbc does need to increase the budget on the show , there are only so many things that can happen in xxmaj london and the surrounding areas . xxmaj also some of the special effects all though on the main very good , on the odd occasion do need to be a little more polished . \n",
       " \n",
       "  xxmaj it was a huge gamble for the xxup bbc to bring back a show that lost its way a long time ago and they must be congratulated for doing so . \n",
       " \n",
       "  xxmaj roll on to the xxmaj christmas 2006 special , the 2005 xxmaj christmas special was by far the best thing on television .\n",
       "y: LMLabelList\n",
       ",,,,\n",
       "Path: /root/.fastai/data/imdb;\n",
       "\n",
       "Test: None, model=SequentialRNN(\n",
       "  (0): AWD_LSTM(\n",
       "    (encoder): Embedding(60000, 400, padding_idx=1)\n",
       "    (encoder_dp): EmbeddingDropout(\n",
       "      (emb): Embedding(60000, 400, padding_idx=1)\n",
       "    )\n",
       "    (rnns): ModuleList(\n",
       "      (0): WeightDropout(\n",
       "        (module): LSTM(400, 1152, batch_first=True)\n",
       "      )\n",
       "      (1): WeightDropout(\n",
       "        (module): LSTM(1152, 1152, batch_first=True)\n",
       "      )\n",
       "      (2): WeightDropout(\n",
       "        (module): LSTM(1152, 400, batch_first=True)\n",
       "      )\n",
       "    )\n",
       "    (input_dp): RNNDropout()\n",
       "    (hidden_dps): ModuleList(\n",
       "      (0): RNNDropout()\n",
       "      (1): RNNDropout()\n",
       "      (2): RNNDropout()\n",
       "    )\n",
       "  )\n",
       "  (1): LinearDecoder(\n",
       "    (decoder): Linear(in_features=400, out_features=60000, bias=True)\n",
       "    (output_dp): RNNDropout()\n",
       "  )\n",
       "), opt_func=functools.partial(<class 'torch.optim.adam.Adam'>, betas=(0.9, 0.99)), loss_func=FlattenedLoss of CrossEntropyLoss(), metrics=[<function accuracy at 0x7f6de9f2fa60>], true_wd=True, bn_wd=True, wd=0.01, train_bn=True, path=PosixPath('/root/.fastai/data/imdb'), model_dir='models', callback_fns=[functools.partial(<class 'fastai.basic_train.Recorder'>, add_time=True, silent=False)], callbacks=[...], layer_groups=[Sequential(\n",
       "  (0): WeightDropout(\n",
       "    (module): LSTM(400, 1152, batch_first=True)\n",
       "  )\n",
       "  (1): RNNDropout()\n",
       "), Sequential(\n",
       "  (0): WeightDropout(\n",
       "    (module): LSTM(1152, 1152, batch_first=True)\n",
       "  )\n",
       "  (1): RNNDropout()\n",
       "), Sequential(\n",
       "  (0): WeightDropout(\n",
       "    (module): LSTM(1152, 400, batch_first=True)\n",
       "  )\n",
       "  (1): RNNDropout()\n",
       "), Sequential(\n",
       "  (0): Embedding(60000, 400, padding_idx=1)\n",
       "  (1): EmbeddingDropout(\n",
       "    (emb): Embedding(60000, 400, padding_idx=1)\n",
       "  )\n",
       "  (2): LinearDecoder(\n",
       "    (decoder): Linear(in_features=400, out_features=60000, bias=True)\n",
       "    (output_dp): RNNDropout()\n",
       "  )\n",
       ")], add_time=True, silent=False)\n",
       "alpha: 2.0\n",
       "beta: 1.0, MixedPrecision\n",
       "learn: LanguageLearner(data=TextLMDataBunch;\n",
       "\n",
       "Train: LabelList (90000 items)\n",
       "x: LMTextList\n",
       "xxbos xxmaj this movie really sucks , but still it´s fun to watch . xxmaj for 90 minutes it´s just gunfights and explosions . xxmaj no talking , just shooting . xxmaj it´s amazing to see fully grown men act like this , and being serious about it ! xxmaj if you have nothing to do on a late xxmaj sunday night , then give this one a try !,xxbos xxmaj weird xxmaj al was funny as usual in the intro , but that was where the laughs ended . xxmaj this movie tries to recapture the humor of xxmaj airplane and xxmaj the xxmaj naked xxmaj gun , but fails miserably . xxmaj it seems clear that the people who put this movie together did not even understand this type of humor . \n",
       " \n",
       "  xxmaj in xxmaj airplane , the humor lies in taking logical steps from peculiar interpretations of events . \" xxmaj surely your joking \" \" i 'm serious , and do n't call me xxmaj shirley . \" xxmaj now that 's funny . \n",
       " \n",
       "  xxmaj this movie , however , merely has gags without context .,xxbos xxmaj this movie is the best movie that i have ever bought that i did know anything about ! ! ! i only bought it because of xxmaj ryan xxmaj reynolds , but i must say that i will be recommending it to all of my friends and to everyone here . \n",
       " \n",
       "  xxmaj if you want to laugh and watch a movie that is so completely underrated that i want to complain , then please go , buy a copy , rent one , what ever you have to do to be able to see this hilarious movie . xxmaj yes xxup ok the ending is slightly predictable but it does n't matter . \n",
       " \n",
       "  xxmaj if you try it and it did n't suit you then at least you tried something new .,xxbos i saw this movie at 1:30 xxup am one night , and could n't turn it off . i 'm a bit of an obscure movie buff , and i turned this on just as it started - so i did n't know the premise . xxmaj well , within a few minutes , i was dying to see how it turned out . xxmaj because i had xxup no clue what was going on , i really thought this was a documentary about the now - known fake xxmaj nick xxmaj decker . i really felt bad for this guy , because he was a putrid , horrible actor . xxmaj however , the actor playing xxmaj nick was convincing me that this guy was a really bad actor , while when he was not in auditions was what i consider a xxup great performance . xxmaj he really made me think this guy was real , his struggles were genuine , and his angers real . xxmaj he seemed like a young , naive , honest guy from the midwest trying to make it in a killer type of acting atmosphere . xxmaj the best scene in the movie is when xxmaj angie finds out he 's been lying to her . \n",
       " \n",
       "  xxmaj what had captured my attention was when i heard the name xxmaj adam xxmaj rifkin ... who i had heard of , but was n't quite familiar with . xxmaj well , i think he did a terrific job with this movie ! xxmaj sometimes the \" normal \" way of doing things gets old , and this was very refreshing . xxmaj it also goes to show how hard it is to get work in xxmaj hollywood . \n",
       " \n",
       "  xxmaj what the big surprise of this movie was lies with that of the red - headed vixen xxmaj angie xxmaj everheart . i xxup really xxup thought xxup this xxup had happened , with the fake press clips , newspapers clips , etc . xxmaj she was fantastic ! ! ! xxmaj look at her career before this movie , and you will see like 6 jobs in 5 years in movies . xxmaj since this movie , she 's had like 15 jobs in 3 years ! xxmaj angie has really matured as an actress ... i also like how the \" angie \" character was sincere and genuine , it really made me like the personality of her and want to know more about her xxrep 4 . overall , very entertaining .. surprisingly good performances when you find out afterwards it 's fake ( but based on someone else 's story ),xxbos xxmaj george xxmaj orr ( xxmaj lukas xxmaj haas ) tells his psychologist ( xxmaj james xxmaj caan ) that he once lost someone special . xxmaj the psychologist immediately refers to the \" someone special \" as a she . xxmaj george asks , \" xxmaj how do you know it 's a she ? \" xxmaj psychologist : \" xxmaj because you 're a he . \" xxmaj the psychologist has never heard of same - sex relationships ? xxmaj or have all the gay people been killed ? xxmaj george has n't even indicated that it was a romantic relationship , so evidently the producers of this movie do n't even believe in the existence of same - sex friendships ! xxmaj even if you hate gay people , that 's quite an extreme . \n",
       " \n",
       "  xxmaj the rest of the movie is horrible xxunk garbage with xxmaj lisa xxmaj bonet and xxmaj lucas xxmaj haas staring longingly at each other , and then lying in bed congratulating each other for being heterosexual .\n",
       "y: LMLabelList\n",
       ",,,,\n",
       "Path: /root/.fastai/data/imdb;\n",
       "\n",
       "Valid: LabelList (10000 items)\n",
       "x: LMTextList\n",
       "xxbos xxmaj you know you 've got a bad film when you hear that the soundtrack is performed completely on a single cheap xxunk synthesizer , without any melody or sense of rhythm . \n",
       " \n",
       "  xxmaj it 's hard to see how anyone could take this film seriously , even while giving it a bad review . xxmaj this film is way beneath ' bad ' . \n",
       " \n",
       "  xxmaj the continuity of this film is outrageously butchered . xxmaj in one fight scene , we the hero ( wearing xxunk and undershirt ) turn a corner with two revolvers in his hand ; he doubles back , only now he has two semi - xxunk in his hands ; he turns another corner and now he has an automatic rifle in his hands ; he chases down a hallway and comes out ( suddenly dressed in standard army fatigue xxunk a shotgun ; after which he exits the building with yet another automatic rifle . xxmaj or here 's one for the books - a bus slams into a car at high speed ; the car goes flying , thrown by a gigantic explosion - cut to the bus which is completely unscathed from the same explosion ? xxmaj the narrative continuity suffers from an equally numbing sense of unreality ; the bad guys really want to kill the hero - obviously - but every time they knock him out or otherwise get him in a vulnerable position , they suddenly decide they want him \" to live to see this ! \" xxmaj huh ? xxmaj one of the funnier moments of the film is when the hero is released from isolation because his lawyer has come to see him ; then the bad guy decides he 's not going to let the two meet after all ; and this despite the fact that the the villain , the hero and his lawyer all know what 's going on anyway , so the hero writes a note to the lawyer and next we see the note being passed to the lawyer by another prisoner , even though we never see the hero give it to him . ( xxmaj this lawyer , xxup btw , has complete access to the xxmaj offices of the xxup atf in xxmaj california , including its confidential computer files . ) xxmaj huh ? xxmaj well , but it 's a mindless action movie - so how 're the action scenes ? xxmaj not bad , surprisingly ; unfortunately they happen to be xxunk from about a dozen xxmaj hong xxmaj kong films made five or ten years previously . xxmaj the opening scene , a shoot - out in a xxunk garage , actually has shots the composition of which are stolen directly from \" xxmaj hard xxmaj boiled \" - so clearly so that it 's a wonder xxmaj john xxmaj woo did n't sue for plagiarism . \n",
       " \n",
       "  xxmaj other xxmaj hong xxmaj kong films stolen from include \" xxmaj prison on xxmaj fire \" , \" xxmaj island on xxmaj fire \" , \" xxmaj burning xxmaj paradise \" , \" xxmaj police xxmaj story \" i , xxup ii , and xxup iii ( aka \" xxmaj supercop \" ) . i thought i recognized a couple xxmaj sammo xxmaj hung clips here as well . xxmaj in other words , the actions scenes are exciting only to the extent that they are successful xxunk of action scenes from other films . \n",
       " \n",
       "  xxmaj there 's nothing one can do with this film unless one shoots smack and just needs a lot of visual stimuli that need n't be make any sense . \n",
       " \n",
       "  xxmaj very funny film , for all the wrong reasons .,xxbos xxmaj stunning blonde xxmaj natasha xxmaj henstridge is the young , not - so - grieving widow in the mansion on the hill , telling her story to a xxup tv reporter in xxmaj xxunk , xxmaj virginia . xxmaj and among the community 's well - heeled horsey - set , she 's suspected of involvement in the death of her older husband . xxmaj that 's xxmaj james xxmaj brolin , trusting as a babe - in - arms . xxmaj flashback xxunk made in xxmaj canada , based on an article that appeared in xxmaj vanity xxmaj fair magazine . xxmaj it must be true ! xxmaj whatever , it 's far more romance than mystery , and a very familiar tale . xxmaj leggy xxmaj species star xxmaj henstridge as a gold - digging xxunk nurse ? xxmaj it could happen , i guess . xxmaj and it 's good to see xxmaj brolin in a sizeable role after his xxunk turn in xxmaj antwone xxmaj fisher , even if he does n't make it to the end of the picture . xxmaj the end of the picture ? xxmaj he does n't even make it to the beginning of the picture . xxmaj which is why flashbacks were invented , of course .,xxbos the opening credits . and they try and be clever . it does n't work . \n",
       " \n",
       "  our cast : xxmaj agent xxmaj doug xxmaj carlin is played by xxmaj denzel xxmaj washington who seems to be sleep - walking thru this movie with the occasional sudden inexplicable deviation of character . xxmaj val xxmaj kilmer has not aged well as xxmaj special xxup fbi xxmaj agent xxmaj xxunk , a thickly - xxunk pot - bellied cardboard representation of the one - dimensional g - man . xxmaj adam xxmaj goldberg tries ( and really , really fails ... i mean ... oh boy ) to pull off the super - brain heart - of - gold physics professor \" xxmaj denny \" . xxmaj paula xxmaj patton makes great eye - candy damsel - was - in - distress and flashes us a nipple . the rest of the cast ? meh ... who cares ? \n",
       " \n",
       "  so how is the movie . eh . a 5 / 10 and that 's being generous . \n",
       " \n",
       "  here were the big problems : \n",
       " \n",
       "  * the science was ... well ... utter crap xxup and inconsistent . why could they only see in the xxmaj new xxmaj orleans radius and how exactly did the portable rig work outside of this area ? why could a laser pointer go thru the main \" screen but they needed this big - ass nuclear toaster to send that sheet of paper back ? and , oh , the paper was the utter maximum we could send back but we 've changed out minds and now we can send xxmaj denzel back but he has to be in his undies 'cause his shoes would weigh too much . wha ? and if you want to emphasize that sending the laser bean , sheet of paper and xxmaj xxunk use xxup huge amounts of energy , do n't use the same \" aerial view of the city xxunk out \" all three bloody times . \n",
       " \n",
       "  * there is xxup no character development in this film . none . nada . zilch . and xxmaj xxunk 's character has these unprecedented changes of emotion and character \" quirks \" that makes it nearly impossible to relate to him . \n",
       " \n",
       "  * xxmaj xxunk creates mayhem and carnage on the streets of xxmaj new xxmaj orleans with a tricked - out xxmaj hummer ( with enough product - placement stickers on it to make the movie 's endorsement agent shudder uncontrollably with xxunk ecstasy ) with impunity . he prolly kills several dozen innocent by - standers and does n't get as much as a reduction of his expense account . and it 's xxup boring ! xxmaj tony xxmaj scott has sucked every atom of \" thrill \" from the whole sequence . oooh ... here comes a semi - truck , head - on . will xxmaj xxunk die ? hell no ... xxup and the xxmaj hummer will still be xxunk afterward ! ! ! \n",
       " \n",
       "  * in the final climax , where the xxup heck did the bad guy get the xxunk vest , automatic weapons , and ammo ? he did n't have it when he ran back onto the ferry . \n",
       " \n",
       "  * and while we 're talking about magic guns , and why would xxmaj navy personnel , on their way to xxmaj mardi xxmaj gras , just happen to be wearing full combat gear and toting xxmaj xxunk ?,xxbos i saw the first xxmaj house of the xxmaj dead and expected a root canal to be more pleasant to attend , so when it was n't as bad as that , i was delightfully surprised . \n",
       " \n",
       "  xxmaj unfortunately , i then got my hopes up that the second one might be okay as well ... and i was wrong . \n",
       " \n",
       "  xxmaj apparently i 'm one of the few people who saw this movie that thinks it was bad . \n",
       " \n",
       "  i do n't know whether to watch it again and force myself to see whatever all the people who gave it good reviews saw , or wonder if i saw the wrong movie . \n",
       " \n",
       "  xxmaj ed xxmaj quinn as xxmaj ellis and xxmaj emmanuelle xxmaj vaugier as xxmaj alexandra ' xxmaj nightingale ' xxmaj morgan did a great job in roles that were way beneath them . xxmaj they deserve to be in better movies . \n",
       " \n",
       "  xxmaj the special effects were okay and some of the characters likable / hate - able and that made for a tolerable watch , but for the most part , this movie was just a waste of time . \n",
       " \n",
       "  xxmaj oh and i have to ask this because i found myself asking it aloud xxup all the way through the movie ... did anyone not know how to close doors behind themselves so zombies would n't just wander into the rooms ? xxmaj only once did it happen , ( zombies wandering in ) and i found that a little convenient ... soldiers walk into a room , leave the door wide open , pay little to no attention to same said door so the zombies can just walk in if they feel like it ( with the hapless \" xxunk \" being cornered with no way to escape ) and yet only once did zombies follow them in . \n",
       " \n",
       "  xxmaj nitpicky ? xxmaj maybe but honestly ... if i was fighting for my life , the last thing i 'd do would be to walk into a room and leave the door wide open so zombies could swarm in and eat me . \n",
       " \n",
       "  xxmaj that is really the only thing * bothered * me throughout the movie , and just the movie for the most part was a bad sequel to a not totally abominable original .,xxbos i have just watched the season 2 finale of xxmaj doctor xxmaj who , and apart from a couple of dull episodes this show is fantastic . \n",
       " \n",
       "  xxmaj its a sad loss that we say goodbye to a main character once again in the season final but the show moves on . \n",
       " \n",
       "  xxmaj the xxup bbc does need to increase the budget on the show , there are only so many things that can happen in xxmaj london and the surrounding areas . xxmaj also some of the special effects all though on the main very good , on the odd occasion do need to be a little more polished . \n",
       " \n",
       "  xxmaj it was a huge gamble for the xxup bbc to bring back a show that lost its way a long time ago and they must be congratulated for doing so . \n",
       " \n",
       "  xxmaj roll on to the xxmaj christmas 2006 special , the 2005 xxmaj christmas special was by far the best thing on television .\n",
       "y: LMLabelList\n",
       ",,,,\n",
       "Path: /root/.fastai/data/imdb;\n",
       "\n",
       "Test: None, model=SequentialRNN(\n",
       "  (0): AWD_LSTM(\n",
       "    (encoder): Embedding(60000, 400, padding_idx=1)\n",
       "    (encoder_dp): EmbeddingDropout(\n",
       "      (emb): Embedding(60000, 400, padding_idx=1)\n",
       "    )\n",
       "    (rnns): ModuleList(\n",
       "      (0): WeightDropout(\n",
       "        (module): LSTM(400, 1152, batch_first=True)\n",
       "      )\n",
       "      (1): WeightDropout(\n",
       "        (module): LSTM(1152, 1152, batch_first=True)\n",
       "      )\n",
       "      (2): WeightDropout(\n",
       "        (module): LSTM(1152, 400, batch_first=True)\n",
       "      )\n",
       "    )\n",
       "    (input_dp): RNNDropout()\n",
       "    (hidden_dps): ModuleList(\n",
       "      (0): RNNDropout()\n",
       "      (1): RNNDropout()\n",
       "      (2): RNNDropout()\n",
       "    )\n",
       "  )\n",
       "  (1): LinearDecoder(\n",
       "    (decoder): Linear(in_features=400, out_features=60000, bias=True)\n",
       "    (output_dp): RNNDropout()\n",
       "  )\n",
       "), opt_func=functools.partial(<class 'torch.optim.adam.Adam'>, betas=(0.9, 0.99)), loss_func=FlattenedLoss of CrossEntropyLoss(), metrics=[<function accuracy at 0x7f6de9f2fa60>], true_wd=True, bn_wd=True, wd=0.01, train_bn=True, path=PosixPath('/root/.fastai/data/imdb'), model_dir='models', callback_fns=[functools.partial(<class 'fastai.basic_train.Recorder'>, add_time=True, silent=False)], callbacks=[...], layer_groups=[Sequential(\n",
       "  (0): WeightDropout(\n",
       "    (module): LSTM(400, 1152, batch_first=True)\n",
       "  )\n",
       "  (1): RNNDropout()\n",
       "), Sequential(\n",
       "  (0): WeightDropout(\n",
       "    (module): LSTM(1152, 1152, batch_first=True)\n",
       "  )\n",
       "  (1): RNNDropout()\n",
       "), Sequential(\n",
       "  (0): WeightDropout(\n",
       "    (module): LSTM(1152, 400, batch_first=True)\n",
       "  )\n",
       "  (1): RNNDropout()\n",
       "), Sequential(\n",
       "  (0): Embedding(60000, 400, padding_idx=1)\n",
       "  (1): EmbeddingDropout(\n",
       "    (emb): Embedding(60000, 400, padding_idx=1)\n",
       "  )\n",
       "  (2): LinearDecoder(\n",
       "    (decoder): Linear(in_features=400, out_features=60000, bias=True)\n",
       "    (output_dp): RNNDropout()\n",
       "  )\n",
       ")], add_time=True, silent=False)\n",
       "loss_scale: 1048576.0\n",
       "max_noskip: 1000\n",
       "dynamic: True\n",
       "clip: None\n",
       "flat_master: False\n",
       "max_scale: 16777216\n",
       "loss_fp32: True], layer_groups=[Sequential(\n",
       "  (0): WeightDropout(\n",
       "    (module): LSTM(400, 1152, batch_first=True)\n",
       "  )\n",
       "  (1): RNNDropout()\n",
       "), Sequential(\n",
       "  (0): WeightDropout(\n",
       "    (module): LSTM(1152, 1152, batch_first=True)\n",
       "  )\n",
       "  (1): RNNDropout()\n",
       "), Sequential(\n",
       "  (0): WeightDropout(\n",
       "    (module): LSTM(1152, 400, batch_first=True)\n",
       "  )\n",
       "  (1): RNNDropout()\n",
       "), Sequential(\n",
       "  (0): Embedding(60000, 400, padding_idx=1)\n",
       "  (1): EmbeddingDropout(\n",
       "    (emb): Embedding(60000, 400, padding_idx=1)\n",
       "  )\n",
       "  (2): LinearDecoder(\n",
       "    (decoder): Linear(in_features=400, out_features=60000, bias=True)\n",
       "    (output_dp): RNNDropout()\n",
       "  )\n",
       ")], add_time=True, silent=False)"
      ]
     },
     "execution_count": 97,
     "metadata": {},
     "output_type": "execute_result"
    }
   ],
   "source": [
    "learn_lm.load('fit_1')"
   ]
  },
  {
   "cell_type": "markdown",
   "metadata": {},
   "source": [
    "#### To complete the fine-tuning, we unfreeze all the weights and retrain\n",
    "Adopting the `wikitext-103` weights as initial values, our neural network will adjust them via optimization, finding new values that are specialized to the \"language\" of `IMDb` movie reviews."
   ]
  },
  {
   "cell_type": "code",
   "execution_count": 98,
   "metadata": {},
   "outputs": [],
   "source": [
    "learn_lm.unfreeze()"
   ]
  },
  {
   "cell_type": "markdown",
   "metadata": {},
   "source": [
    "Fine tuning the model takes ~30 minutes per epoch on an NVIDIA RTX-2070 GPU, with bs=48<br>\n",
    "Note the relatively low value of accuracy, which did not improve significantly beyond `epoch 4`."
   ]
  },
  {
   "cell_type": "code",
   "execution_count": 101,
   "metadata": {
    "scrolled": false
   },
   "outputs": [
    {
     "data": {
      "text/html": [
       "<table border=\"1\" class=\"dataframe\">\n",
       "  <thead>\n",
       "    <tr style=\"text-align: left;\">\n",
       "      <th>epoch</th>\n",
       "      <th>train_loss</th>\n",
       "      <th>valid_loss</th>\n",
       "      <th>accuracy</th>\n",
       "      <th>time</th>\n",
       "    </tr>\n",
       "  </thead>\n",
       "  <tbody>\n",
       "    <tr>\n",
       "      <td>0</td>\n",
       "      <td>3.865962</td>\n",
       "      <td>3.245415</td>\n",
       "      <td>0.328571</td>\n",
       "      <td>10:46</td>\n",
       "    </tr>\n",
       "    <tr>\n",
       "      <td>1</td>\n",
       "      <td>3.784315</td>\n",
       "      <td>3.027055</td>\n",
       "      <td>0.342857</td>\n",
       "      <td>10:47</td>\n",
       "    </tr>\n",
       "    <tr>\n",
       "      <td>2</td>\n",
       "      <td>3.663490</td>\n",
       "      <td>3.052638</td>\n",
       "      <td>0.328571</td>\n",
       "      <td>10:47</td>\n",
       "    </tr>\n",
       "    <tr>\n",
       "      <td>3</td>\n",
       "      <td>3.557797</td>\n",
       "      <td>3.027271</td>\n",
       "      <td>0.328571</td>\n",
       "      <td>10:45</td>\n",
       "    </tr>\n",
       "  </tbody>\n",
       "</table>"
      ],
      "text/plain": [
       "<IPython.core.display.HTML object>"
      ]
     },
     "metadata": {},
     "output_type": "display_data"
    }
   ],
   "source": [
    "learn_lm.fit_one_cycle(4, lr, moms=(0.8,0.7))"
   ]
  },
  {
   "cell_type": "markdown",
   "metadata": {},
   "source": [
    "#### Save the fine-tuned **language model** and the **encoder**\n",
    "We have to save not just the `fine-tuned` **IMDb language model** but also its **encoder**. The **language model** is the part that tries to guess the next word. The **encoder** is the part that's responsible for creating and updating the hidden state. \n",
    "\n",
    "In the next part we will build a **sentiment classifier** for the IMDb movie reviews. To do this we will need the **encoder** from the **IMDb language model** that we built."
   ]
  },
  {
   "cell_type": "code",
   "execution_count": 102,
   "metadata": {},
   "outputs": [],
   "source": [
    "learn_lm.save('fine_tuned')"
   ]
  },
  {
   "cell_type": "code",
   "execution_count": 103,
   "metadata": {},
   "outputs": [],
   "source": [
    "learn_lm.save_encoder('fine_tuned_enc')"
   ]
  },
  {
   "cell_type": "markdown",
   "metadata": {
    "heading_collapsed": true
   },
   "source": [
    "#### Load the saved **model** and its **encoder**"
   ]
  },
  {
   "cell_type": "code",
   "execution_count": 104,
   "metadata": {
    "hidden": true
   },
   "outputs": [
    {
     "data": {
      "text/plain": [
       "LanguageLearner(data=TextLMDataBunch;\n",
       "\n",
       "Train: LabelList (90000 items)\n",
       "x: LMTextList\n",
       "xxbos xxmaj this movie really sucks , but still it´s fun to watch . xxmaj for 90 minutes it´s just gunfights and explosions . xxmaj no talking , just shooting . xxmaj it´s amazing to see fully grown men act like this , and being serious about it ! xxmaj if you have nothing to do on a late xxmaj sunday night , then give this one a try !,xxbos xxmaj weird xxmaj al was funny as usual in the intro , but that was where the laughs ended . xxmaj this movie tries to recapture the humor of xxmaj airplane and xxmaj the xxmaj naked xxmaj gun , but fails miserably . xxmaj it seems clear that the people who put this movie together did not even understand this type of humor . \n",
       " \n",
       "  xxmaj in xxmaj airplane , the humor lies in taking logical steps from peculiar interpretations of events . \" xxmaj surely your joking \" \" i 'm serious , and do n't call me xxmaj shirley . \" xxmaj now that 's funny . \n",
       " \n",
       "  xxmaj this movie , however , merely has gags without context .,xxbos xxmaj this movie is the best movie that i have ever bought that i did know anything about ! ! ! i only bought it because of xxmaj ryan xxmaj reynolds , but i must say that i will be recommending it to all of my friends and to everyone here . \n",
       " \n",
       "  xxmaj if you want to laugh and watch a movie that is so completely underrated that i want to complain , then please go , buy a copy , rent one , what ever you have to do to be able to see this hilarious movie . xxmaj yes xxup ok the ending is slightly predictable but it does n't matter . \n",
       " \n",
       "  xxmaj if you try it and it did n't suit you then at least you tried something new .,xxbos i saw this movie at 1:30 xxup am one night , and could n't turn it off . i 'm a bit of an obscure movie buff , and i turned this on just as it started - so i did n't know the premise . xxmaj well , within a few minutes , i was dying to see how it turned out . xxmaj because i had xxup no clue what was going on , i really thought this was a documentary about the now - known fake xxmaj nick xxmaj decker . i really felt bad for this guy , because he was a putrid , horrible actor . xxmaj however , the actor playing xxmaj nick was convincing me that this guy was a really bad actor , while when he was not in auditions was what i consider a xxup great performance . xxmaj he really made me think this guy was real , his struggles were genuine , and his angers real . xxmaj he seemed like a young , naive , honest guy from the midwest trying to make it in a killer type of acting atmosphere . xxmaj the best scene in the movie is when xxmaj angie finds out he 's been lying to her . \n",
       " \n",
       "  xxmaj what had captured my attention was when i heard the name xxmaj adam xxmaj rifkin ... who i had heard of , but was n't quite familiar with . xxmaj well , i think he did a terrific job with this movie ! xxmaj sometimes the \" normal \" way of doing things gets old , and this was very refreshing . xxmaj it also goes to show how hard it is to get work in xxmaj hollywood . \n",
       " \n",
       "  xxmaj what the big surprise of this movie was lies with that of the red - headed vixen xxmaj angie xxmaj everheart . i xxup really xxup thought xxup this xxup had happened , with the fake press clips , newspapers clips , etc . xxmaj she was fantastic ! ! ! xxmaj look at her career before this movie , and you will see like 6 jobs in 5 years in movies . xxmaj since this movie , she 's had like 15 jobs in 3 years ! xxmaj angie has really matured as an actress ... i also like how the \" angie \" character was sincere and genuine , it really made me like the personality of her and want to know more about her xxrep 4 . overall , very entertaining .. surprisingly good performances when you find out afterwards it 's fake ( but based on someone else 's story ),xxbos xxmaj george xxmaj orr ( xxmaj lukas xxmaj haas ) tells his psychologist ( xxmaj james xxmaj caan ) that he once lost someone special . xxmaj the psychologist immediately refers to the \" someone special \" as a she . xxmaj george asks , \" xxmaj how do you know it 's a she ? \" xxmaj psychologist : \" xxmaj because you 're a he . \" xxmaj the psychologist has never heard of same - sex relationships ? xxmaj or have all the gay people been killed ? xxmaj george has n't even indicated that it was a romantic relationship , so evidently the producers of this movie do n't even believe in the existence of same - sex friendships ! xxmaj even if you hate gay people , that 's quite an extreme . \n",
       " \n",
       "  xxmaj the rest of the movie is horrible xxunk garbage with xxmaj lisa xxmaj bonet and xxmaj lucas xxmaj haas staring longingly at each other , and then lying in bed congratulating each other for being heterosexual .\n",
       "y: LMLabelList\n",
       ",,,,\n",
       "Path: /root/.fastai/data/imdb;\n",
       "\n",
       "Valid: LabelList (10000 items)\n",
       "x: LMTextList\n",
       "xxbos xxmaj you know you 've got a bad film when you hear that the soundtrack is performed completely on a single cheap xxunk synthesizer , without any melody or sense of rhythm . \n",
       " \n",
       "  xxmaj it 's hard to see how anyone could take this film seriously , even while giving it a bad review . xxmaj this film is way beneath ' bad ' . \n",
       " \n",
       "  xxmaj the continuity of this film is outrageously butchered . xxmaj in one fight scene , we the hero ( wearing xxunk and undershirt ) turn a corner with two revolvers in his hand ; he doubles back , only now he has two semi - xxunk in his hands ; he turns another corner and now he has an automatic rifle in his hands ; he chases down a hallway and comes out ( suddenly dressed in standard army fatigue xxunk a shotgun ; after which he exits the building with yet another automatic rifle . xxmaj or here 's one for the books - a bus slams into a car at high speed ; the car goes flying , thrown by a gigantic explosion - cut to the bus which is completely unscathed from the same explosion ? xxmaj the narrative continuity suffers from an equally numbing sense of unreality ; the bad guys really want to kill the hero - obviously - but every time they knock him out or otherwise get him in a vulnerable position , they suddenly decide they want him \" to live to see this ! \" xxmaj huh ? xxmaj one of the funnier moments of the film is when the hero is released from isolation because his lawyer has come to see him ; then the bad guy decides he 's not going to let the two meet after all ; and this despite the fact that the the villain , the hero and his lawyer all know what 's going on anyway , so the hero writes a note to the lawyer and next we see the note being passed to the lawyer by another prisoner , even though we never see the hero give it to him . ( xxmaj this lawyer , xxup btw , has complete access to the xxmaj offices of the xxup atf in xxmaj california , including its confidential computer files . ) xxmaj huh ? xxmaj well , but it 's a mindless action movie - so how 're the action scenes ? xxmaj not bad , surprisingly ; unfortunately they happen to be xxunk from about a dozen xxmaj hong xxmaj kong films made five or ten years previously . xxmaj the opening scene , a shoot - out in a xxunk garage , actually has shots the composition of which are stolen directly from \" xxmaj hard xxmaj boiled \" - so clearly so that it 's a wonder xxmaj john xxmaj woo did n't sue for plagiarism . \n",
       " \n",
       "  xxmaj other xxmaj hong xxmaj kong films stolen from include \" xxmaj prison on xxmaj fire \" , \" xxmaj island on xxmaj fire \" , \" xxmaj burning xxmaj paradise \" , \" xxmaj police xxmaj story \" i , xxup ii , and xxup iii ( aka \" xxmaj supercop \" ) . i thought i recognized a couple xxmaj sammo xxmaj hung clips here as well . xxmaj in other words , the actions scenes are exciting only to the extent that they are successful xxunk of action scenes from other films . \n",
       " \n",
       "  xxmaj there 's nothing one can do with this film unless one shoots smack and just needs a lot of visual stimuli that need n't be make any sense . \n",
       " \n",
       "  xxmaj very funny film , for all the wrong reasons .,xxbos xxmaj stunning blonde xxmaj natasha xxmaj henstridge is the young , not - so - grieving widow in the mansion on the hill , telling her story to a xxup tv reporter in xxmaj xxunk , xxmaj virginia . xxmaj and among the community 's well - heeled horsey - set , she 's suspected of involvement in the death of her older husband . xxmaj that 's xxmaj james xxmaj brolin , trusting as a babe - in - arms . xxmaj flashback xxunk made in xxmaj canada , based on an article that appeared in xxmaj vanity xxmaj fair magazine . xxmaj it must be true ! xxmaj whatever , it 's far more romance than mystery , and a very familiar tale . xxmaj leggy xxmaj species star xxmaj henstridge as a gold - digging xxunk nurse ? xxmaj it could happen , i guess . xxmaj and it 's good to see xxmaj brolin in a sizeable role after his xxunk turn in xxmaj antwone xxmaj fisher , even if he does n't make it to the end of the picture . xxmaj the end of the picture ? xxmaj he does n't even make it to the beginning of the picture . xxmaj which is why flashbacks were invented , of course .,xxbos the opening credits . and they try and be clever . it does n't work . \n",
       " \n",
       "  our cast : xxmaj agent xxmaj doug xxmaj carlin is played by xxmaj denzel xxmaj washington who seems to be sleep - walking thru this movie with the occasional sudden inexplicable deviation of character . xxmaj val xxmaj kilmer has not aged well as xxmaj special xxup fbi xxmaj agent xxmaj xxunk , a thickly - xxunk pot - bellied cardboard representation of the one - dimensional g - man . xxmaj adam xxmaj goldberg tries ( and really , really fails ... i mean ... oh boy ) to pull off the super - brain heart - of - gold physics professor \" xxmaj denny \" . xxmaj paula xxmaj patton makes great eye - candy damsel - was - in - distress and flashes us a nipple . the rest of the cast ? meh ... who cares ? \n",
       " \n",
       "  so how is the movie . eh . a 5 / 10 and that 's being generous . \n",
       " \n",
       "  here were the big problems : \n",
       " \n",
       "  * the science was ... well ... utter crap xxup and inconsistent . why could they only see in the xxmaj new xxmaj orleans radius and how exactly did the portable rig work outside of this area ? why could a laser pointer go thru the main \" screen but they needed this big - ass nuclear toaster to send that sheet of paper back ? and , oh , the paper was the utter maximum we could send back but we 've changed out minds and now we can send xxmaj denzel back but he has to be in his undies 'cause his shoes would weigh too much . wha ? and if you want to emphasize that sending the laser bean , sheet of paper and xxmaj xxunk use xxup huge amounts of energy , do n't use the same \" aerial view of the city xxunk out \" all three bloody times . \n",
       " \n",
       "  * there is xxup no character development in this film . none . nada . zilch . and xxmaj xxunk 's character has these unprecedented changes of emotion and character \" quirks \" that makes it nearly impossible to relate to him . \n",
       " \n",
       "  * xxmaj xxunk creates mayhem and carnage on the streets of xxmaj new xxmaj orleans with a tricked - out xxmaj hummer ( with enough product - placement stickers on it to make the movie 's endorsement agent shudder uncontrollably with xxunk ecstasy ) with impunity . he prolly kills several dozen innocent by - standers and does n't get as much as a reduction of his expense account . and it 's xxup boring ! xxmaj tony xxmaj scott has sucked every atom of \" thrill \" from the whole sequence . oooh ... here comes a semi - truck , head - on . will xxmaj xxunk die ? hell no ... xxup and the xxmaj hummer will still be xxunk afterward ! ! ! \n",
       " \n",
       "  * in the final climax , where the xxup heck did the bad guy get the xxunk vest , automatic weapons , and ammo ? he did n't have it when he ran back onto the ferry . \n",
       " \n",
       "  * and while we 're talking about magic guns , and why would xxmaj navy personnel , on their way to xxmaj mardi xxmaj gras , just happen to be wearing full combat gear and toting xxmaj xxunk ?,xxbos i saw the first xxmaj house of the xxmaj dead and expected a root canal to be more pleasant to attend , so when it was n't as bad as that , i was delightfully surprised . \n",
       " \n",
       "  xxmaj unfortunately , i then got my hopes up that the second one might be okay as well ... and i was wrong . \n",
       " \n",
       "  xxmaj apparently i 'm one of the few people who saw this movie that thinks it was bad . \n",
       " \n",
       "  i do n't know whether to watch it again and force myself to see whatever all the people who gave it good reviews saw , or wonder if i saw the wrong movie . \n",
       " \n",
       "  xxmaj ed xxmaj quinn as xxmaj ellis and xxmaj emmanuelle xxmaj vaugier as xxmaj alexandra ' xxmaj nightingale ' xxmaj morgan did a great job in roles that were way beneath them . xxmaj they deserve to be in better movies . \n",
       " \n",
       "  xxmaj the special effects were okay and some of the characters likable / hate - able and that made for a tolerable watch , but for the most part , this movie was just a waste of time . \n",
       " \n",
       "  xxmaj oh and i have to ask this because i found myself asking it aloud xxup all the way through the movie ... did anyone not know how to close doors behind themselves so zombies would n't just wander into the rooms ? xxmaj only once did it happen , ( zombies wandering in ) and i found that a little convenient ... soldiers walk into a room , leave the door wide open , pay little to no attention to same said door so the zombies can just walk in if they feel like it ( with the hapless \" xxunk \" being cornered with no way to escape ) and yet only once did zombies follow them in . \n",
       " \n",
       "  xxmaj nitpicky ? xxmaj maybe but honestly ... if i was fighting for my life , the last thing i 'd do would be to walk into a room and leave the door wide open so zombies could swarm in and eat me . \n",
       " \n",
       "  xxmaj that is really the only thing * bothered * me throughout the movie , and just the movie for the most part was a bad sequel to a not totally abominable original .,xxbos i have just watched the season 2 finale of xxmaj doctor xxmaj who , and apart from a couple of dull episodes this show is fantastic . \n",
       " \n",
       "  xxmaj its a sad loss that we say goodbye to a main character once again in the season final but the show moves on . \n",
       " \n",
       "  xxmaj the xxup bbc does need to increase the budget on the show , there are only so many things that can happen in xxmaj london and the surrounding areas . xxmaj also some of the special effects all though on the main very good , on the odd occasion do need to be a little more polished . \n",
       " \n",
       "  xxmaj it was a huge gamble for the xxup bbc to bring back a show that lost its way a long time ago and they must be congratulated for doing so . \n",
       " \n",
       "  xxmaj roll on to the xxmaj christmas 2006 special , the 2005 xxmaj christmas special was by far the best thing on television .\n",
       "y: LMLabelList\n",
       ",,,,\n",
       "Path: /root/.fastai/data/imdb;\n",
       "\n",
       "Test: None, model=SequentialRNN(\n",
       "  (0): AWD_LSTM(\n",
       "    (encoder): Embedding(60000, 400, padding_idx=1)\n",
       "    (encoder_dp): EmbeddingDropout(\n",
       "      (emb): Embedding(60000, 400, padding_idx=1)\n",
       "    )\n",
       "    (rnns): ModuleList(\n",
       "      (0): WeightDropout(\n",
       "        (module): LSTM(400, 1152, batch_first=True)\n",
       "      )\n",
       "      (1): WeightDropout(\n",
       "        (module): LSTM(1152, 1152, batch_first=True)\n",
       "      )\n",
       "      (2): WeightDropout(\n",
       "        (module): LSTM(1152, 400, batch_first=True)\n",
       "      )\n",
       "    )\n",
       "    (input_dp): RNNDropout()\n",
       "    (hidden_dps): ModuleList(\n",
       "      (0): RNNDropout()\n",
       "      (1): RNNDropout()\n",
       "      (2): RNNDropout()\n",
       "    )\n",
       "  )\n",
       "  (1): LinearDecoder(\n",
       "    (decoder): Linear(in_features=400, out_features=60000, bias=True)\n",
       "    (output_dp): RNNDropout()\n",
       "  )\n",
       "), opt_func=functools.partial(<class 'torch.optim.adam.Adam'>, betas=(0.9, 0.99)), loss_func=FlattenedLoss of CrossEntropyLoss(), metrics=[<function accuracy at 0x7f6de9f2fa60>], true_wd=True, bn_wd=True, wd=0.01, train_bn=True, path=PosixPath('/root/.fastai/data/imdb'), model_dir='models', callback_fns=[functools.partial(<class 'fastai.basic_train.Recorder'>, add_time=True, silent=False)], callbacks=[RNNTrainer\n",
       "learn: LanguageLearner(data=TextLMDataBunch;\n",
       "\n",
       "Train: LabelList (90000 items)\n",
       "x: LMTextList\n",
       "xxbos xxmaj this movie really sucks , but still it´s fun to watch . xxmaj for 90 minutes it´s just gunfights and explosions . xxmaj no talking , just shooting . xxmaj it´s amazing to see fully grown men act like this , and being serious about it ! xxmaj if you have nothing to do on a late xxmaj sunday night , then give this one a try !,xxbos xxmaj weird xxmaj al was funny as usual in the intro , but that was where the laughs ended . xxmaj this movie tries to recapture the humor of xxmaj airplane and xxmaj the xxmaj naked xxmaj gun , but fails miserably . xxmaj it seems clear that the people who put this movie together did not even understand this type of humor . \n",
       " \n",
       "  xxmaj in xxmaj airplane , the humor lies in taking logical steps from peculiar interpretations of events . \" xxmaj surely your joking \" \" i 'm serious , and do n't call me xxmaj shirley . \" xxmaj now that 's funny . \n",
       " \n",
       "  xxmaj this movie , however , merely has gags without context .,xxbos xxmaj this movie is the best movie that i have ever bought that i did know anything about ! ! ! i only bought it because of xxmaj ryan xxmaj reynolds , but i must say that i will be recommending it to all of my friends and to everyone here . \n",
       " \n",
       "  xxmaj if you want to laugh and watch a movie that is so completely underrated that i want to complain , then please go , buy a copy , rent one , what ever you have to do to be able to see this hilarious movie . xxmaj yes xxup ok the ending is slightly predictable but it does n't matter . \n",
       " \n",
       "  xxmaj if you try it and it did n't suit you then at least you tried something new .,xxbos i saw this movie at 1:30 xxup am one night , and could n't turn it off . i 'm a bit of an obscure movie buff , and i turned this on just as it started - so i did n't know the premise . xxmaj well , within a few minutes , i was dying to see how it turned out . xxmaj because i had xxup no clue what was going on , i really thought this was a documentary about the now - known fake xxmaj nick xxmaj decker . i really felt bad for this guy , because he was a putrid , horrible actor . xxmaj however , the actor playing xxmaj nick was convincing me that this guy was a really bad actor , while when he was not in auditions was what i consider a xxup great performance . xxmaj he really made me think this guy was real , his struggles were genuine , and his angers real . xxmaj he seemed like a young , naive , honest guy from the midwest trying to make it in a killer type of acting atmosphere . xxmaj the best scene in the movie is when xxmaj angie finds out he 's been lying to her . \n",
       " \n",
       "  xxmaj what had captured my attention was when i heard the name xxmaj adam xxmaj rifkin ... who i had heard of , but was n't quite familiar with . xxmaj well , i think he did a terrific job with this movie ! xxmaj sometimes the \" normal \" way of doing things gets old , and this was very refreshing . xxmaj it also goes to show how hard it is to get work in xxmaj hollywood . \n",
       " \n",
       "  xxmaj what the big surprise of this movie was lies with that of the red - headed vixen xxmaj angie xxmaj everheart . i xxup really xxup thought xxup this xxup had happened , with the fake press clips , newspapers clips , etc . xxmaj she was fantastic ! ! ! xxmaj look at her career before this movie , and you will see like 6 jobs in 5 years in movies . xxmaj since this movie , she 's had like 15 jobs in 3 years ! xxmaj angie has really matured as an actress ... i also like how the \" angie \" character was sincere and genuine , it really made me like the personality of her and want to know more about her xxrep 4 . overall , very entertaining .. surprisingly good performances when you find out afterwards it 's fake ( but based on someone else 's story ),xxbos xxmaj george xxmaj orr ( xxmaj lukas xxmaj haas ) tells his psychologist ( xxmaj james xxmaj caan ) that he once lost someone special . xxmaj the psychologist immediately refers to the \" someone special \" as a she . xxmaj george asks , \" xxmaj how do you know it 's a she ? \" xxmaj psychologist : \" xxmaj because you 're a he . \" xxmaj the psychologist has never heard of same - sex relationships ? xxmaj or have all the gay people been killed ? xxmaj george has n't even indicated that it was a romantic relationship , so evidently the producers of this movie do n't even believe in the existence of same - sex friendships ! xxmaj even if you hate gay people , that 's quite an extreme . \n",
       " \n",
       "  xxmaj the rest of the movie is horrible xxunk garbage with xxmaj lisa xxmaj bonet and xxmaj lucas xxmaj haas staring longingly at each other , and then lying in bed congratulating each other for being heterosexual .\n",
       "y: LMLabelList\n",
       ",,,,\n",
       "Path: /root/.fastai/data/imdb;\n",
       "\n",
       "Valid: LabelList (10000 items)\n",
       "x: LMTextList\n",
       "xxbos xxmaj you know you 've got a bad film when you hear that the soundtrack is performed completely on a single cheap xxunk synthesizer , without any melody or sense of rhythm . \n",
       " \n",
       "  xxmaj it 's hard to see how anyone could take this film seriously , even while giving it a bad review . xxmaj this film is way beneath ' bad ' . \n",
       " \n",
       "  xxmaj the continuity of this film is outrageously butchered . xxmaj in one fight scene , we the hero ( wearing xxunk and undershirt ) turn a corner with two revolvers in his hand ; he doubles back , only now he has two semi - xxunk in his hands ; he turns another corner and now he has an automatic rifle in his hands ; he chases down a hallway and comes out ( suddenly dressed in standard army fatigue xxunk a shotgun ; after which he exits the building with yet another automatic rifle . xxmaj or here 's one for the books - a bus slams into a car at high speed ; the car goes flying , thrown by a gigantic explosion - cut to the bus which is completely unscathed from the same explosion ? xxmaj the narrative continuity suffers from an equally numbing sense of unreality ; the bad guys really want to kill the hero - obviously - but every time they knock him out or otherwise get him in a vulnerable position , they suddenly decide they want him \" to live to see this ! \" xxmaj huh ? xxmaj one of the funnier moments of the film is when the hero is released from isolation because his lawyer has come to see him ; then the bad guy decides he 's not going to let the two meet after all ; and this despite the fact that the the villain , the hero and his lawyer all know what 's going on anyway , so the hero writes a note to the lawyer and next we see the note being passed to the lawyer by another prisoner , even though we never see the hero give it to him . ( xxmaj this lawyer , xxup btw , has complete access to the xxmaj offices of the xxup atf in xxmaj california , including its confidential computer files . ) xxmaj huh ? xxmaj well , but it 's a mindless action movie - so how 're the action scenes ? xxmaj not bad , surprisingly ; unfortunately they happen to be xxunk from about a dozen xxmaj hong xxmaj kong films made five or ten years previously . xxmaj the opening scene , a shoot - out in a xxunk garage , actually has shots the composition of which are stolen directly from \" xxmaj hard xxmaj boiled \" - so clearly so that it 's a wonder xxmaj john xxmaj woo did n't sue for plagiarism . \n",
       " \n",
       "  xxmaj other xxmaj hong xxmaj kong films stolen from include \" xxmaj prison on xxmaj fire \" , \" xxmaj island on xxmaj fire \" , \" xxmaj burning xxmaj paradise \" , \" xxmaj police xxmaj story \" i , xxup ii , and xxup iii ( aka \" xxmaj supercop \" ) . i thought i recognized a couple xxmaj sammo xxmaj hung clips here as well . xxmaj in other words , the actions scenes are exciting only to the extent that they are successful xxunk of action scenes from other films . \n",
       " \n",
       "  xxmaj there 's nothing one can do with this film unless one shoots smack and just needs a lot of visual stimuli that need n't be make any sense . \n",
       " \n",
       "  xxmaj very funny film , for all the wrong reasons .,xxbos xxmaj stunning blonde xxmaj natasha xxmaj henstridge is the young , not - so - grieving widow in the mansion on the hill , telling her story to a xxup tv reporter in xxmaj xxunk , xxmaj virginia . xxmaj and among the community 's well - heeled horsey - set , she 's suspected of involvement in the death of her older husband . xxmaj that 's xxmaj james xxmaj brolin , trusting as a babe - in - arms . xxmaj flashback xxunk made in xxmaj canada , based on an article that appeared in xxmaj vanity xxmaj fair magazine . xxmaj it must be true ! xxmaj whatever , it 's far more romance than mystery , and a very familiar tale . xxmaj leggy xxmaj species star xxmaj henstridge as a gold - digging xxunk nurse ? xxmaj it could happen , i guess . xxmaj and it 's good to see xxmaj brolin in a sizeable role after his xxunk turn in xxmaj antwone xxmaj fisher , even if he does n't make it to the end of the picture . xxmaj the end of the picture ? xxmaj he does n't even make it to the beginning of the picture . xxmaj which is why flashbacks were invented , of course .,xxbos the opening credits . and they try and be clever . it does n't work . \n",
       " \n",
       "  our cast : xxmaj agent xxmaj doug xxmaj carlin is played by xxmaj denzel xxmaj washington who seems to be sleep - walking thru this movie with the occasional sudden inexplicable deviation of character . xxmaj val xxmaj kilmer has not aged well as xxmaj special xxup fbi xxmaj agent xxmaj xxunk , a thickly - xxunk pot - bellied cardboard representation of the one - dimensional g - man . xxmaj adam xxmaj goldberg tries ( and really , really fails ... i mean ... oh boy ) to pull off the super - brain heart - of - gold physics professor \" xxmaj denny \" . xxmaj paula xxmaj patton makes great eye - candy damsel - was - in - distress and flashes us a nipple . the rest of the cast ? meh ... who cares ? \n",
       " \n",
       "  so how is the movie . eh . a 5 / 10 and that 's being generous . \n",
       " \n",
       "  here were the big problems : \n",
       " \n",
       "  * the science was ... well ... utter crap xxup and inconsistent . why could they only see in the xxmaj new xxmaj orleans radius and how exactly did the portable rig work outside of this area ? why could a laser pointer go thru the main \" screen but they needed this big - ass nuclear toaster to send that sheet of paper back ? and , oh , the paper was the utter maximum we could send back but we 've changed out minds and now we can send xxmaj denzel back but he has to be in his undies 'cause his shoes would weigh too much . wha ? and if you want to emphasize that sending the laser bean , sheet of paper and xxmaj xxunk use xxup huge amounts of energy , do n't use the same \" aerial view of the city xxunk out \" all three bloody times . \n",
       " \n",
       "  * there is xxup no character development in this film . none . nada . zilch . and xxmaj xxunk 's character has these unprecedented changes of emotion and character \" quirks \" that makes it nearly impossible to relate to him . \n",
       " \n",
       "  * xxmaj xxunk creates mayhem and carnage on the streets of xxmaj new xxmaj orleans with a tricked - out xxmaj hummer ( with enough product - placement stickers on it to make the movie 's endorsement agent shudder uncontrollably with xxunk ecstasy ) with impunity . he prolly kills several dozen innocent by - standers and does n't get as much as a reduction of his expense account . and it 's xxup boring ! xxmaj tony xxmaj scott has sucked every atom of \" thrill \" from the whole sequence . oooh ... here comes a semi - truck , head - on . will xxmaj xxunk die ? hell no ... xxup and the xxmaj hummer will still be xxunk afterward ! ! ! \n",
       " \n",
       "  * in the final climax , where the xxup heck did the bad guy get the xxunk vest , automatic weapons , and ammo ? he did n't have it when he ran back onto the ferry . \n",
       " \n",
       "  * and while we 're talking about magic guns , and why would xxmaj navy personnel , on their way to xxmaj mardi xxmaj gras , just happen to be wearing full combat gear and toting xxmaj xxunk ?,xxbos i saw the first xxmaj house of the xxmaj dead and expected a root canal to be more pleasant to attend , so when it was n't as bad as that , i was delightfully surprised . \n",
       " \n",
       "  xxmaj unfortunately , i then got my hopes up that the second one might be okay as well ... and i was wrong . \n",
       " \n",
       "  xxmaj apparently i 'm one of the few people who saw this movie that thinks it was bad . \n",
       " \n",
       "  i do n't know whether to watch it again and force myself to see whatever all the people who gave it good reviews saw , or wonder if i saw the wrong movie . \n",
       " \n",
       "  xxmaj ed xxmaj quinn as xxmaj ellis and xxmaj emmanuelle xxmaj vaugier as xxmaj alexandra ' xxmaj nightingale ' xxmaj morgan did a great job in roles that were way beneath them . xxmaj they deserve to be in better movies . \n",
       " \n",
       "  xxmaj the special effects were okay and some of the characters likable / hate - able and that made for a tolerable watch , but for the most part , this movie was just a waste of time . \n",
       " \n",
       "  xxmaj oh and i have to ask this because i found myself asking it aloud xxup all the way through the movie ... did anyone not know how to close doors behind themselves so zombies would n't just wander into the rooms ? xxmaj only once did it happen , ( zombies wandering in ) and i found that a little convenient ... soldiers walk into a room , leave the door wide open , pay little to no attention to same said door so the zombies can just walk in if they feel like it ( with the hapless \" xxunk \" being cornered with no way to escape ) and yet only once did zombies follow them in . \n",
       " \n",
       "  xxmaj nitpicky ? xxmaj maybe but honestly ... if i was fighting for my life , the last thing i 'd do would be to walk into a room and leave the door wide open so zombies could swarm in and eat me . \n",
       " \n",
       "  xxmaj that is really the only thing * bothered * me throughout the movie , and just the movie for the most part was a bad sequel to a not totally abominable original .,xxbos i have just watched the season 2 finale of xxmaj doctor xxmaj who , and apart from a couple of dull episodes this show is fantastic . \n",
       " \n",
       "  xxmaj its a sad loss that we say goodbye to a main character once again in the season final but the show moves on . \n",
       " \n",
       "  xxmaj the xxup bbc does need to increase the budget on the show , there are only so many things that can happen in xxmaj london and the surrounding areas . xxmaj also some of the special effects all though on the main very good , on the odd occasion do need to be a little more polished . \n",
       " \n",
       "  xxmaj it was a huge gamble for the xxup bbc to bring back a show that lost its way a long time ago and they must be congratulated for doing so . \n",
       " \n",
       "  xxmaj roll on to the xxmaj christmas 2006 special , the 2005 xxmaj christmas special was by far the best thing on television .\n",
       "y: LMLabelList\n",
       ",,,,\n",
       "Path: /root/.fastai/data/imdb;\n",
       "\n",
       "Test: None, model=SequentialRNN(\n",
       "  (0): AWD_LSTM(\n",
       "    (encoder): Embedding(60000, 400, padding_idx=1)\n",
       "    (encoder_dp): EmbeddingDropout(\n",
       "      (emb): Embedding(60000, 400, padding_idx=1)\n",
       "    )\n",
       "    (rnns): ModuleList(\n",
       "      (0): WeightDropout(\n",
       "        (module): LSTM(400, 1152, batch_first=True)\n",
       "      )\n",
       "      (1): WeightDropout(\n",
       "        (module): LSTM(1152, 1152, batch_first=True)\n",
       "      )\n",
       "      (2): WeightDropout(\n",
       "        (module): LSTM(1152, 400, batch_first=True)\n",
       "      )\n",
       "    )\n",
       "    (input_dp): RNNDropout()\n",
       "    (hidden_dps): ModuleList(\n",
       "      (0): RNNDropout()\n",
       "      (1): RNNDropout()\n",
       "      (2): RNNDropout()\n",
       "    )\n",
       "  )\n",
       "  (1): LinearDecoder(\n",
       "    (decoder): Linear(in_features=400, out_features=60000, bias=True)\n",
       "    (output_dp): RNNDropout()\n",
       "  )\n",
       "), opt_func=functools.partial(<class 'torch.optim.adam.Adam'>, betas=(0.9, 0.99)), loss_func=FlattenedLoss of CrossEntropyLoss(), metrics=[<function accuracy at 0x7f6de9f2fa60>], true_wd=True, bn_wd=True, wd=0.01, train_bn=True, path=PosixPath('/root/.fastai/data/imdb'), model_dir='models', callback_fns=[functools.partial(<class 'fastai.basic_train.Recorder'>, add_time=True, silent=False)], callbacks=[...], layer_groups=[Sequential(\n",
       "  (0): WeightDropout(\n",
       "    (module): LSTM(400, 1152, batch_first=True)\n",
       "  )\n",
       "  (1): RNNDropout()\n",
       "), Sequential(\n",
       "  (0): WeightDropout(\n",
       "    (module): LSTM(1152, 1152, batch_first=True)\n",
       "  )\n",
       "  (1): RNNDropout()\n",
       "), Sequential(\n",
       "  (0): WeightDropout(\n",
       "    (module): LSTM(1152, 400, batch_first=True)\n",
       "  )\n",
       "  (1): RNNDropout()\n",
       "), Sequential(\n",
       "  (0): Embedding(60000, 400, padding_idx=1)\n",
       "  (1): EmbeddingDropout(\n",
       "    (emb): Embedding(60000, 400, padding_idx=1)\n",
       "  )\n",
       "  (2): LinearDecoder(\n",
       "    (decoder): Linear(in_features=400, out_features=60000, bias=True)\n",
       "    (output_dp): RNNDropout()\n",
       "  )\n",
       ")], add_time=True, silent=False)\n",
       "alpha: 2.0\n",
       "beta: 1.0, MixedPrecision\n",
       "learn: LanguageLearner(data=TextLMDataBunch;\n",
       "\n",
       "Train: LabelList (90000 items)\n",
       "x: LMTextList\n",
       "xxbos xxmaj this movie really sucks , but still it´s fun to watch . xxmaj for 90 minutes it´s just gunfights and explosions . xxmaj no talking , just shooting . xxmaj it´s amazing to see fully grown men act like this , and being serious about it ! xxmaj if you have nothing to do on a late xxmaj sunday night , then give this one a try !,xxbos xxmaj weird xxmaj al was funny as usual in the intro , but that was where the laughs ended . xxmaj this movie tries to recapture the humor of xxmaj airplane and xxmaj the xxmaj naked xxmaj gun , but fails miserably . xxmaj it seems clear that the people who put this movie together did not even understand this type of humor . \n",
       " \n",
       "  xxmaj in xxmaj airplane , the humor lies in taking logical steps from peculiar interpretations of events . \" xxmaj surely your joking \" \" i 'm serious , and do n't call me xxmaj shirley . \" xxmaj now that 's funny . \n",
       " \n",
       "  xxmaj this movie , however , merely has gags without context .,xxbos xxmaj this movie is the best movie that i have ever bought that i did know anything about ! ! ! i only bought it because of xxmaj ryan xxmaj reynolds , but i must say that i will be recommending it to all of my friends and to everyone here . \n",
       " \n",
       "  xxmaj if you want to laugh and watch a movie that is so completely underrated that i want to complain , then please go , buy a copy , rent one , what ever you have to do to be able to see this hilarious movie . xxmaj yes xxup ok the ending is slightly predictable but it does n't matter . \n",
       " \n",
       "  xxmaj if you try it and it did n't suit you then at least you tried something new .,xxbos i saw this movie at 1:30 xxup am one night , and could n't turn it off . i 'm a bit of an obscure movie buff , and i turned this on just as it started - so i did n't know the premise . xxmaj well , within a few minutes , i was dying to see how it turned out . xxmaj because i had xxup no clue what was going on , i really thought this was a documentary about the now - known fake xxmaj nick xxmaj decker . i really felt bad for this guy , because he was a putrid , horrible actor . xxmaj however , the actor playing xxmaj nick was convincing me that this guy was a really bad actor , while when he was not in auditions was what i consider a xxup great performance . xxmaj he really made me think this guy was real , his struggles were genuine , and his angers real . xxmaj he seemed like a young , naive , honest guy from the midwest trying to make it in a killer type of acting atmosphere . xxmaj the best scene in the movie is when xxmaj angie finds out he 's been lying to her . \n",
       " \n",
       "  xxmaj what had captured my attention was when i heard the name xxmaj adam xxmaj rifkin ... who i had heard of , but was n't quite familiar with . xxmaj well , i think he did a terrific job with this movie ! xxmaj sometimes the \" normal \" way of doing things gets old , and this was very refreshing . xxmaj it also goes to show how hard it is to get work in xxmaj hollywood . \n",
       " \n",
       "  xxmaj what the big surprise of this movie was lies with that of the red - headed vixen xxmaj angie xxmaj everheart . i xxup really xxup thought xxup this xxup had happened , with the fake press clips , newspapers clips , etc . xxmaj she was fantastic ! ! ! xxmaj look at her career before this movie , and you will see like 6 jobs in 5 years in movies . xxmaj since this movie , she 's had like 15 jobs in 3 years ! xxmaj angie has really matured as an actress ... i also like how the \" angie \" character was sincere and genuine , it really made me like the personality of her and want to know more about her xxrep 4 . overall , very entertaining .. surprisingly good performances when you find out afterwards it 's fake ( but based on someone else 's story ),xxbos xxmaj george xxmaj orr ( xxmaj lukas xxmaj haas ) tells his psychologist ( xxmaj james xxmaj caan ) that he once lost someone special . xxmaj the psychologist immediately refers to the \" someone special \" as a she . xxmaj george asks , \" xxmaj how do you know it 's a she ? \" xxmaj psychologist : \" xxmaj because you 're a he . \" xxmaj the psychologist has never heard of same - sex relationships ? xxmaj or have all the gay people been killed ? xxmaj george has n't even indicated that it was a romantic relationship , so evidently the producers of this movie do n't even believe in the existence of same - sex friendships ! xxmaj even if you hate gay people , that 's quite an extreme . \n",
       " \n",
       "  xxmaj the rest of the movie is horrible xxunk garbage with xxmaj lisa xxmaj bonet and xxmaj lucas xxmaj haas staring longingly at each other , and then lying in bed congratulating each other for being heterosexual .\n",
       "y: LMLabelList\n",
       ",,,,\n",
       "Path: /root/.fastai/data/imdb;\n",
       "\n",
       "Valid: LabelList (10000 items)\n",
       "x: LMTextList\n",
       "xxbos xxmaj you know you 've got a bad film when you hear that the soundtrack is performed completely on a single cheap xxunk synthesizer , without any melody or sense of rhythm . \n",
       " \n",
       "  xxmaj it 's hard to see how anyone could take this film seriously , even while giving it a bad review . xxmaj this film is way beneath ' bad ' . \n",
       " \n",
       "  xxmaj the continuity of this film is outrageously butchered . xxmaj in one fight scene , we the hero ( wearing xxunk and undershirt ) turn a corner with two revolvers in his hand ; he doubles back , only now he has two semi - xxunk in his hands ; he turns another corner and now he has an automatic rifle in his hands ; he chases down a hallway and comes out ( suddenly dressed in standard army fatigue xxunk a shotgun ; after which he exits the building with yet another automatic rifle . xxmaj or here 's one for the books - a bus slams into a car at high speed ; the car goes flying , thrown by a gigantic explosion - cut to the bus which is completely unscathed from the same explosion ? xxmaj the narrative continuity suffers from an equally numbing sense of unreality ; the bad guys really want to kill the hero - obviously - but every time they knock him out or otherwise get him in a vulnerable position , they suddenly decide they want him \" to live to see this ! \" xxmaj huh ? xxmaj one of the funnier moments of the film is when the hero is released from isolation because his lawyer has come to see him ; then the bad guy decides he 's not going to let the two meet after all ; and this despite the fact that the the villain , the hero and his lawyer all know what 's going on anyway , so the hero writes a note to the lawyer and next we see the note being passed to the lawyer by another prisoner , even though we never see the hero give it to him . ( xxmaj this lawyer , xxup btw , has complete access to the xxmaj offices of the xxup atf in xxmaj california , including its confidential computer files . ) xxmaj huh ? xxmaj well , but it 's a mindless action movie - so how 're the action scenes ? xxmaj not bad , surprisingly ; unfortunately they happen to be xxunk from about a dozen xxmaj hong xxmaj kong films made five or ten years previously . xxmaj the opening scene , a shoot - out in a xxunk garage , actually has shots the composition of which are stolen directly from \" xxmaj hard xxmaj boiled \" - so clearly so that it 's a wonder xxmaj john xxmaj woo did n't sue for plagiarism . \n",
       " \n",
       "  xxmaj other xxmaj hong xxmaj kong films stolen from include \" xxmaj prison on xxmaj fire \" , \" xxmaj island on xxmaj fire \" , \" xxmaj burning xxmaj paradise \" , \" xxmaj police xxmaj story \" i , xxup ii , and xxup iii ( aka \" xxmaj supercop \" ) . i thought i recognized a couple xxmaj sammo xxmaj hung clips here as well . xxmaj in other words , the actions scenes are exciting only to the extent that they are successful xxunk of action scenes from other films . \n",
       " \n",
       "  xxmaj there 's nothing one can do with this film unless one shoots smack and just needs a lot of visual stimuli that need n't be make any sense . \n",
       " \n",
       "  xxmaj very funny film , for all the wrong reasons .,xxbos xxmaj stunning blonde xxmaj natasha xxmaj henstridge is the young , not - so - grieving widow in the mansion on the hill , telling her story to a xxup tv reporter in xxmaj xxunk , xxmaj virginia . xxmaj and among the community 's well - heeled horsey - set , she 's suspected of involvement in the death of her older husband . xxmaj that 's xxmaj james xxmaj brolin , trusting as a babe - in - arms . xxmaj flashback xxunk made in xxmaj canada , based on an article that appeared in xxmaj vanity xxmaj fair magazine . xxmaj it must be true ! xxmaj whatever , it 's far more romance than mystery , and a very familiar tale . xxmaj leggy xxmaj species star xxmaj henstridge as a gold - digging xxunk nurse ? xxmaj it could happen , i guess . xxmaj and it 's good to see xxmaj brolin in a sizeable role after his xxunk turn in xxmaj antwone xxmaj fisher , even if he does n't make it to the end of the picture . xxmaj the end of the picture ? xxmaj he does n't even make it to the beginning of the picture . xxmaj which is why flashbacks were invented , of course .,xxbos the opening credits . and they try and be clever . it does n't work . \n",
       " \n",
       "  our cast : xxmaj agent xxmaj doug xxmaj carlin is played by xxmaj denzel xxmaj washington who seems to be sleep - walking thru this movie with the occasional sudden inexplicable deviation of character . xxmaj val xxmaj kilmer has not aged well as xxmaj special xxup fbi xxmaj agent xxmaj xxunk , a thickly - xxunk pot - bellied cardboard representation of the one - dimensional g - man . xxmaj adam xxmaj goldberg tries ( and really , really fails ... i mean ... oh boy ) to pull off the super - brain heart - of - gold physics professor \" xxmaj denny \" . xxmaj paula xxmaj patton makes great eye - candy damsel - was - in - distress and flashes us a nipple . the rest of the cast ? meh ... who cares ? \n",
       " \n",
       "  so how is the movie . eh . a 5 / 10 and that 's being generous . \n",
       " \n",
       "  here were the big problems : \n",
       " \n",
       "  * the science was ... well ... utter crap xxup and inconsistent . why could they only see in the xxmaj new xxmaj orleans radius and how exactly did the portable rig work outside of this area ? why could a laser pointer go thru the main \" screen but they needed this big - ass nuclear toaster to send that sheet of paper back ? and , oh , the paper was the utter maximum we could send back but we 've changed out minds and now we can send xxmaj denzel back but he has to be in his undies 'cause his shoes would weigh too much . wha ? and if you want to emphasize that sending the laser bean , sheet of paper and xxmaj xxunk use xxup huge amounts of energy , do n't use the same \" aerial view of the city xxunk out \" all three bloody times . \n",
       " \n",
       "  * there is xxup no character development in this film . none . nada . zilch . and xxmaj xxunk 's character has these unprecedented changes of emotion and character \" quirks \" that makes it nearly impossible to relate to him . \n",
       " \n",
       "  * xxmaj xxunk creates mayhem and carnage on the streets of xxmaj new xxmaj orleans with a tricked - out xxmaj hummer ( with enough product - placement stickers on it to make the movie 's endorsement agent shudder uncontrollably with xxunk ecstasy ) with impunity . he prolly kills several dozen innocent by - standers and does n't get as much as a reduction of his expense account . and it 's xxup boring ! xxmaj tony xxmaj scott has sucked every atom of \" thrill \" from the whole sequence . oooh ... here comes a semi - truck , head - on . will xxmaj xxunk die ? hell no ... xxup and the xxmaj hummer will still be xxunk afterward ! ! ! \n",
       " \n",
       "  * in the final climax , where the xxup heck did the bad guy get the xxunk vest , automatic weapons , and ammo ? he did n't have it when he ran back onto the ferry . \n",
       " \n",
       "  * and while we 're talking about magic guns , and why would xxmaj navy personnel , on their way to xxmaj mardi xxmaj gras , just happen to be wearing full combat gear and toting xxmaj xxunk ?,xxbos i saw the first xxmaj house of the xxmaj dead and expected a root canal to be more pleasant to attend , so when it was n't as bad as that , i was delightfully surprised . \n",
       " \n",
       "  xxmaj unfortunately , i then got my hopes up that the second one might be okay as well ... and i was wrong . \n",
       " \n",
       "  xxmaj apparently i 'm one of the few people who saw this movie that thinks it was bad . \n",
       " \n",
       "  i do n't know whether to watch it again and force myself to see whatever all the people who gave it good reviews saw , or wonder if i saw the wrong movie . \n",
       " \n",
       "  xxmaj ed xxmaj quinn as xxmaj ellis and xxmaj emmanuelle xxmaj vaugier as xxmaj alexandra ' xxmaj nightingale ' xxmaj morgan did a great job in roles that were way beneath them . xxmaj they deserve to be in better movies . \n",
       " \n",
       "  xxmaj the special effects were okay and some of the characters likable / hate - able and that made for a tolerable watch , but for the most part , this movie was just a waste of time . \n",
       " \n",
       "  xxmaj oh and i have to ask this because i found myself asking it aloud xxup all the way through the movie ... did anyone not know how to close doors behind themselves so zombies would n't just wander into the rooms ? xxmaj only once did it happen , ( zombies wandering in ) and i found that a little convenient ... soldiers walk into a room , leave the door wide open , pay little to no attention to same said door so the zombies can just walk in if they feel like it ( with the hapless \" xxunk \" being cornered with no way to escape ) and yet only once did zombies follow them in . \n",
       " \n",
       "  xxmaj nitpicky ? xxmaj maybe but honestly ... if i was fighting for my life , the last thing i 'd do would be to walk into a room and leave the door wide open so zombies could swarm in and eat me . \n",
       " \n",
       "  xxmaj that is really the only thing * bothered * me throughout the movie , and just the movie for the most part was a bad sequel to a not totally abominable original .,xxbos i have just watched the season 2 finale of xxmaj doctor xxmaj who , and apart from a couple of dull episodes this show is fantastic . \n",
       " \n",
       "  xxmaj its a sad loss that we say goodbye to a main character once again in the season final but the show moves on . \n",
       " \n",
       "  xxmaj the xxup bbc does need to increase the budget on the show , there are only so many things that can happen in xxmaj london and the surrounding areas . xxmaj also some of the special effects all though on the main very good , on the odd occasion do need to be a little more polished . \n",
       " \n",
       "  xxmaj it was a huge gamble for the xxup bbc to bring back a show that lost its way a long time ago and they must be congratulated for doing so . \n",
       " \n",
       "  xxmaj roll on to the xxmaj christmas 2006 special , the 2005 xxmaj christmas special was by far the best thing on television .\n",
       "y: LMLabelList\n",
       ",,,,\n",
       "Path: /root/.fastai/data/imdb;\n",
       "\n",
       "Test: None, model=SequentialRNN(\n",
       "  (0): AWD_LSTM(\n",
       "    (encoder): Embedding(60000, 400, padding_idx=1)\n",
       "    (encoder_dp): EmbeddingDropout(\n",
       "      (emb): Embedding(60000, 400, padding_idx=1)\n",
       "    )\n",
       "    (rnns): ModuleList(\n",
       "      (0): WeightDropout(\n",
       "        (module): LSTM(400, 1152, batch_first=True)\n",
       "      )\n",
       "      (1): WeightDropout(\n",
       "        (module): LSTM(1152, 1152, batch_first=True)\n",
       "      )\n",
       "      (2): WeightDropout(\n",
       "        (module): LSTM(1152, 400, batch_first=True)\n",
       "      )\n",
       "    )\n",
       "    (input_dp): RNNDropout()\n",
       "    (hidden_dps): ModuleList(\n",
       "      (0): RNNDropout()\n",
       "      (1): RNNDropout()\n",
       "      (2): RNNDropout()\n",
       "    )\n",
       "  )\n",
       "  (1): LinearDecoder(\n",
       "    (decoder): Linear(in_features=400, out_features=60000, bias=True)\n",
       "    (output_dp): RNNDropout()\n",
       "  )\n",
       "), opt_func=functools.partial(<class 'torch.optim.adam.Adam'>, betas=(0.9, 0.99)), loss_func=FlattenedLoss of CrossEntropyLoss(), metrics=[<function accuracy at 0x7f6de9f2fa60>], true_wd=True, bn_wd=True, wd=0.01, train_bn=True, path=PosixPath('/root/.fastai/data/imdb'), model_dir='models', callback_fns=[functools.partial(<class 'fastai.basic_train.Recorder'>, add_time=True, silent=False)], callbacks=[...], layer_groups=[Sequential(\n",
       "  (0): WeightDropout(\n",
       "    (module): LSTM(400, 1152, batch_first=True)\n",
       "  )\n",
       "  (1): RNNDropout()\n",
       "), Sequential(\n",
       "  (0): WeightDropout(\n",
       "    (module): LSTM(1152, 1152, batch_first=True)\n",
       "  )\n",
       "  (1): RNNDropout()\n",
       "), Sequential(\n",
       "  (0): WeightDropout(\n",
       "    (module): LSTM(1152, 400, batch_first=True)\n",
       "  )\n",
       "  (1): RNNDropout()\n",
       "), Sequential(\n",
       "  (0): Embedding(60000, 400, padding_idx=1)\n",
       "  (1): EmbeddingDropout(\n",
       "    (emb): Embedding(60000, 400, padding_idx=1)\n",
       "  )\n",
       "  (2): LinearDecoder(\n",
       "    (decoder): Linear(in_features=400, out_features=60000, bias=True)\n",
       "    (output_dp): RNNDropout()\n",
       "  )\n",
       ")], add_time=True, silent=False)\n",
       "loss_scale: 2097152.0\n",
       "max_noskip: 1000\n",
       "dynamic: True\n",
       "clip: None\n",
       "flat_master: False\n",
       "max_scale: 16777216\n",
       "loss_fp32: True], layer_groups=[Sequential(\n",
       "  (0): WeightDropout(\n",
       "    (module): LSTM(400, 1152, batch_first=True)\n",
       "  )\n",
       "  (1): RNNDropout()\n",
       "), Sequential(\n",
       "  (0): WeightDropout(\n",
       "    (module): LSTM(1152, 1152, batch_first=True)\n",
       "  )\n",
       "  (1): RNNDropout()\n",
       "), Sequential(\n",
       "  (0): WeightDropout(\n",
       "    (module): LSTM(1152, 400, batch_first=True)\n",
       "  )\n",
       "  (1): RNNDropout()\n",
       "), Sequential(\n",
       "  (0): Embedding(60000, 400, padding_idx=1)\n",
       "  (1): EmbeddingDropout(\n",
       "    (emb): Embedding(60000, 400, padding_idx=1)\n",
       "  )\n",
       "  (2): LinearDecoder(\n",
       "    (decoder): Linear(in_features=400, out_features=60000, bias=True)\n",
       "    (output_dp): RNNDropout()\n",
       "  )\n",
       ")], add_time=True, silent=False)"
      ]
     },
     "execution_count": 104,
     "metadata": {},
     "output_type": "execute_result"
    }
   ],
   "source": [
    "learn_lm.load('fine_tuned')"
   ]
  },
  {
   "cell_type": "markdown",
   "metadata": {
    "hidden": true
   },
   "source": [
    "Now that we've trained our model, different representations have been learned for the words that were in `IMDb` but not `wikitext-103` (remember that at the beginning we had initialized them all to the same thing):"
   ]
  },
  {
   "cell_type": "code",
   "execution_count": 105,
   "metadata": {
    "hidden": true
   },
   "outputs": [],
   "source": [
    "enc = learn_lm.model[0].encoder"
   ]
  },
  {
   "cell_type": "code",
   "execution_count": 108,
   "metadata": {
    "hidden": true
   },
   "outputs": [
    {
     "data": {
      "text/plain": [
       "False"
      ]
     },
     "execution_count": 108,
     "metadata": {},
     "output_type": "execute_result"
    }
   ],
   "source": [
    "np.allclose(enc.weight[vocab.stoi[\"30-something\"], :].cpu().detach().numpy(), \n",
    "            enc.weight[vocab.stoi[\"linklater\"], :].cpu().detach().numpy())"
   ]
  },
  {
   "cell_type": "code",
   "execution_count": 111,
   "metadata": {
    "hidden": true
   },
   "outputs": [
    {
     "data": {
      "text/plain": [
       "False"
      ]
     },
     "execution_count": 111,
     "metadata": {},
     "output_type": "execute_result"
    }
   ],
   "source": [
    "## Showing that their ecoding (vector representing word) has changed \n",
    "##(previously these 2 were same)\n",
    "np.allclose(enc.weight[vocab.stoi[\"30-something\"], :].cpu().detach().numpy(), new_word_vec.cpu().detach().numpy())"
   ]
  },
  {
   "cell_type": "markdown",
   "metadata": {
    "heading_collapsed": true
   },
   "source": [
    "#### Generate movie review-like text, with the **fine-tuned** ` IMDb` language model\n",
    "Compare these texts to the ones generated with the **untrained** `IMDb model` in part **2A**. Do they seem qualitatively better?"
   ]
  },
  {
   "cell_type": "markdown",
   "metadata": {
    "hidden": true
   },
   "source": [
    "How good is our fine-tuned IMDb language model? Well let's try to see what it predicts when given a phrase that might appear in a movie review."
   ]
  },
  {
   "cell_type": "code",
   "execution_count": 112,
   "metadata": {
    "hidden": true
   },
   "outputs": [],
   "source": [
    "TEXT = \"i liked this movie because\"\n",
    "N_WORDS = 40\n",
    "N_SENTENCES = 2"
   ]
  },
  {
   "cell_type": "code",
   "execution_count": 113,
   "metadata": {
    "hidden": true
   },
   "outputs": [
    {
     "name": "stdout",
     "output_type": "stream",
     "text": [
      "i liked this movie because it had the same style and style as Half Past Dead , but with a different movie . The movie is not about bad guys , but the movie is n't so bad it 's good\n",
      "i liked this movie because Kevin Bacon is one of my favorite actors . He 's so good and so wonderful in this movie and the movie is a 10 out of 10 . \n",
      " \n",
      "  The movie is about a man\n"
     ]
    }
   ],
   "source": [
    "print(\"\\n\".join(learn_lm.predict(TEXT, N_WORDS, temperature=0.75) for _ in range(N_SENTENCES)))"
   ]
  },
  {
   "cell_type": "code",
   "execution_count": 114,
   "metadata": {
    "hidden": true
   },
   "outputs": [],
   "source": [
    "TEXT = \"This movie was\"\n",
    "N_WORDS = 30\n",
    "N_SENTENCES = 2"
   ]
  },
  {
   "cell_type": "code",
   "execution_count": 115,
   "metadata": {
    "hidden": true
   },
   "outputs": [
    {
     "name": "stdout",
     "output_type": "stream",
     "text": [
      "This movie was so bad i was amazed at how funny it was . An evil man is being chased by a group of bad guys ( with a few exceptions )\n",
      "This movie was refreshing . It was like a long - standing Hollywood Hollywood - type movie . But this movie was so well written and directed , i\n"
     ]
    }
   ],
   "source": [
    "print(\"\\n\".join(learn_lm.predict(TEXT, N_WORDS, temperature=0.75) for _ in range(N_SENTENCES)))"
   ]
  },
  {
   "cell_type": "code",
   "execution_count": 116,
   "metadata": {
    "hidden": true
   },
   "outputs": [],
   "source": [
    "TEXT = \"I hated this movie\"\n",
    "N_WORDS = 40\n",
    "N_SENTENCES = 2"
   ]
  },
  {
   "cell_type": "code",
   "execution_count": 117,
   "metadata": {
    "hidden": true
   },
   "outputs": [
    {
     "name": "stdout",
     "output_type": "stream",
     "text": [
      "I hated this movie . i did n't like it . i 'm a fan of John Travolta . i hate him as a super human actor . He is a very bad actor . She was a great talent\n",
      "I hated this movie , because i was a big fan of the original - so i thought it was a good movie , and i had already seen the original version . This movie was the best movie i have ever seen\n"
     ]
    }
   ],
   "source": [
    "print(\"\\n\".join(learn_lm.predict(TEXT, N_WORDS, temperature=0.75) for _ in range(N_SENTENCES)))"
   ]
  },
  {
   "cell_type": "markdown",
   "metadata": {
    "heading_collapsed": true
   },
   "source": [
    "#### Risks of language models"
   ]
  },
  {
   "cell_type": "markdown",
   "metadata": {
    "hidden": true
   },
   "source": [
    "We will talk about ethical concerns raised by very accurate language models in lesson 7, but here are a few brief notes:\n",
    "\n",
    "In reference to [OpenAI's GPT-2](https://www.theverge.com/2019/2/14/18224704/ai-machine-learning-language-models-read-write-openai-gpt2): Jeremy Howard said, *I’ve been trying to warn people about this for a while. We have the technology to totally fill Twitter, email, and the web up with reasonable-sounding, context-appropriate prose, which would drown out all other speech and be impossible to filter.*\n",
    "\n",
    "For a small example, consider when completely incorrect (but reasonable sounding) ML generated answers were [posted to StackOverflow](https://meta.stackoverflow.com/questions/384596/completely-incorrect-machine-learning-generated-answers?stw=2):\n",
    "\n",
    "<img src=\"images/robot-overflow.png\" alt=\"Roboflow\" style=\"width: 80%\"/>"
   ]
  },
  {
   "cell_type": "markdown",
   "metadata": {
    "hidden": true
   },
   "source": [
    "<img src=\"images/husain-tweet.png\" alt=\"Roboflow\" style=\"width: 60%\"/>"
   ]
  },
  {
   "cell_type": "markdown",
   "metadata": {},
   "source": [
    "## 3. Building an `IMDb Sentiment Classifier`\n",
    "#### We'll now use **transfer learning** to create a `classifier`, again starting from the pretrained weights of the `wikitext-103` language model.  We'll also need the `IMDb language model` **encoder** that we saved previously. "
   ]
  },
  {
   "cell_type": "markdown",
   "metadata": {},
   "source": [
    "### 3A. Load and preprocess the data, and form a `databunch`\n",
    "Using fastai's flexible API, we will now create a different kind of `databunch` object, one that is suitable for a **classifier** rather than a for **language model** (as we did in **2A**). This time we'll keep the labels for the `IMDb` movie reviews data. \n",
    "\n",
    "Add the `try-except` wrapper workaround for the bug in the `fastai Text API`\n",
    "\n",
    "Here the batch size is decreased from 48 to 8, to avoid a `CUDA out of memory error`; your hardware may be able to handle a larger batch, in which case training will likely be faster.\n",
    "\n",
    "Again, this takes a bit of time."
   ]
  },
  {
   "cell_type": "code",
   "execution_count": 119,
   "metadata": {},
   "outputs": [],
   "source": [
    "# bs=8\n",
    "bs=48"
   ]
  },
  {
   "cell_type": "code",
   "execution_count": 120,
   "metadata": {
    "hidden": true
   },
   "outputs": [
    {
     "data": {
      "text/html": [],
      "text/plain": [
       "<IPython.core.display.HTML object>"
      ]
     },
     "metadata": {},
     "output_type": "display_data"
    },
    {
     "data": {
      "text/html": [],
      "text/plain": [
       "<IPython.core.display.HTML object>"
      ]
     },
     "metadata": {},
     "output_type": "display_data"
    },
    {
     "name": "stdout",
     "output_type": "stream",
     "text": [
      "failure count is 0\n",
      "\n",
      "CPU times: user 15.2 s, sys: 19.7 s, total: 34.9 s\n",
      "Wall time: 3min 21s\n"
     ]
    }
   ],
   "source": [
    "%%time\n",
    "\n",
    "# throws `BrokenProcessPool' Error sometimes. Keep trying `till it works!\n",
    "#    the progress bar has to complete three consecutive steps. Why three? \n",
    "#    fails nearly 100 times, and doesn't respond to interrupt\n",
    "count = 0\n",
    "error = True\n",
    "while error:\n",
    "    try: \n",
    "        # Preprocessing steps\n",
    "        data_clas = (TextList.from_folder(path, vocab=data_lm.vocab)\n",
    "             #grab all the text files in path\n",
    "             .split_by_folder(valid='test')\n",
    "             #split by train and valid folder (that only keeps 'train' and 'test' so no need to filter)\n",
    "             .label_from_folder(classes=['neg', 'pos']))\n",
    "             #label them all with their folders\n",
    "             #.databunch(bs=bs, num_workers=1))\n",
    "        error = False\n",
    "        print(f'failure count is {count}\\n')   \n",
    "        \n",
    "    except: # catch *all* exceptions\n",
    "        # accumulate failure count\n",
    "        count = count + 1\n",
    "        print(f'failure count is {count}')"
   ]
  },
  {
   "cell_type": "markdown",
   "metadata": {},
   "source": [
    "#### Form the preprocessed data into a `databunch`"
   ]
  },
  {
   "cell_type": "code",
   "execution_count": 121,
   "metadata": {},
   "outputs": [],
   "source": [
    "data_clas = data_clas.databunch(bs=bs, num_workers=1)"
   ]
  },
  {
   "cell_type": "markdown",
   "metadata": {},
   "source": [
    "#### Save the databunch (since it took so long to make) and load it"
   ]
  },
  {
   "cell_type": "code",
   "execution_count": 122,
   "metadata": {},
   "outputs": [],
   "source": [
    "data_clas.save('imdb_textlist_class')"
   ]
  },
  {
   "cell_type": "code",
   "execution_count": 123,
   "metadata": {},
   "outputs": [],
   "source": [
    "data_clas = load_data(path, 'imdb_textlist_class', bs=bs, num_workers=1)"
   ]
  },
  {
   "cell_type": "code",
   "execution_count": 124,
   "metadata": {},
   "outputs": [
    {
     "data": {
      "text/html": [
       "<table border=\"1\" class=\"dataframe\">\n",
       "  <thead>\n",
       "    <tr style=\"text-align: right;\">\n",
       "      <th>text</th>\n",
       "      <th>target</th>\n",
       "    </tr>\n",
       "  </thead>\n",
       "  <tbody>\n",
       "    <tr>\n",
       "      <td>xxbos xxmaj match 1 : xxmaj tag xxmaj team xxmaj table xxmaj match xxmaj bubba xxmaj ray and xxmaj spike xxmaj dudley vs xxmaj eddie xxmaj guerrero and xxmaj chris xxmaj benoit xxmaj bubba xxmaj ray and xxmaj spike xxmaj dudley started things off with a xxmaj tag xxmaj team xxmaj table xxmaj match against xxmaj eddie xxmaj guerrero and xxmaj chris xxmaj benoit . xxmaj according to the rules</td>\n",
       "      <td>pos</td>\n",
       "    </tr>\n",
       "    <tr>\n",
       "      <td>xxbos xxmaj polish film maker xxmaj walerian xxmaj borowczyk 's xxmaj la xxmaj bête ( xxmaj french , 1975 , aka xxmaj the xxmaj beast ) is among the most controversial and brave films ever made and a very excellent one too . xxmaj this film tells everything that 's generally been hidden and denied about our nature and our sexual nature in particular with the symbolism and silence of</td>\n",
       "      <td>pos</td>\n",
       "    </tr>\n",
       "    <tr>\n",
       "      <td>xxbos xxmaj jim xxmaj carrey is back to much the same role that he played in xxmaj the xxmaj mask , a timid guy who is trying to get ahead in the world but who seems to be plagued with bad luck . xxmaj even when he tries to help a homeless guy from being harassed by a bunch of hoodlums ( and of course they have to be xxmaj</td>\n",
       "      <td>pos</td>\n",
       "    </tr>\n",
       "    <tr>\n",
       "      <td>xxbos 8 xxmaj simple xxmaj rules for xxmaj dating xxmaj my xxmaj teenage xxmaj daughter had an auspicious start . xxmaj the supremely - talented xxmaj tom xxmaj shadyac was involved in the project . xxmaj this meant that the comedy would be nothing less of spectacular , and that 's exactly what happened : the show remains one of the freshest , funniest , wittiest shows made in a</td>\n",
       "      <td>pos</td>\n",
       "    </tr>\n",
       "    <tr>\n",
       "      <td>xxbos xxmaj this film sat on my xxmaj tivo for weeks before i watched it . i dreaded a self - indulgent yuppie flick about relationships gone bad . i was wrong ; this was an engrossing excursion into the screwed - up libidos of xxmaj new xxmaj yorkers . \\n \\n  xxmaj the format is the same as xxmaj max xxmaj ophuls ' \" xxmaj la xxmaj ronde</td>\n",
       "      <td>pos</td>\n",
       "    </tr>\n",
       "  </tbody>\n",
       "</table>"
      ],
      "text/plain": [
       "<IPython.core.display.HTML object>"
      ]
     },
     "metadata": {},
     "output_type": "display_data"
    }
   ],
   "source": [
    "data_clas.show_batch()"
   ]
  },
  {
   "cell_type": "markdown",
   "metadata": {},
   "source": [
    "### 3B. Create a model to **classify** the `IMDb` reviews, and load the **encoder** we saved before.\n",
    "#### Freeze the weights for all but the last layer and find a good value for the learning rate. "
   ]
  },
  {
   "cell_type": "code",
   "execution_count": 125,
   "metadata": {},
   "outputs": [],
   "source": [
    "learn_c = text_classifier_learner(data_clas, AWD_LSTM, drop_mult=0.3).to_fp16()\n",
    "learn_c.load_encoder('fine_tuned_enc')\n",
    "learn_c.freeze()"
   ]
  },
  {
   "cell_type": "code",
   "execution_count": 126,
   "metadata": {},
   "outputs": [
    {
     "data": {
      "text/html": [
       "\n",
       "    <div>\n",
       "        <style>\n",
       "            /* Turns off some styling */\n",
       "            progress {\n",
       "                /* gets rid of default border in Firefox and Opera. */\n",
       "                border: none;\n",
       "                /* Needs to be in here for Safari polyfill so background images work as expected. */\n",
       "                background-size: auto;\n",
       "            }\n",
       "            .progress-bar-interrupted, .progress-bar-interrupted::-webkit-progress-bar {\n",
       "                background: #F44336;\n",
       "            }\n",
       "        </style>\n",
       "      <progress value='0' class='' max='1' style='width:300px; height:20px; vertical-align: middle;'></progress>\n",
       "      0.00% [0/1 00:00<00:00]\n",
       "    </div>\n",
       "    \n",
       "<table border=\"1\" class=\"dataframe\">\n",
       "  <thead>\n",
       "    <tr style=\"text-align: left;\">\n",
       "      <th>epoch</th>\n",
       "      <th>train_loss</th>\n",
       "      <th>valid_loss</th>\n",
       "      <th>accuracy</th>\n",
       "      <th>time</th>\n",
       "    </tr>\n",
       "  </thead>\n",
       "  <tbody>\n",
       "  </tbody>\n",
       "</table><p>\n",
       "\n",
       "    <div>\n",
       "        <style>\n",
       "            /* Turns off some styling */\n",
       "            progress {\n",
       "                /* gets rid of default border in Firefox and Opera. */\n",
       "                border: none;\n",
       "                /* Needs to be in here for Safari polyfill so background images work as expected. */\n",
       "                background-size: auto;\n",
       "            }\n",
       "            .progress-bar-interrupted, .progress-bar-interrupted::-webkit-progress-bar {\n",
       "                background: #F44336;\n",
       "            }\n",
       "        </style>\n",
       "      <progress value='92' class='' max='520' style='width:300px; height:20px; vertical-align: middle;'></progress>\n",
       "      17.69% [92/520 00:11<00:54 0.9948]\n",
       "    </div>\n",
       "    "
      ],
      "text/plain": [
       "<IPython.core.display.HTML object>"
      ]
     },
     "metadata": {},
     "output_type": "display_data"
    },
    {
     "name": "stdout",
     "output_type": "stream",
     "text": [
      "LR Finder is complete, type {learner_name}.recorder.plot() to see the graph.\n"
     ]
    }
   ],
   "source": [
    "learn_c.lr_find()"
   ]
  },
  {
   "cell_type": "code",
   "execution_count": 127,
   "metadata": {},
   "outputs": [
    {
     "data": {
      "image/png": "[encoded data removed]",
      "text/plain": [
       "<Figure size 432x288 with 1 Axes>"
      ]
     },
     "metadata": {
      "needs_background": "light"
     },
     "output_type": "display_data"
    }
   ],
   "source": [
    "learn_c.recorder.plot()"
   ]
  },
  {
   "cell_type": "markdown",
   "metadata": {},
   "source": [
    "### 3C. Training and fine-tuning the `IMDb sentiment classifier`"
   ]
  },
  {
   "cell_type": "markdown",
   "metadata": {},
   "source": [
    "#### Train for one cycle, save intermediate result"
   ]
  },
  {
   "cell_type": "code",
   "execution_count": 128,
   "metadata": {
    "scrolled": false
   },
   "outputs": [
    {
     "data": {
      "text/html": [
       "<table border=\"1\" class=\"dataframe\">\n",
       "  <thead>\n",
       "    <tr style=\"text-align: left;\">\n",
       "      <th>epoch</th>\n",
       "      <th>train_loss</th>\n",
       "      <th>valid_loss</th>\n",
       "      <th>accuracy</th>\n",
       "      <th>time</th>\n",
       "    </tr>\n",
       "  </thead>\n",
       "  <tbody>\n",
       "    <tr>\n",
       "      <td>0</td>\n",
       "      <td>0.245448</td>\n",
       "      <td>0.190685</td>\n",
       "      <td>0.926040</td>\n",
       "      <td>01:28</td>\n",
       "    </tr>\n",
       "  </tbody>\n",
       "</table>"
      ],
      "text/plain": [
       "<IPython.core.display.HTML object>"
      ]
     },
     "metadata": {},
     "output_type": "display_data"
    }
   ],
   "source": [
    "learn_c.fit_one_cycle(1, 2e-2, moms=(0.8,0.7))"
   ]
  },
  {
   "cell_type": "code",
   "execution_count": 129,
   "metadata": {},
   "outputs": [],
   "source": [
    "learn_c.save('first')"
   ]
  },
  {
   "cell_type": "code",
   "execution_count": 130,
   "metadata": {},
   "outputs": [],
   "source": [
    "learn_c.load('first');"
   ]
  },
  {
   "cell_type": "markdown",
   "metadata": {},
   "source": [
    "#### Unfreeze last two layers and train for one cycle, save intermediate result."
   ]
  },
  {
   "cell_type": "markdown",
   "metadata": {},
   "source": [
    "```slice(1e-2/(2.6**4),1e-2)```  provides a range of lr for starting to end layer, i.e, first layer has the lr ```1e-2/(2.6**4)``` and the last layer will have ```1e-2``` , and the layers in between will have gradually increasing lr from start to end (kinna like range function)"
   ]
  },
  {
   "cell_type": "code",
   "execution_count": 131,
   "metadata": {},
   "outputs": [
    {
     "data": {
      "text/html": [
       "<table border=\"1\" class=\"dataframe\">\n",
       "  <thead>\n",
       "    <tr style=\"text-align: left;\">\n",
       "      <th>epoch</th>\n",
       "      <th>train_loss</th>\n",
       "      <th>valid_loss</th>\n",
       "      <th>accuracy</th>\n",
       "      <th>time</th>\n",
       "    </tr>\n",
       "  </thead>\n",
       "  <tbody>\n",
       "    <tr>\n",
       "      <td>0</td>\n",
       "      <td>0.223039</td>\n",
       "      <td>0.168627</td>\n",
       "      <td>0.937000</td>\n",
       "      <td>01:36</td>\n",
       "    </tr>\n",
       "  </tbody>\n",
       "</table>"
      ],
      "text/plain": [
       "<IPython.core.display.HTML object>"
      ]
     },
     "metadata": {},
     "output_type": "display_data"
    }
   ],
   "source": [
    "learn_c.freeze_to(-2)\n",
    "learn_c.fit_one_cycle(1, slice(1e-2/(2.6**4),1e-2), moms=(0.8,0.7))"
   ]
  },
  {
   "cell_type": "code",
   "execution_count": 132,
   "metadata": {},
   "outputs": [],
   "source": [
    "learn_c.save('2nd')"
   ]
  },
  {
   "cell_type": "markdown",
   "metadata": {},
   "source": [
    "#### Unfreeze the last three layers, and train for one cycle, and save intermediate result.\n",
    "At this point we've already beaten the 2017 (pre-transfer learning) state of the art!"
   ]
  },
  {
   "cell_type": "code",
   "execution_count": 133,
   "metadata": {},
   "outputs": [
    {
     "data": {
      "text/html": [
       "<table border=\"1\" class=\"dataframe\">\n",
       "  <thead>\n",
       "    <tr style=\"text-align: left;\">\n",
       "      <th>epoch</th>\n",
       "      <th>train_loss</th>\n",
       "      <th>valid_loss</th>\n",
       "      <th>accuracy</th>\n",
       "      <th>time</th>\n",
       "    </tr>\n",
       "  </thead>\n",
       "  <tbody>\n",
       "    <tr>\n",
       "      <td>0</td>\n",
       "      <td>0.169831</td>\n",
       "      <td>0.145799</td>\n",
       "      <td>0.945680</td>\n",
       "      <td>01:51</td>\n",
       "    </tr>\n",
       "  </tbody>\n",
       "</table>"
      ],
      "text/plain": [
       "<IPython.core.display.HTML object>"
      ]
     },
     "metadata": {},
     "output_type": "display_data"
    }
   ],
   "source": [
    "learn_c.freeze_to(-3)\n",
    "learn_c.fit_one_cycle(1, slice(5e-3/(2.6**4),5e-3), moms=(0.8,0.7))"
   ]
  },
  {
   "cell_type": "code",
   "execution_count": 134,
   "metadata": {},
   "outputs": [],
   "source": [
    "learn_c.save('3rd')"
   ]
  },
  {
   "cell_type": "code",
   "execution_count": 135,
   "metadata": {},
   "outputs": [
    {
     "data": {
      "text/plain": [
       "RNNLearner(data=TextClasDataBunch;\n",
       "\n",
       "Train: LabelList (25000 items)\n",
       "x: TextList\n",
       "xxbos xxup star xxup rating : xxrep 5 * xxmaj saturday xxmaj night xxrep 4 * xxmaj friday xxmaj night * * * xxmaj friday xxmaj morning * * xxmaj sunday xxmaj night * xxmaj monday xxmaj morning \n",
       " \n",
       "  mcbain ( played by xxmaj gary xxmaj busey , before the name became synonymous with the character in xxmaj the xxmaj simpsons ) is a ( typically ) unorthodox cop who gets results but winds his superiors up something rotten . xxmaj avoiding the cliché of his partner being killed at the beginning of the film , the plot instead takes a different turn and sees him assigned to travel to xxmaj mexico where a top secret xxmaj american super tank with incredible firepower and imaging capabilities has been smuggled through , only to be taken hostage , along with the crew , by a gang of terrorists . \n",
       " \n",
       "  xxmaj this cheap looking ( even by 80s standards ) , boring little action film was a bizarre career move for xxmaj gary xxmaj busey after making an impression as the flame haired villain xxmaj mr xxmaj joshua in xxmaj lethal xxmaj weapon . xxmaj he just goes through the motions with his cardboard character here , edgy and zany as ever ( with ' xxunk ' being his trademark put down for the bad guys ) , but without the material to back him up . xxmaj henry xxmaj silva has presence as a screen villain , but he 's totally miscast here as an xxmaj arab leader ( in a red beret ! ) and the awful script gives him some really clunky lines of dull dialogue that make his performance come off as laughably wooden . xxmaj he 's just one of a host of action film character actors , including xxup l.q. xxmaj jones and xxmaj lincoln xxmaj kilpatrick , who pop up but fail to add anything to the mix . xxmaj after a dull first half without much exciting action , things do pick up a bit at the end , but it 's too little too late and none of it manages the task of being any fun . *,xxbos i picked this movie up to replace the dismal choice of daytime television and to go with my thirst for femme fatales . xxmaj well , for the previous , it is better than daytime television xxrep 4 . though i 'm not sure how much . \n",
       " \n",
       "  xxmaj it does have its points but after about the first 20 - 30 minutes , the good points pan out and one comes to the conclusion that they are watching a made for xxup tv movie that was put together with not much time to make something that will hold together . xxmaj in short , a terrible xxmaj sci xxmaj fi channel type movie . \n",
       " \n",
       "  xxmaj it has its points such as the future is dirty , like \" xxmaj blade xxmaj runner \" showed xxrep 5 . of course , this is no \" xxmaj blade xxmaj runner \" . xxmaj the xxmaj captain looks , sort of feels like actor xxmaj robert xxmaj forster , the kind of person one might want to be around . \n",
       " \n",
       "  xxmaj but unfortunately , it rather ends up feeling like a bad \" xxmaj andromeda \" rehash where the muscle of the crew consists of poor copies of the smart gunners of \" xxmaj aliens \" , the mystic is vampire xxmaj willow sexually intensified , and the new xxmaj captain might as well be like xxmaj jan - xxmaj michael xxmaj vincent running around on \" xxmaj danger xxmaj island \" in the \" xxmaj banana xxmaj splits \" ; he only put on the uniform with the xxunk ; he 's got very little right to it . xxmaj all of them running around with their version of force lances inside a ship that looks very much like the ' xxmaj eureka xxmaj xxunk ' as they are fighting a class of ' people ' who occupy the universe and are broken up into several different tribes or sects of different evolutionary qualities xxrep 7 . just like the xxmaj xxunk in \" xxmaj andromeda \" . \n",
       " \n",
       "  xxmaj it might have a redeeming feature with xxmaj michael xxmaj ironside , but after a while , one gets the feeling that he took the part as a hoot ! xxmaj he probably had fun doing it , but it does n't help the movie much . \n",
       " \n",
       "  xxmaj it 's xxrep 5 . \" okay \" . xxmaj okay in the way that one might watch the xxup dvd once without turning it off ; if they watch it with commercials , they will probably change the channel . xxmaj one might watch it once xxrep 10 . but a few hours later , be wondering what it was that made them watch it all . \n",
       " \n",
       "  xxmaj for me , that was the femme fatale xxrep 13 . when she was fighting .,xxbos xxmaj the xxmaj mummy 's xxmaj tomb starts with a review of the events in xxmaj the xxmaj mummy 's xxmaj hand and then moves the story forward several years and across the ocean to the xxmaj united xxmaj states of xxmaj america where the current high priest and the mummy xxmaj kharis set out to wreak havoc and take revenge on those who violated the tomb in the past . \n",
       " \n",
       "  xxmaj while i absolutely loved \" xxmaj the xxmaj mummy \" with xxmaj boris xxmaj karloff as the mummy xxmaj imhotep , and quite liked \" xxmaj the xxmaj mummy 's xxmaj hand \" with xxmaj tom xxmaj tyler as xxmaj kharis ( which is the direct prequel to this film ) , i was not as taken with \" xxmaj the xxmaj mummy 's xxmaj tomb \" . \n",
       " \n",
       "  xxmaj it is made in a similar style as the previous film and has a somewhat similar plot albeit in a new setting . xxmaj lon xxmaj chaney xxmaj jr is okay as xxmaj kharis , but does n't really stand out . xxmaj and i guess that 's my main criticism of this movie - that nothing really stands out . xxmaj there 's nothing really terrible here , but nothing really outstanding either , so the viewer is left with a rather bland mummy 's tale .,xxbos i saw this movie in the theater when i was a kid and always remember it as my first experience with getting ripped off by a horrible movie with a good commercial . xxmaj the commercial was great , but it i found out later that it had every explosion or ' special effect ' in the entire movie ( about 4 ) and even some that were n't in the movie . xxmaj there was some sort of plot relating to the aliens but the aliens were never actually shown in the movie as far as i remember . xxmaj it was clearly a case of someone making a buck off a cheap movie designed to scam people . i guess my world of innocence ended that day , when i found out there were bad people out there who make bad bad movies .,xxbos xxmaj private xxmaj practice is supposed to be a medical drama . xxmaj so i guess my biggest complaint is the lack of originality in the medical story lines . xxmaj just by watching xxmaj house , i \" solved \" two ( out of nine ) medical mysteries before the doctors did . xxmaj boooring . xxmaj seriously , if you are a lazy writer , why not copy some cases out of older xxup er episodes or some obscure xxmaj brazilian medical soap ? xxmaj house is recent and popular - recycling their ideas is hard to get away with ... \n",
       " \n",
       "  xxmaj second biggest complaint : these people are supposed to be forty - somethings , right ? xxmaj then why do they have to behave with the emotional maturity of 15-year - olds ? xxmaj is three weeks ( ie . three whole damn episodes ) of intense thinking really necessary to understand that if your best friend does n't want to be your \" friend with benefits \" , it 's maybe not because he wants to hurt you , but because he does n't want to risk your friendship ? xxmaj the character doing all the thinking is a psychiatrist by the way - the whole storyline is just so unrealistic that you ca n't really buy into the supposed \" drama \" . \n",
       " \n",
       "  xxmaj and i wo n't even start complaining about what the show did to everyone 's favorite xxmaj addison as we got to know her in xxmaj grey 's xxmaj anatomy ... xxmaj on a sidenote , do n't you think it 's funny the way xxmaj addison ends up lusting after loser xxmaj pete ( sorry , but everyone who tries to cure insomnia with xxmaj mozart 's xxmaj requiem is a loser , phd or not ) and xxmaj derek ends up entangled in a relationship with whiny , irritating xxmaj meredith miles away in rainy xxmaj seattle ? xxmaj apart from that little fling with xxmaj mark , they seemed to be perfect for each other . xxmaj sometimes i think xxmaj xxunk xxmaj xxunk ' subconscious is trying to tell us that in relationships , our first choice is often the right one ...\n",
       "y: CategoryList\n",
       "neg,neg,neg,neg,neg\n",
       "Path: /root/.fastai/data/imdb;\n",
       "\n",
       "Valid: LabelList (25000 items)\n",
       "x: TextList\n",
       "xxbos i do n't know how this xxup dvd made its way into my collection - my wife suggested it was one of these \" 3 for £ 20 \" deals at a high street store . xxmaj the thing is n't worth xxunk , let alone £ xxunk ! xxmaj having invested heavily in it , i felt duty - bound to watch it to the end , just to make sure it was equally bad all the way through - and it was . \n",
       " \n",
       "  xxmaj the dialog was awful , the story line was impenetrable ( i still do n't understand what the hell was going on , despite having read the synopsis ) , the camera work was disjointed and hopeless , the acting was wooden ( not helped by the dialogue ) . \n",
       " \n",
       "  xxmaj in fact there were no redeeming features - no , not even the lovely xxmaj sandra xxmaj bullock , on whose glittering subsequent career this pile of dross has probably been sold . xxmaj she should get her agent to buy up all the rights to it and then bury it xxup asap . \n",
       " \n",
       "  xxmaj as a final amusing example of the director 's ineptitude , there was a scene where the young lead is conversing with his father 's ex - army sidekick while driving . xxmaj this was the clearest bit of dialogue in the film - no engine noise whatsoever ! i look forward to the engine - xxunk technology eventually making its way across the pond into xxmaj british cars !,xxbos xxmaj mild spoilers below . \n",
       " \n",
       "  xxmaj the prospect of war was clearly on the horizon when xxup xxunk was filmed . xxmaj from the opening scene of xxmaj european refugees to the final prediction that xxmaj naziism will be the death of millions of xxmaj germans , this movie is as much a propaganda film as the films made after xxmaj pearl xxmaj harbor . xxmaj there is n't a lot of entertainment value here though the footage of the dust bowl is interesting to those of us who are n't old enough to remember it . xxmaj the rest of the plot is pretty forgettable with the xxmaj herr xxmaj xxunk xxmaj coburn - with a pretty bad accent - and daughter assimilating into xxmaj america with xxmaj wayne 's help . xxmaj other than the dust bowl scenes , the only memorable aspect of the movie is one best viewed with hindsight . xxmaj coburn 's speech comparing xxmaj naziism to a xxunk worse than cancer and describing the ( then current ) successes as a momentary outburst of energy from a patient right before death were eerily accurate and xxmaj varno 's xxmaj dr. xxmaj xxunk played accurately to post war newsreel footage of unrepentant xxmaj nazis justifying their actions . \n",
       " \n",
       "  xxmaj when viewed from a historical perspective , some aspects of xxup xxunk are interesting . xxmaj if you look at it for entertainment outside of the xxup wwii perspective , you 'd have to say this is one of xxmaj wayne 's less successful efforts .,xxbos \n",
       " \n",
       "  xxup jurassic xxup park xxup iii * _ _ _ xxmaj adventure \n",
       " \n",
       "  xxmaj sam xxmaj nell ( xxmaj the xxmaj dish ) , xxmaj william xxmaj macy ( xxmaj happy xxmaj texas , xxmaj fargo ) , xxunk xxmaj leoni ( xxmaj family xxmaj man ) \n",
       " \n",
       "  a better title would be : xxup escape xxup from xxup the xxup island xxup of xxup really xxup mean xxup dinosaurs . xxmaj but then no one would need to see the film . xxmaj in this sequel , a rag - tag group pays a visit to the island of dinosaurs to rescue the teenage victim of a hang - gliding accident . \n",
       " \n",
       "  xxup access xxup hollywood reports xxup jp3 began filming without a completed script . xxmaj that explains why the film seems to have little or no purpose other than to demonstrate state - of - the - art special effects . xxmaj sure , there are a few clever scenes and some moderately funny bits , but no meaningful plot line to tie them together . xxmaj the dinosaur puppets and animation in xxup jp3 are very good to excellent , and more numerous than ever . xxmaj but the overall film experience can not hold a candle to the original xxup jurassic xxup park or even xxup xxunk . \n",
       " \n",
       "  xxup jp3 is a mercifully short 90 minutes -- the last 10 minutes of which is credits . xxmaj even at that , i found myself frequently checking my wristwatch . xxmaj the audience i saw it with left the theater in silence . \n",
       " \n",
       "  a better bet : see the movie xxup legally xxup blonde . \n",
       " \n",
       "  xxmaj dave,xxbos i am ashamed of myself that i actually went to the theatre to watch this movie when it was first released . xxmaj while i suppose its thinly veiled depiction of the xxmaj aristotle xxmaj onassis and xxmaj jackie xxmaj kennedy story is well enough done , it 's a movie that should never have been made in the first place ; hence , my low rating . \n",
       " \n",
       "  xxmaj the film chronicles the tale of a wealthy xxmaj greek business shark called xxmaj theo xxmaj tomasis , who woos and wins the lovely young widow , xxmaj liz xxmaj cassidy , of a slain xxmaj american xxmaj president . xxmaj sound familiar ? xxmaj yes , everything except the names . \n",
       " \n",
       "  xxmaj the cast is not to be faulted . xxmaj anthony xxmaj quinn plays the xxmaj greek tycoon to perfection , and at least it 's some consolation , having just read that xxmaj ari himself requested xxmaj quinn for the role . xxmaj jacqueline xxmaj bisset is of course beautiful and sophisticated in the part of ( for all intents and purposes ) xxmaj jackie , and xxmaj james xxmaj franciscus has the all xxmaj american good looks of the xxmaj president . \n",
       " \n",
       "  i have n't seen this movie since it came out , nor do i wish to see it again . i seem to recall a fair bit of bad language and some general crudeness . xxmaj otherwise , i suppose it 's a sensational and supposedly intimate glimpse into the jet setting lives of the rich and famous , frolicking aboard their xxunk , beaches , pools etc . xxmaj yes , the scenery of the xxmaj greek islands is spectacular , the best part of the movie . \n",
       " \n",
       "  xxmaj of its type , it 's okay , i suppose . xxmaj there are no end of xxup tv movies about the xxmaj kennedys , which i confess to occasionally tuning in to , and not to my credit . xxmaj this is basically just another . xxmaj far better to allow xxmaj aristotle and xxmaj jacqueline xxmaj kennedy xxmaj onassis to rest in peace .,xxbos xxmaj this movie is so predictable when you know the modern xxmaj american dream : xxmaj do nothing , be a loser and then suddenly ... whoah ! xxmaj you 're a genius and an obnoxious one and the world is kissing the ground you are walking on . \n",
       " \n",
       "  xxmaj and surprisingly all the other smart people are losers . xxmaj they do n't know anything and are bitter when our xxunk solves problems so easily . xxmaj and what kind of problems ? xxmaj they are so difficult but still these professors can analyse the results in less than 10 seconds . \n",
       " \n",
       "  xxmaj every movie has something good in it anyway and xxmaj robin xxmaj williams is it in this one .\n",
       "y: CategoryList\n",
       "neg,neg,neg,neg,neg\n",
       "Path: /root/.fastai/data/imdb;\n",
       "\n",
       "Test: None, model=SequentialRNN(\n",
       "  (0): MultiBatchEncoder(\n",
       "    (module): AWD_LSTM(\n",
       "      (encoder): Embedding(60000, 400, padding_idx=1)\n",
       "      (encoder_dp): EmbeddingDropout(\n",
       "        (emb): Embedding(60000, 400, padding_idx=1)\n",
       "      )\n",
       "      (rnns): ModuleList(\n",
       "        (0): WeightDropout(\n",
       "          (module): LSTM(400, 1152, batch_first=True)\n",
       "        )\n",
       "        (1): WeightDropout(\n",
       "          (module): LSTM(1152, 1152, batch_first=True)\n",
       "        )\n",
       "        (2): WeightDropout(\n",
       "          (module): LSTM(1152, 400, batch_first=True)\n",
       "        )\n",
       "      )\n",
       "      (input_dp): RNNDropout()\n",
       "      (hidden_dps): ModuleList(\n",
       "        (0): RNNDropout()\n",
       "        (1): RNNDropout()\n",
       "        (2): RNNDropout()\n",
       "      )\n",
       "    )\n",
       "  )\n",
       "  (1): PoolingLinearClassifier(\n",
       "    (layers): Sequential(\n",
       "      (0): BatchNorm1d(1200, eps=1e-05, momentum=0.1, affine=True, track_running_stats=True)\n",
       "      (1): Dropout(p=0.12, inplace=False)\n",
       "      (2): Linear(in_features=1200, out_features=50, bias=True)\n",
       "      (3): ReLU(inplace=True)\n",
       "      (4): BatchNorm1d(50, eps=1e-05, momentum=0.1, affine=True, track_running_stats=True)\n",
       "      (5): Dropout(p=0.1, inplace=False)\n",
       "      (6): Linear(in_features=50, out_features=2, bias=True)\n",
       "    )\n",
       "  )\n",
       "), opt_func=functools.partial(<class 'torch.optim.adam.Adam'>, betas=(0.9, 0.99)), loss_func=FlattenedLoss of CrossEntropyLoss(), metrics=[<function accuracy at 0x7f6de9f2fa60>], true_wd=True, bn_wd=True, wd=0.01, train_bn=True, path=PosixPath('/root/.fastai/data/imdb'), model_dir='models', callback_fns=[functools.partial(<class 'fastai.basic_train.Recorder'>, add_time=True, silent=False)], callbacks=[RNNTrainer\n",
       "learn: RNNLearner(data=TextClasDataBunch;\n",
       "\n",
       "Train: LabelList (25000 items)\n",
       "x: TextList\n",
       "xxbos xxup star xxup rating : xxrep 5 * xxmaj saturday xxmaj night xxrep 4 * xxmaj friday xxmaj night * * * xxmaj friday xxmaj morning * * xxmaj sunday xxmaj night * xxmaj monday xxmaj morning \n",
       " \n",
       "  mcbain ( played by xxmaj gary xxmaj busey , before the name became synonymous with the character in xxmaj the xxmaj simpsons ) is a ( typically ) unorthodox cop who gets results but winds his superiors up something rotten . xxmaj avoiding the cliché of his partner being killed at the beginning of the film , the plot instead takes a different turn and sees him assigned to travel to xxmaj mexico where a top secret xxmaj american super tank with incredible firepower and imaging capabilities has been smuggled through , only to be taken hostage , along with the crew , by a gang of terrorists . \n",
       " \n",
       "  xxmaj this cheap looking ( even by 80s standards ) , boring little action film was a bizarre career move for xxmaj gary xxmaj busey after making an impression as the flame haired villain xxmaj mr xxmaj joshua in xxmaj lethal xxmaj weapon . xxmaj he just goes through the motions with his cardboard character here , edgy and zany as ever ( with ' xxunk ' being his trademark put down for the bad guys ) , but without the material to back him up . xxmaj henry xxmaj silva has presence as a screen villain , but he 's totally miscast here as an xxmaj arab leader ( in a red beret ! ) and the awful script gives him some really clunky lines of dull dialogue that make his performance come off as laughably wooden . xxmaj he 's just one of a host of action film character actors , including xxup l.q. xxmaj jones and xxmaj lincoln xxmaj kilpatrick , who pop up but fail to add anything to the mix . xxmaj after a dull first half without much exciting action , things do pick up a bit at the end , but it 's too little too late and none of it manages the task of being any fun . *,xxbos i picked this movie up to replace the dismal choice of daytime television and to go with my thirst for femme fatales . xxmaj well , for the previous , it is better than daytime television xxrep 4 . though i 'm not sure how much . \n",
       " \n",
       "  xxmaj it does have its points but after about the first 20 - 30 minutes , the good points pan out and one comes to the conclusion that they are watching a made for xxup tv movie that was put together with not much time to make something that will hold together . xxmaj in short , a terrible xxmaj sci xxmaj fi channel type movie . \n",
       " \n",
       "  xxmaj it has its points such as the future is dirty , like \" xxmaj blade xxmaj runner \" showed xxrep 5 . of course , this is no \" xxmaj blade xxmaj runner \" . xxmaj the xxmaj captain looks , sort of feels like actor xxmaj robert xxmaj forster , the kind of person one might want to be around . \n",
       " \n",
       "  xxmaj but unfortunately , it rather ends up feeling like a bad \" xxmaj andromeda \" rehash where the muscle of the crew consists of poor copies of the smart gunners of \" xxmaj aliens \" , the mystic is vampire xxmaj willow sexually intensified , and the new xxmaj captain might as well be like xxmaj jan - xxmaj michael xxmaj vincent running around on \" xxmaj danger xxmaj island \" in the \" xxmaj banana xxmaj splits \" ; he only put on the uniform with the xxunk ; he 's got very little right to it . xxmaj all of them running around with their version of force lances inside a ship that looks very much like the ' xxmaj eureka xxmaj xxunk ' as they are fighting a class of ' people ' who occupy the universe and are broken up into several different tribes or sects of different evolutionary qualities xxrep 7 . just like the xxmaj xxunk in \" xxmaj andromeda \" . \n",
       " \n",
       "  xxmaj it might have a redeeming feature with xxmaj michael xxmaj ironside , but after a while , one gets the feeling that he took the part as a hoot ! xxmaj he probably had fun doing it , but it does n't help the movie much . \n",
       " \n",
       "  xxmaj it 's xxrep 5 . \" okay \" . xxmaj okay in the way that one might watch the xxup dvd once without turning it off ; if they watch it with commercials , they will probably change the channel . xxmaj one might watch it once xxrep 10 . but a few hours later , be wondering what it was that made them watch it all . \n",
       " \n",
       "  xxmaj for me , that was the femme fatale xxrep 13 . when she was fighting .,xxbos xxmaj the xxmaj mummy 's xxmaj tomb starts with a review of the events in xxmaj the xxmaj mummy 's xxmaj hand and then moves the story forward several years and across the ocean to the xxmaj united xxmaj states of xxmaj america where the current high priest and the mummy xxmaj kharis set out to wreak havoc and take revenge on those who violated the tomb in the past . \n",
       " \n",
       "  xxmaj while i absolutely loved \" xxmaj the xxmaj mummy \" with xxmaj boris xxmaj karloff as the mummy xxmaj imhotep , and quite liked \" xxmaj the xxmaj mummy 's xxmaj hand \" with xxmaj tom xxmaj tyler as xxmaj kharis ( which is the direct prequel to this film ) , i was not as taken with \" xxmaj the xxmaj mummy 's xxmaj tomb \" . \n",
       " \n",
       "  xxmaj it is made in a similar style as the previous film and has a somewhat similar plot albeit in a new setting . xxmaj lon xxmaj chaney xxmaj jr is okay as xxmaj kharis , but does n't really stand out . xxmaj and i guess that 's my main criticism of this movie - that nothing really stands out . xxmaj there 's nothing really terrible here , but nothing really outstanding either , so the viewer is left with a rather bland mummy 's tale .,xxbos i saw this movie in the theater when i was a kid and always remember it as my first experience with getting ripped off by a horrible movie with a good commercial . xxmaj the commercial was great , but it i found out later that it had every explosion or ' special effect ' in the entire movie ( about 4 ) and even some that were n't in the movie . xxmaj there was some sort of plot relating to the aliens but the aliens were never actually shown in the movie as far as i remember . xxmaj it was clearly a case of someone making a buck off a cheap movie designed to scam people . i guess my world of innocence ended that day , when i found out there were bad people out there who make bad bad movies .,xxbos xxmaj private xxmaj practice is supposed to be a medical drama . xxmaj so i guess my biggest complaint is the lack of originality in the medical story lines . xxmaj just by watching xxmaj house , i \" solved \" two ( out of nine ) medical mysteries before the doctors did . xxmaj boooring . xxmaj seriously , if you are a lazy writer , why not copy some cases out of older xxup er episodes or some obscure xxmaj brazilian medical soap ? xxmaj house is recent and popular - recycling their ideas is hard to get away with ... \n",
       " \n",
       "  xxmaj second biggest complaint : these people are supposed to be forty - somethings , right ? xxmaj then why do they have to behave with the emotional maturity of 15-year - olds ? xxmaj is three weeks ( ie . three whole damn episodes ) of intense thinking really necessary to understand that if your best friend does n't want to be your \" friend with benefits \" , it 's maybe not because he wants to hurt you , but because he does n't want to risk your friendship ? xxmaj the character doing all the thinking is a psychiatrist by the way - the whole storyline is just so unrealistic that you ca n't really buy into the supposed \" drama \" . \n",
       " \n",
       "  xxmaj and i wo n't even start complaining about what the show did to everyone 's favorite xxmaj addison as we got to know her in xxmaj grey 's xxmaj anatomy ... xxmaj on a sidenote , do n't you think it 's funny the way xxmaj addison ends up lusting after loser xxmaj pete ( sorry , but everyone who tries to cure insomnia with xxmaj mozart 's xxmaj requiem is a loser , phd or not ) and xxmaj derek ends up entangled in a relationship with whiny , irritating xxmaj meredith miles away in rainy xxmaj seattle ? xxmaj apart from that little fling with xxmaj mark , they seemed to be perfect for each other . xxmaj sometimes i think xxmaj xxunk xxmaj xxunk ' subconscious is trying to tell us that in relationships , our first choice is often the right one ...\n",
       "y: CategoryList\n",
       "neg,neg,neg,neg,neg\n",
       "Path: /root/.fastai/data/imdb;\n",
       "\n",
       "Valid: LabelList (25000 items)\n",
       "x: TextList\n",
       "xxbos i do n't know how this xxup dvd made its way into my collection - my wife suggested it was one of these \" 3 for £ 20 \" deals at a high street store . xxmaj the thing is n't worth xxunk , let alone £ xxunk ! xxmaj having invested heavily in it , i felt duty - bound to watch it to the end , just to make sure it was equally bad all the way through - and it was . \n",
       " \n",
       "  xxmaj the dialog was awful , the story line was impenetrable ( i still do n't understand what the hell was going on , despite having read the synopsis ) , the camera work was disjointed and hopeless , the acting was wooden ( not helped by the dialogue ) . \n",
       " \n",
       "  xxmaj in fact there were no redeeming features - no , not even the lovely xxmaj sandra xxmaj bullock , on whose glittering subsequent career this pile of dross has probably been sold . xxmaj she should get her agent to buy up all the rights to it and then bury it xxup asap . \n",
       " \n",
       "  xxmaj as a final amusing example of the director 's ineptitude , there was a scene where the young lead is conversing with his father 's ex - army sidekick while driving . xxmaj this was the clearest bit of dialogue in the film - no engine noise whatsoever ! i look forward to the engine - xxunk technology eventually making its way across the pond into xxmaj british cars !,xxbos xxmaj mild spoilers below . \n",
       " \n",
       "  xxmaj the prospect of war was clearly on the horizon when xxup xxunk was filmed . xxmaj from the opening scene of xxmaj european refugees to the final prediction that xxmaj naziism will be the death of millions of xxmaj germans , this movie is as much a propaganda film as the films made after xxmaj pearl xxmaj harbor . xxmaj there is n't a lot of entertainment value here though the footage of the dust bowl is interesting to those of us who are n't old enough to remember it . xxmaj the rest of the plot is pretty forgettable with the xxmaj herr xxmaj xxunk xxmaj coburn - with a pretty bad accent - and daughter assimilating into xxmaj america with xxmaj wayne 's help . xxmaj other than the dust bowl scenes , the only memorable aspect of the movie is one best viewed with hindsight . xxmaj coburn 's speech comparing xxmaj naziism to a xxunk worse than cancer and describing the ( then current ) successes as a momentary outburst of energy from a patient right before death were eerily accurate and xxmaj varno 's xxmaj dr. xxmaj xxunk played accurately to post war newsreel footage of unrepentant xxmaj nazis justifying their actions . \n",
       " \n",
       "  xxmaj when viewed from a historical perspective , some aspects of xxup xxunk are interesting . xxmaj if you look at it for entertainment outside of the xxup wwii perspective , you 'd have to say this is one of xxmaj wayne 's less successful efforts .,xxbos \n",
       " \n",
       "  xxup jurassic xxup park xxup iii * _ _ _ xxmaj adventure \n",
       " \n",
       "  xxmaj sam xxmaj nell ( xxmaj the xxmaj dish ) , xxmaj william xxmaj macy ( xxmaj happy xxmaj texas , xxmaj fargo ) , xxunk xxmaj leoni ( xxmaj family xxmaj man ) \n",
       " \n",
       "  a better title would be : xxup escape xxup from xxup the xxup island xxup of xxup really xxup mean xxup dinosaurs . xxmaj but then no one would need to see the film . xxmaj in this sequel , a rag - tag group pays a visit to the island of dinosaurs to rescue the teenage victim of a hang - gliding accident . \n",
       " \n",
       "  xxup access xxup hollywood reports xxup jp3 began filming without a completed script . xxmaj that explains why the film seems to have little or no purpose other than to demonstrate state - of - the - art special effects . xxmaj sure , there are a few clever scenes and some moderately funny bits , but no meaningful plot line to tie them together . xxmaj the dinosaur puppets and animation in xxup jp3 are very good to excellent , and more numerous than ever . xxmaj but the overall film experience can not hold a candle to the original xxup jurassic xxup park or even xxup xxunk . \n",
       " \n",
       "  xxup jp3 is a mercifully short 90 minutes -- the last 10 minutes of which is credits . xxmaj even at that , i found myself frequently checking my wristwatch . xxmaj the audience i saw it with left the theater in silence . \n",
       " \n",
       "  a better bet : see the movie xxup legally xxup blonde . \n",
       " \n",
       "  xxmaj dave,xxbos i am ashamed of myself that i actually went to the theatre to watch this movie when it was first released . xxmaj while i suppose its thinly veiled depiction of the xxmaj aristotle xxmaj onassis and xxmaj jackie xxmaj kennedy story is well enough done , it 's a movie that should never have been made in the first place ; hence , my low rating . \n",
       " \n",
       "  xxmaj the film chronicles the tale of a wealthy xxmaj greek business shark called xxmaj theo xxmaj tomasis , who woos and wins the lovely young widow , xxmaj liz xxmaj cassidy , of a slain xxmaj american xxmaj president . xxmaj sound familiar ? xxmaj yes , everything except the names . \n",
       " \n",
       "  xxmaj the cast is not to be faulted . xxmaj anthony xxmaj quinn plays the xxmaj greek tycoon to perfection , and at least it 's some consolation , having just read that xxmaj ari himself requested xxmaj quinn for the role . xxmaj jacqueline xxmaj bisset is of course beautiful and sophisticated in the part of ( for all intents and purposes ) xxmaj jackie , and xxmaj james xxmaj franciscus has the all xxmaj american good looks of the xxmaj president . \n",
       " \n",
       "  i have n't seen this movie since it came out , nor do i wish to see it again . i seem to recall a fair bit of bad language and some general crudeness . xxmaj otherwise , i suppose it 's a sensational and supposedly intimate glimpse into the jet setting lives of the rich and famous , frolicking aboard their xxunk , beaches , pools etc . xxmaj yes , the scenery of the xxmaj greek islands is spectacular , the best part of the movie . \n",
       " \n",
       "  xxmaj of its type , it 's okay , i suppose . xxmaj there are no end of xxup tv movies about the xxmaj kennedys , which i confess to occasionally tuning in to , and not to my credit . xxmaj this is basically just another . xxmaj far better to allow xxmaj aristotle and xxmaj jacqueline xxmaj kennedy xxmaj onassis to rest in peace .,xxbos xxmaj this movie is so predictable when you know the modern xxmaj american dream : xxmaj do nothing , be a loser and then suddenly ... whoah ! xxmaj you 're a genius and an obnoxious one and the world is kissing the ground you are walking on . \n",
       " \n",
       "  xxmaj and surprisingly all the other smart people are losers . xxmaj they do n't know anything and are bitter when our xxunk solves problems so easily . xxmaj and what kind of problems ? xxmaj they are so difficult but still these professors can analyse the results in less than 10 seconds . \n",
       " \n",
       "  xxmaj every movie has something good in it anyway and xxmaj robin xxmaj williams is it in this one .\n",
       "y: CategoryList\n",
       "neg,neg,neg,neg,neg\n",
       "Path: /root/.fastai/data/imdb;\n",
       "\n",
       "Test: None, model=SequentialRNN(\n",
       "  (0): MultiBatchEncoder(\n",
       "    (module): AWD_LSTM(\n",
       "      (encoder): Embedding(60000, 400, padding_idx=1)\n",
       "      (encoder_dp): EmbeddingDropout(\n",
       "        (emb): Embedding(60000, 400, padding_idx=1)\n",
       "      )\n",
       "      (rnns): ModuleList(\n",
       "        (0): WeightDropout(\n",
       "          (module): LSTM(400, 1152, batch_first=True)\n",
       "        )\n",
       "        (1): WeightDropout(\n",
       "          (module): LSTM(1152, 1152, batch_first=True)\n",
       "        )\n",
       "        (2): WeightDropout(\n",
       "          (module): LSTM(1152, 400, batch_first=True)\n",
       "        )\n",
       "      )\n",
       "      (input_dp): RNNDropout()\n",
       "      (hidden_dps): ModuleList(\n",
       "        (0): RNNDropout()\n",
       "        (1): RNNDropout()\n",
       "        (2): RNNDropout()\n",
       "      )\n",
       "    )\n",
       "  )\n",
       "  (1): PoolingLinearClassifier(\n",
       "    (layers): Sequential(\n",
       "      (0): BatchNorm1d(1200, eps=1e-05, momentum=0.1, affine=True, track_running_stats=True)\n",
       "      (1): Dropout(p=0.12, inplace=False)\n",
       "      (2): Linear(in_features=1200, out_features=50, bias=True)\n",
       "      (3): ReLU(inplace=True)\n",
       "      (4): BatchNorm1d(50, eps=1e-05, momentum=0.1, affine=True, track_running_stats=True)\n",
       "      (5): Dropout(p=0.1, inplace=False)\n",
       "      (6): Linear(in_features=50, out_features=2, bias=True)\n",
       "    )\n",
       "  )\n",
       "), opt_func=functools.partial(<class 'torch.optim.adam.Adam'>, betas=(0.9, 0.99)), loss_func=FlattenedLoss of CrossEntropyLoss(), metrics=[<function accuracy at 0x7f6de9f2fa60>], true_wd=True, bn_wd=True, wd=0.01, train_bn=True, path=PosixPath('/root/.fastai/data/imdb'), model_dir='models', callback_fns=[functools.partial(<class 'fastai.basic_train.Recorder'>, add_time=True, silent=False)], callbacks=[...], layer_groups=[Sequential(\n",
       "  (0): Embedding(60000, 400, padding_idx=1)\n",
       "  (1): EmbeddingDropout(\n",
       "    (emb): Embedding(60000, 400, padding_idx=1)\n",
       "  )\n",
       "), Sequential(\n",
       "  (0): WeightDropout(\n",
       "    (module): LSTM(400, 1152, batch_first=True)\n",
       "  )\n",
       "  (1): RNNDropout()\n",
       "), Sequential(\n",
       "  (0): WeightDropout(\n",
       "    (module): LSTM(1152, 1152, batch_first=True)\n",
       "  )\n",
       "  (1): RNNDropout()\n",
       "), Sequential(\n",
       "  (0): WeightDropout(\n",
       "    (module): LSTM(1152, 400, batch_first=True)\n",
       "  )\n",
       "  (1): RNNDropout()\n",
       "), Sequential(\n",
       "  (0): PoolingLinearClassifier(\n",
       "    (layers): Sequential(\n",
       "      (0): BatchNorm1d(1200, eps=1e-05, momentum=0.1, affine=True, track_running_stats=True)\n",
       "      (1): Dropout(p=0.12, inplace=False)\n",
       "      (2): Linear(in_features=1200, out_features=50, bias=True)\n",
       "      (3): ReLU(inplace=True)\n",
       "      (4): BatchNorm1d(50, eps=1e-05, momentum=0.1, affine=True, track_running_stats=True)\n",
       "      (5): Dropout(p=0.1, inplace=False)\n",
       "      (6): Linear(in_features=50, out_features=2, bias=True)\n",
       "    )\n",
       "  )\n",
       ")], add_time=True, silent=False)\n",
       "alpha: 2.0\n",
       "beta: 1.0, MixedPrecision\n",
       "learn: RNNLearner(data=TextClasDataBunch;\n",
       "\n",
       "Train: LabelList (25000 items)\n",
       "x: TextList\n",
       "xxbos xxup star xxup rating : xxrep 5 * xxmaj saturday xxmaj night xxrep 4 * xxmaj friday xxmaj night * * * xxmaj friday xxmaj morning * * xxmaj sunday xxmaj night * xxmaj monday xxmaj morning \n",
       " \n",
       "  mcbain ( played by xxmaj gary xxmaj busey , before the name became synonymous with the character in xxmaj the xxmaj simpsons ) is a ( typically ) unorthodox cop who gets results but winds his superiors up something rotten . xxmaj avoiding the cliché of his partner being killed at the beginning of the film , the plot instead takes a different turn and sees him assigned to travel to xxmaj mexico where a top secret xxmaj american super tank with incredible firepower and imaging capabilities has been smuggled through , only to be taken hostage , along with the crew , by a gang of terrorists . \n",
       " \n",
       "  xxmaj this cheap looking ( even by 80s standards ) , boring little action film was a bizarre career move for xxmaj gary xxmaj busey after making an impression as the flame haired villain xxmaj mr xxmaj joshua in xxmaj lethal xxmaj weapon . xxmaj he just goes through the motions with his cardboard character here , edgy and zany as ever ( with ' xxunk ' being his trademark put down for the bad guys ) , but without the material to back him up . xxmaj henry xxmaj silva has presence as a screen villain , but he 's totally miscast here as an xxmaj arab leader ( in a red beret ! ) and the awful script gives him some really clunky lines of dull dialogue that make his performance come off as laughably wooden . xxmaj he 's just one of a host of action film character actors , including xxup l.q. xxmaj jones and xxmaj lincoln xxmaj kilpatrick , who pop up but fail to add anything to the mix . xxmaj after a dull first half without much exciting action , things do pick up a bit at the end , but it 's too little too late and none of it manages the task of being any fun . *,xxbos i picked this movie up to replace the dismal choice of daytime television and to go with my thirst for femme fatales . xxmaj well , for the previous , it is better than daytime television xxrep 4 . though i 'm not sure how much . \n",
       " \n",
       "  xxmaj it does have its points but after about the first 20 - 30 minutes , the good points pan out and one comes to the conclusion that they are watching a made for xxup tv movie that was put together with not much time to make something that will hold together . xxmaj in short , a terrible xxmaj sci xxmaj fi channel type movie . \n",
       " \n",
       "  xxmaj it has its points such as the future is dirty , like \" xxmaj blade xxmaj runner \" showed xxrep 5 . of course , this is no \" xxmaj blade xxmaj runner \" . xxmaj the xxmaj captain looks , sort of feels like actor xxmaj robert xxmaj forster , the kind of person one might want to be around . \n",
       " \n",
       "  xxmaj but unfortunately , it rather ends up feeling like a bad \" xxmaj andromeda \" rehash where the muscle of the crew consists of poor copies of the smart gunners of \" xxmaj aliens \" , the mystic is vampire xxmaj willow sexually intensified , and the new xxmaj captain might as well be like xxmaj jan - xxmaj michael xxmaj vincent running around on \" xxmaj danger xxmaj island \" in the \" xxmaj banana xxmaj splits \" ; he only put on the uniform with the xxunk ; he 's got very little right to it . xxmaj all of them running around with their version of force lances inside a ship that looks very much like the ' xxmaj eureka xxmaj xxunk ' as they are fighting a class of ' people ' who occupy the universe and are broken up into several different tribes or sects of different evolutionary qualities xxrep 7 . just like the xxmaj xxunk in \" xxmaj andromeda \" . \n",
       " \n",
       "  xxmaj it might have a redeeming feature with xxmaj michael xxmaj ironside , but after a while , one gets the feeling that he took the part as a hoot ! xxmaj he probably had fun doing it , but it does n't help the movie much . \n",
       " \n",
       "  xxmaj it 's xxrep 5 . \" okay \" . xxmaj okay in the way that one might watch the xxup dvd once without turning it off ; if they watch it with commercials , they will probably change the channel . xxmaj one might watch it once xxrep 10 . but a few hours later , be wondering what it was that made them watch it all . \n",
       " \n",
       "  xxmaj for me , that was the femme fatale xxrep 13 . when she was fighting .,xxbos xxmaj the xxmaj mummy 's xxmaj tomb starts with a review of the events in xxmaj the xxmaj mummy 's xxmaj hand and then moves the story forward several years and across the ocean to the xxmaj united xxmaj states of xxmaj america where the current high priest and the mummy xxmaj kharis set out to wreak havoc and take revenge on those who violated the tomb in the past . \n",
       " \n",
       "  xxmaj while i absolutely loved \" xxmaj the xxmaj mummy \" with xxmaj boris xxmaj karloff as the mummy xxmaj imhotep , and quite liked \" xxmaj the xxmaj mummy 's xxmaj hand \" with xxmaj tom xxmaj tyler as xxmaj kharis ( which is the direct prequel to this film ) , i was not as taken with \" xxmaj the xxmaj mummy 's xxmaj tomb \" . \n",
       " \n",
       "  xxmaj it is made in a similar style as the previous film and has a somewhat similar plot albeit in a new setting . xxmaj lon xxmaj chaney xxmaj jr is okay as xxmaj kharis , but does n't really stand out . xxmaj and i guess that 's my main criticism of this movie - that nothing really stands out . xxmaj there 's nothing really terrible here , but nothing really outstanding either , so the viewer is left with a rather bland mummy 's tale .,xxbos i saw this movie in the theater when i was a kid and always remember it as my first experience with getting ripped off by a horrible movie with a good commercial . xxmaj the commercial was great , but it i found out later that it had every explosion or ' special effect ' in the entire movie ( about 4 ) and even some that were n't in the movie . xxmaj there was some sort of plot relating to the aliens but the aliens were never actually shown in the movie as far as i remember . xxmaj it was clearly a case of someone making a buck off a cheap movie designed to scam people . i guess my world of innocence ended that day , when i found out there were bad people out there who make bad bad movies .,xxbos xxmaj private xxmaj practice is supposed to be a medical drama . xxmaj so i guess my biggest complaint is the lack of originality in the medical story lines . xxmaj just by watching xxmaj house , i \" solved \" two ( out of nine ) medical mysteries before the doctors did . xxmaj boooring . xxmaj seriously , if you are a lazy writer , why not copy some cases out of older xxup er episodes or some obscure xxmaj brazilian medical soap ? xxmaj house is recent and popular - recycling their ideas is hard to get away with ... \n",
       " \n",
       "  xxmaj second biggest complaint : these people are supposed to be forty - somethings , right ? xxmaj then why do they have to behave with the emotional maturity of 15-year - olds ? xxmaj is three weeks ( ie . three whole damn episodes ) of intense thinking really necessary to understand that if your best friend does n't want to be your \" friend with benefits \" , it 's maybe not because he wants to hurt you , but because he does n't want to risk your friendship ? xxmaj the character doing all the thinking is a psychiatrist by the way - the whole storyline is just so unrealistic that you ca n't really buy into the supposed \" drama \" . \n",
       " \n",
       "  xxmaj and i wo n't even start complaining about what the show did to everyone 's favorite xxmaj addison as we got to know her in xxmaj grey 's xxmaj anatomy ... xxmaj on a sidenote , do n't you think it 's funny the way xxmaj addison ends up lusting after loser xxmaj pete ( sorry , but everyone who tries to cure insomnia with xxmaj mozart 's xxmaj requiem is a loser , phd or not ) and xxmaj derek ends up entangled in a relationship with whiny , irritating xxmaj meredith miles away in rainy xxmaj seattle ? xxmaj apart from that little fling with xxmaj mark , they seemed to be perfect for each other . xxmaj sometimes i think xxmaj xxunk xxmaj xxunk ' subconscious is trying to tell us that in relationships , our first choice is often the right one ...\n",
       "y: CategoryList\n",
       "neg,neg,neg,neg,neg\n",
       "Path: /root/.fastai/data/imdb;\n",
       "\n",
       "Valid: LabelList (25000 items)\n",
       "x: TextList\n",
       "xxbos i do n't know how this xxup dvd made its way into my collection - my wife suggested it was one of these \" 3 for £ 20 \" deals at a high street store . xxmaj the thing is n't worth xxunk , let alone £ xxunk ! xxmaj having invested heavily in it , i felt duty - bound to watch it to the end , just to make sure it was equally bad all the way through - and it was . \n",
       " \n",
       "  xxmaj the dialog was awful , the story line was impenetrable ( i still do n't understand what the hell was going on , despite having read the synopsis ) , the camera work was disjointed and hopeless , the acting was wooden ( not helped by the dialogue ) . \n",
       " \n",
       "  xxmaj in fact there were no redeeming features - no , not even the lovely xxmaj sandra xxmaj bullock , on whose glittering subsequent career this pile of dross has probably been sold . xxmaj she should get her agent to buy up all the rights to it and then bury it xxup asap . \n",
       " \n",
       "  xxmaj as a final amusing example of the director 's ineptitude , there was a scene where the young lead is conversing with his father 's ex - army sidekick while driving . xxmaj this was the clearest bit of dialogue in the film - no engine noise whatsoever ! i look forward to the engine - xxunk technology eventually making its way across the pond into xxmaj british cars !,xxbos xxmaj mild spoilers below . \n",
       " \n",
       "  xxmaj the prospect of war was clearly on the horizon when xxup xxunk was filmed . xxmaj from the opening scene of xxmaj european refugees to the final prediction that xxmaj naziism will be the death of millions of xxmaj germans , this movie is as much a propaganda film as the films made after xxmaj pearl xxmaj harbor . xxmaj there is n't a lot of entertainment value here though the footage of the dust bowl is interesting to those of us who are n't old enough to remember it . xxmaj the rest of the plot is pretty forgettable with the xxmaj herr xxmaj xxunk xxmaj coburn - with a pretty bad accent - and daughter assimilating into xxmaj america with xxmaj wayne 's help . xxmaj other than the dust bowl scenes , the only memorable aspect of the movie is one best viewed with hindsight . xxmaj coburn 's speech comparing xxmaj naziism to a xxunk worse than cancer and describing the ( then current ) successes as a momentary outburst of energy from a patient right before death were eerily accurate and xxmaj varno 's xxmaj dr. xxmaj xxunk played accurately to post war newsreel footage of unrepentant xxmaj nazis justifying their actions . \n",
       " \n",
       "  xxmaj when viewed from a historical perspective , some aspects of xxup xxunk are interesting . xxmaj if you look at it for entertainment outside of the xxup wwii perspective , you 'd have to say this is one of xxmaj wayne 's less successful efforts .,xxbos \n",
       " \n",
       "  xxup jurassic xxup park xxup iii * _ _ _ xxmaj adventure \n",
       " \n",
       "  xxmaj sam xxmaj nell ( xxmaj the xxmaj dish ) , xxmaj william xxmaj macy ( xxmaj happy xxmaj texas , xxmaj fargo ) , xxunk xxmaj leoni ( xxmaj family xxmaj man ) \n",
       " \n",
       "  a better title would be : xxup escape xxup from xxup the xxup island xxup of xxup really xxup mean xxup dinosaurs . xxmaj but then no one would need to see the film . xxmaj in this sequel , a rag - tag group pays a visit to the island of dinosaurs to rescue the teenage victim of a hang - gliding accident . \n",
       " \n",
       "  xxup access xxup hollywood reports xxup jp3 began filming without a completed script . xxmaj that explains why the film seems to have little or no purpose other than to demonstrate state - of - the - art special effects . xxmaj sure , there are a few clever scenes and some moderately funny bits , but no meaningful plot line to tie them together . xxmaj the dinosaur puppets and animation in xxup jp3 are very good to excellent , and more numerous than ever . xxmaj but the overall film experience can not hold a candle to the original xxup jurassic xxup park or even xxup xxunk . \n",
       " \n",
       "  xxup jp3 is a mercifully short 90 minutes -- the last 10 minutes of which is credits . xxmaj even at that , i found myself frequently checking my wristwatch . xxmaj the audience i saw it with left the theater in silence . \n",
       " \n",
       "  a better bet : see the movie xxup legally xxup blonde . \n",
       " \n",
       "  xxmaj dave,xxbos i am ashamed of myself that i actually went to the theatre to watch this movie when it was first released . xxmaj while i suppose its thinly veiled depiction of the xxmaj aristotle xxmaj onassis and xxmaj jackie xxmaj kennedy story is well enough done , it 's a movie that should never have been made in the first place ; hence , my low rating . \n",
       " \n",
       "  xxmaj the film chronicles the tale of a wealthy xxmaj greek business shark called xxmaj theo xxmaj tomasis , who woos and wins the lovely young widow , xxmaj liz xxmaj cassidy , of a slain xxmaj american xxmaj president . xxmaj sound familiar ? xxmaj yes , everything except the names . \n",
       " \n",
       "  xxmaj the cast is not to be faulted . xxmaj anthony xxmaj quinn plays the xxmaj greek tycoon to perfection , and at least it 's some consolation , having just read that xxmaj ari himself requested xxmaj quinn for the role . xxmaj jacqueline xxmaj bisset is of course beautiful and sophisticated in the part of ( for all intents and purposes ) xxmaj jackie , and xxmaj james xxmaj franciscus has the all xxmaj american good looks of the xxmaj president . \n",
       " \n",
       "  i have n't seen this movie since it came out , nor do i wish to see it again . i seem to recall a fair bit of bad language and some general crudeness . xxmaj otherwise , i suppose it 's a sensational and supposedly intimate glimpse into the jet setting lives of the rich and famous , frolicking aboard their xxunk , beaches , pools etc . xxmaj yes , the scenery of the xxmaj greek islands is spectacular , the best part of the movie . \n",
       " \n",
       "  xxmaj of its type , it 's okay , i suppose . xxmaj there are no end of xxup tv movies about the xxmaj kennedys , which i confess to occasionally tuning in to , and not to my credit . xxmaj this is basically just another . xxmaj far better to allow xxmaj aristotle and xxmaj jacqueline xxmaj kennedy xxmaj onassis to rest in peace .,xxbos xxmaj this movie is so predictable when you know the modern xxmaj american dream : xxmaj do nothing , be a loser and then suddenly ... whoah ! xxmaj you 're a genius and an obnoxious one and the world is kissing the ground you are walking on . \n",
       " \n",
       "  xxmaj and surprisingly all the other smart people are losers . xxmaj they do n't know anything and are bitter when our xxunk solves problems so easily . xxmaj and what kind of problems ? xxmaj they are so difficult but still these professors can analyse the results in less than 10 seconds . \n",
       " \n",
       "  xxmaj every movie has something good in it anyway and xxmaj robin xxmaj williams is it in this one .\n",
       "y: CategoryList\n",
       "neg,neg,neg,neg,neg\n",
       "Path: /root/.fastai/data/imdb;\n",
       "\n",
       "Test: None, model=SequentialRNN(\n",
       "  (0): MultiBatchEncoder(\n",
       "    (module): AWD_LSTM(\n",
       "      (encoder): Embedding(60000, 400, padding_idx=1)\n",
       "      (encoder_dp): EmbeddingDropout(\n",
       "        (emb): Embedding(60000, 400, padding_idx=1)\n",
       "      )\n",
       "      (rnns): ModuleList(\n",
       "        (0): WeightDropout(\n",
       "          (module): LSTM(400, 1152, batch_first=True)\n",
       "        )\n",
       "        (1): WeightDropout(\n",
       "          (module): LSTM(1152, 1152, batch_first=True)\n",
       "        )\n",
       "        (2): WeightDropout(\n",
       "          (module): LSTM(1152, 400, batch_first=True)\n",
       "        )\n",
       "      )\n",
       "      (input_dp): RNNDropout()\n",
       "      (hidden_dps): ModuleList(\n",
       "        (0): RNNDropout()\n",
       "        (1): RNNDropout()\n",
       "        (2): RNNDropout()\n",
       "      )\n",
       "    )\n",
       "  )\n",
       "  (1): PoolingLinearClassifier(\n",
       "    (layers): Sequential(\n",
       "      (0): BatchNorm1d(1200, eps=1e-05, momentum=0.1, affine=True, track_running_stats=True)\n",
       "      (1): Dropout(p=0.12, inplace=False)\n",
       "      (2): Linear(in_features=1200, out_features=50, bias=True)\n",
       "      (3): ReLU(inplace=True)\n",
       "      (4): BatchNorm1d(50, eps=1e-05, momentum=0.1, affine=True, track_running_stats=True)\n",
       "      (5): Dropout(p=0.1, inplace=False)\n",
       "      (6): Linear(in_features=50, out_features=2, bias=True)\n",
       "    )\n",
       "  )\n",
       "), opt_func=functools.partial(<class 'torch.optim.adam.Adam'>, betas=(0.9, 0.99)), loss_func=FlattenedLoss of CrossEntropyLoss(), metrics=[<function accuracy at 0x7f6de9f2fa60>], true_wd=True, bn_wd=True, wd=0.01, train_bn=True, path=PosixPath('/root/.fastai/data/imdb'), model_dir='models', callback_fns=[functools.partial(<class 'fastai.basic_train.Recorder'>, add_time=True, silent=False)], callbacks=[...], layer_groups=[Sequential(\n",
       "  (0): Embedding(60000, 400, padding_idx=1)\n",
       "  (1): EmbeddingDropout(\n",
       "    (emb): Embedding(60000, 400, padding_idx=1)\n",
       "  )\n",
       "), Sequential(\n",
       "  (0): WeightDropout(\n",
       "    (module): LSTM(400, 1152, batch_first=True)\n",
       "  )\n",
       "  (1): RNNDropout()\n",
       "), Sequential(\n",
       "  (0): WeightDropout(\n",
       "    (module): LSTM(1152, 1152, batch_first=True)\n",
       "  )\n",
       "  (1): RNNDropout()\n",
       "), Sequential(\n",
       "  (0): WeightDropout(\n",
       "    (module): LSTM(1152, 400, batch_first=True)\n",
       "  )\n",
       "  (1): RNNDropout()\n",
       "), Sequential(\n",
       "  (0): PoolingLinearClassifier(\n",
       "    (layers): Sequential(\n",
       "      (0): BatchNorm1d(1200, eps=1e-05, momentum=0.1, affine=True, track_running_stats=True)\n",
       "      (1): Dropout(p=0.12, inplace=False)\n",
       "      (2): Linear(in_features=1200, out_features=50, bias=True)\n",
       "      (3): ReLU(inplace=True)\n",
       "      (4): BatchNorm1d(50, eps=1e-05, momentum=0.1, affine=True, track_running_stats=True)\n",
       "      (5): Dropout(p=0.1, inplace=False)\n",
       "      (6): Linear(in_features=50, out_features=2, bias=True)\n",
       "    )\n",
       "  )\n",
       ")], add_time=True, silent=False)\n",
       "loss_scale: 16384.0\n",
       "max_noskip: 1000\n",
       "dynamic: True\n",
       "clip: None\n",
       "flat_master: False\n",
       "max_scale: 16777216\n",
       "loss_fp32: True], layer_groups=[Sequential(\n",
       "  (0): Embedding(60000, 400, padding_idx=1)\n",
       "  (1): EmbeddingDropout(\n",
       "    (emb): Embedding(60000, 400, padding_idx=1)\n",
       "  )\n",
       "), Sequential(\n",
       "  (0): WeightDropout(\n",
       "    (module): LSTM(400, 1152, batch_first=True)\n",
       "  )\n",
       "  (1): RNNDropout()\n",
       "), Sequential(\n",
       "  (0): WeightDropout(\n",
       "    (module): LSTM(1152, 1152, batch_first=True)\n",
       "  )\n",
       "  (1): RNNDropout()\n",
       "), Sequential(\n",
       "  (0): WeightDropout(\n",
       "    (module): LSTM(1152, 400, batch_first=True)\n",
       "  )\n",
       "  (1): RNNDropout()\n",
       "), Sequential(\n",
       "  (0): PoolingLinearClassifier(\n",
       "    (layers): Sequential(\n",
       "      (0): BatchNorm1d(1200, eps=1e-05, momentum=0.1, affine=True, track_running_stats=True)\n",
       "      (1): Dropout(p=0.12, inplace=False)\n",
       "      (2): Linear(in_features=1200, out_features=50, bias=True)\n",
       "      (3): ReLU(inplace=True)\n",
       "      (4): BatchNorm1d(50, eps=1e-05, momentum=0.1, affine=True, track_running_stats=True)\n",
       "      (5): Dropout(p=0.1, inplace=False)\n",
       "      (6): Linear(in_features=50, out_features=2, bias=True)\n",
       "    )\n",
       "  )\n",
       ")], add_time=True, silent=False)"
      ]
     },
     "execution_count": 135,
     "metadata": {},
     "output_type": "execute_result"
    }
   ],
   "source": [
    "learn_c.load('3rd')"
   ]
  },
  {
   "cell_type": "markdown",
   "metadata": {},
   "source": [
    "#### Unfreeze all the layers, train for two cycles, and save the result."
   ]
  },
  {
   "cell_type": "markdown",
   "metadata": {},
   "source": [
    "Note: at this step I encountered a `CUDA error: unspecified launch failure`. This is a known (and unsolved) problem with PyTorch when using an LSTM. https://github.com/pytorch/pytorch/issues/27837\n",
    "\n",
    "Nothing to do but try again... and it worked on the second try."
   ]
  },
  {
   "cell_type": "code",
   "execution_count": 136,
   "metadata": {},
   "outputs": [
    {
     "data": {
      "text/html": [
       "<table border=\"1\" class=\"dataframe\">\n",
       "  <thead>\n",
       "    <tr style=\"text-align: left;\">\n",
       "      <th>epoch</th>\n",
       "      <th>train_loss</th>\n",
       "      <th>valid_loss</th>\n",
       "      <th>accuracy</th>\n",
       "      <th>time</th>\n",
       "    </tr>\n",
       "  </thead>\n",
       "  <tbody>\n",
       "    <tr>\n",
       "      <td>0</td>\n",
       "      <td>0.127856</td>\n",
       "      <td>0.152767</td>\n",
       "      <td>0.943240</td>\n",
       "      <td>02:23</td>\n",
       "    </tr>\n",
       "    <tr>\n",
       "      <td>1</td>\n",
       "      <td>0.089557</td>\n",
       "      <td>0.164148</td>\n",
       "      <td>0.941640</td>\n",
       "      <td>02:28</td>\n",
       "    </tr>\n",
       "  </tbody>\n",
       "</table>"
      ],
      "text/plain": [
       "<IPython.core.display.HTML object>"
      ]
     },
     "metadata": {},
     "output_type": "display_data"
    }
   ],
   "source": [
    "learn_c.unfreeze()\n",
    "learn_c.fit_one_cycle(2, slice(1e-3/(2.6**4),1e-3), moms=(0.8,0.7))"
   ]
  },
  {
   "cell_type": "markdown",
   "metadata": {},
   "source": [
    "The state of the art for this dataset in 2017 was 94.1%, and we have crushed it!!!"
   ]
  },
  {
   "cell_type": "markdown",
   "metadata": {},
   "source": [
    "#### Save the IMDb classifer model"
   ]
  },
  {
   "cell_type": "code",
   "execution_count": 137,
   "metadata": {},
   "outputs": [],
   "source": [
    "learn_c.save('clas')"
   ]
  },
  {
   "cell_type": "markdown",
   "metadata": {},
   "source": [
    "#### Let's look at a few examples, just to check that the classifier is working as we think it should. \n",
    "The three outputs of the model predition are the label (`pos` or `neg`) and the class probability estimates for `neg` and `pos`, which meausure the model's confidence in it's prediction. As we'd expect, the model is extremely confident that the first review is `pos` and quite confident that the second review is `neg`. So it passes the test with flying colors. "
   ]
  },
  {
   "cell_type": "code",
   "execution_count": 138,
   "metadata": {},
   "outputs": [
    {
     "data": {
      "text/plain": [
       "(Category tensor(1), tensor(1), tensor([1.4342e-04, 9.9986e-01]))"
      ]
     },
     "execution_count": 138,
     "metadata": {},
     "output_type": "execute_result"
    }
   ],
   "source": [
    "learn_c.predict(\"I really loved that movie, it was awesome!\")"
   ]
  },
  {
   "cell_type": "code",
   "execution_count": 139,
   "metadata": {},
   "outputs": [
    {
     "data": {
      "text/plain": [
       "(Category tensor(0), tensor(0), tensor([9.9942e-01, 5.8042e-04]))"
      ]
     },
     "execution_count": 139,
     "metadata": {},
     "output_type": "execute_result"
    }
   ],
   "source": [
    "learn_c.predict(\"I didn't really love that movie, and I didn't think it was awesome.\")"
   ]
  },
  {
   "cell_type": "markdown",
   "metadata": {},
   "source": [
    "#### Now that we've built the model, here is the part where you get to have some fun!! Take the model for a spin, try out your own examples!!"
   ]
  },
  {
   "cell_type": "markdown",
   "metadata": {
    "heading_collapsed": true
   },
   "source": [
    "## Appendix: Language Model Zoo"
   ]
  },
  {
   "cell_type": "markdown",
   "metadata": {
    "hidden": true
   },
   "source": [
    "fast.ai alumni have applied ULMFit to dozens of different languages, and have beat the SOTA in Thai, Polish, German, Indonesian, Hindi, & Malay.\n",
    "\n",
    "They share tips and best practices in [this forum thread](https://forums.fast.ai/t/language-model-zoo-gorilla/14623) in case you are interested in getting involved!\n",
    "\n",
    "<img src=\"images/language_model_zoo.png\" alt=\"language model zoo\" style=\"width: 80%\"/>"
   ]
  }
 ],
 "metadata": {
  "kernelspec": {
   "display_name": "Python 3",
   "language": "python",
   "name": "python3"
  },
  "language_info": {
   "codemirror_mode": {
    "name": "ipython",
    "version": 3
   },
   "file_extension": ".py",
   "mimetype": "text/x-python",
   "name": "python",
   "nbconvert_exporter": "python",
   "pygments_lexer": "ipython3",
   "version": "3.6.9"
  }
 },
 "nbformat": 4,
 "nbformat_minor": 2
}
